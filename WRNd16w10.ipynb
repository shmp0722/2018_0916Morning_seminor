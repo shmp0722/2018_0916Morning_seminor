{
  "nbformat": 4,
  "nbformat_minor": 0,
  "metadata": {
    "colab": {
      "name": "WRNd16w10.ipynb",
      "version": "0.3.2",
      "provenance": [],
      "collapsed_sections": [],
      "include_colab_link": true
    },
    "kernelspec": {
      "name": "python2",
      "display_name": "Python 2"
    },
    "accelerator": "GPU"
  },
  "cells": [
    {
      "cell_type": "markdown",
      "metadata": {
        "id": "view-in-github",
        "colab_type": "text"
      },
      "source": [
        "[View in Colaboratory](https://colab.research.google.com/github/shmp0722/2018_0916Morning_seminor/blob/master/WRNd16w10.ipynb)"
      ]
    },
    {
      "metadata": {
        "id": "39rAHvjLgEJ-",
        "colab_type": "code",
        "colab": {
          "base_uri": "https://localhost:8080/",
          "height": 2280
        },
        "outputId": "29c8aba5-5bc2-4a84-c64c-ea0e95962f53"
      },
      "cell_type": "code",
      "source": [
        "# Install a Drive FUSE wrapper.\n",
        "# https://github.com/astrada/google-drive-ocamlfuse\n",
        "!apt-get install -y -qq software-properties-common python-software-properties module-init-tools\n",
        "!add-apt-repository -y ppa:alessandro-strada/ppa 2>&1 > /dev/null\n",
        "!apt-get update -qq 2>&1 > /dev/null\n",
        "!apt-get -y install -qq google-drive-ocamlfuse fuse"
      ],
      "execution_count": 2,
      "outputs": [
        {
          "output_type": "stream",
          "text": [
            "Preconfiguring packages ...\n",
            "Selecting previously unselected package cron.\n",
            "(Reading database ... 16633 files and directories currently installed.)\n",
            "Preparing to unpack .../00-cron_3.0pl1-128ubuntu5_amd64.deb ...\n",
            "Unpacking cron (3.0pl1-128ubuntu5) ...\n",
            "Selecting previously unselected package libapparmor1:amd64.\n",
            "Preparing to unpack .../01-libapparmor1_2.11.0-2ubuntu17_amd64.deb ...\n",
            "Unpacking libapparmor1:amd64 (2.11.0-2ubuntu17) ...\n",
            "Selecting previously unselected package libdbus-1-3:amd64.\n",
            "Preparing to unpack .../02-libdbus-1-3_1.10.22-1ubuntu1_amd64.deb ...\n",
            "Unpacking libdbus-1-3:amd64 (1.10.22-1ubuntu1) ...\n",
            "Selecting previously unselected package dbus.\n",
            "Preparing to unpack .../03-dbus_1.10.22-1ubuntu1_amd64.deb ...\n",
            "Unpacking dbus (1.10.22-1ubuntu1) ...\n",
            "Selecting previously unselected package dirmngr.\n",
            "Preparing to unpack .../04-dirmngr_2.1.15-1ubuntu8_amd64.deb ...\n",
            "Unpacking dirmngr (2.1.15-1ubuntu8) ...\n",
            "Selecting previously unselected package distro-info-data.\n",
            "Preparing to unpack .../05-distro-info-data_0.36ubuntu0.1_all.deb ...\n",
            "Unpacking distro-info-data (0.36ubuntu0.1) ...\n",
            "Selecting previously unselected package libkmod2:amd64.\n",
            "Preparing to unpack .../06-libkmod2_24-1ubuntu2_amd64.deb ...\n",
            "Unpacking libkmod2:amd64 (24-1ubuntu2) ...\n",
            "Selecting previously unselected package kmod.\n",
            "Preparing to unpack .../07-kmod_24-1ubuntu2_amd64.deb ...\n",
            "Unpacking kmod (24-1ubuntu2) ...\n",
            "Selecting previously unselected package lsb-release.\n",
            "Preparing to unpack .../08-lsb-release_9.20160110ubuntu5_all.deb ...\n",
            "Unpacking lsb-release (9.20160110ubuntu5) ...\n",
            "Selecting previously unselected package libgirepository-1.0-1:amd64.\n",
            "Preparing to unpack .../09-libgirepository-1.0-1_1.54.1-1_amd64.deb ...\n",
            "Unpacking libgirepository-1.0-1:amd64 (1.54.1-1) ...\n",
            "Selecting previously unselected package gir1.2-glib-2.0:amd64.\n",
            "Preparing to unpack .../10-gir1.2-glib-2.0_1.54.1-1_amd64.deb ...\n",
            "Unpacking gir1.2-glib-2.0:amd64 (1.54.1-1) ...\n",
            "Selecting previously unselected package iso-codes.\n",
            "Preparing to unpack .../11-iso-codes_3.75-1_all.deb ...\n",
            "Unpacking iso-codes (3.75-1) ...\n",
            "Selecting previously unselected package libdbus-glib-1-2:amd64.\n",
            "Preparing to unpack .../12-libdbus-glib-1-2_0.108-2_amd64.deb ...\n",
            "Unpacking libdbus-glib-1-2:amd64 (0.108-2) ...\n",
            "Selecting previously unselected package python-apt-common.\n",
            "Preparing to unpack .../13-python-apt-common_1.4.0~beta3build2_all.deb ...\n",
            "Unpacking python-apt-common (1.4.0~beta3build2) ...\n",
            "Selecting previously unselected package python3-apt.\n",
            "Preparing to unpack .../14-python3-apt_1.4.0~beta3build2_amd64.deb ...\n",
            "Unpacking python3-apt (1.4.0~beta3build2) ...\n",
            "Selecting previously unselected package python3-dbus.\n",
            "Preparing to unpack .../15-python3-dbus_1.2.4-1build3_amd64.deb ...\n",
            "Unpacking python3-dbus (1.2.4-1build3) ...\n",
            "Selecting previously unselected package python3-gi.\n",
            "Preparing to unpack .../16-python3-gi_3.24.1-2build1_amd64.deb ...\n",
            "Unpacking python3-gi (3.24.1-2build1) ...\n",
            "Selecting previously unselected package module-init-tools.\n",
            "Preparing to unpack .../17-module-init-tools_24-1ubuntu2_all.deb ...\n",
            "Unpacking module-init-tools (24-1ubuntu2) ...\n",
            "Selecting previously unselected package python-apt.\n",
            "Preparing to unpack .../18-python-apt_1.4.0~beta3build2_amd64.deb ...\n",
            "Unpacking python-apt (1.4.0~beta3build2) ...\n",
            "Selecting previously unselected package python-pycurl.\n",
            "Preparing to unpack .../19-python-pycurl_7.43.0-2build2_amd64.deb ...\n",
            "Unpacking python-pycurl (7.43.0-2build2) ...\n",
            "Selecting previously unselected package python-software-properties.\n",
            "Preparing to unpack .../20-python-software-properties_0.96.24.17_all.deb ...\n",
            "Unpacking python-software-properties (0.96.24.17) ...\n",
            "Selecting previously unselected package python3-software-properties.\n",
            "Preparing to unpack .../21-python3-software-properties_0.96.24.17_all.deb ...\n",
            "Unpacking python3-software-properties (0.96.24.17) ...\n",
            "Selecting previously unselected package software-properties-common.\n",
            "Preparing to unpack .../22-software-properties-common_0.96.24.17_all.deb ...\n",
            "Unpacking software-properties-common (0.96.24.17) ...\n",
            "Selecting previously unselected package unattended-upgrades.\n",
            "Preparing to unpack .../23-unattended-upgrades_0.98ubuntu1.1_all.deb ...\n",
            "Unpacking unattended-upgrades (0.98ubuntu1.1) ...\n",
            "Setting up python-apt-common (1.4.0~beta3build2) ...\n",
            "Setting up python3-apt (1.4.0~beta3build2) ...\n",
            "Setting up iso-codes (3.75-1) ...\n",
            "Setting up distro-info-data (0.36ubuntu0.1) ...\n",
            "Setting up python-pycurl (7.43.0-2build2) ...\n",
            "Setting up lsb-release (9.20160110ubuntu5) ...\n",
            "Setting up libgirepository-1.0-1:amd64 (1.54.1-1) ...\n",
            "Setting up libkmod2:amd64 (24-1ubuntu2) ...\n",
            "Setting up gir1.2-glib-2.0:amd64 (1.54.1-1) ...\n",
            "Processing triggers for libc-bin (2.26-0ubuntu2) ...\n",
            "Setting up libapparmor1:amd64 (2.11.0-2ubuntu17) ...\n",
            "Setting up unattended-upgrades (0.98ubuntu1.1) ...\n",
            "\n",
            "Creating config file /etc/apt/apt.conf.d/20auto-upgrades with new version\n",
            "\n",
            "Creating config file /etc/apt/apt.conf.d/50unattended-upgrades with new version\n",
            "invoke-rc.d: could not determine current runlevel\n",
            "invoke-rc.d: policy-rc.d denied execution of start.\n",
            "Setting up dirmngr (2.1.15-1ubuntu8) ...\n",
            "Setting up cron (3.0pl1-128ubuntu5) ...\n"
          ],
          "name": "stdout"
        },
        {
          "output_type": "stream",
          "text": [
            "Adding group `crontab' (GID 102) ...\r\n",
            "Done.\n",
            "update-rc.d: warning: start and stop actions are no longer supported; falling back to defaults\n",
            "update-rc.d: warning: stop runlevel arguments (1) do not match cron Default-Stop values (none)\n",
            "invoke-rc.d: could not determine current runlevel\n",
            "invoke-rc.d: policy-rc.d denied execution of start.\n",
            "Setting up libdbus-1-3:amd64 (1.10.22-1ubuntu1) ...\n",
            "Setting up kmod (24-1ubuntu2) ...\n",
            "Setting up libdbus-glib-1-2:amd64 (0.108-2) ...\n",
            "Setting up python3-gi (3.24.1-2build1) ...\n",
            "Setting up module-init-tools (24-1ubuntu2) ...\n",
            "Setting up python3-software-properties (0.96.24.17) ...\n",
            "Setting up dbus (1.10.22-1ubuntu1) ...\n",
            "Setting up python-apt (1.4.0~beta3build2) ...\n",
            "Setting up python3-dbus (1.2.4-1build3) ...\n",
            "Setting up python-software-properties (0.96.24.17) ...\n",
            "Setting up software-properties-common (0.96.24.17) ...\n",
            "Processing triggers for libc-bin (2.26-0ubuntu2) ...\n",
            "Processing triggers for dbus (1.10.22-1ubuntu1) ...\n",
            "gpg: keybox '/tmp/tmpak3a7pjl/pubring.gpg' created\n",
            "gpg: /tmp/tmpak3a7pjl/trustdb.gpg: trustdb created\n",
            "gpg: key AD5F235DF639B041: public key \"Launchpad PPA for Alessandro Strada\" imported\n",
            "gpg: Total number processed: 1\n",
            "gpg:               imported: 1\n",
            "Warning: apt-key output should not be parsed (stdout is not a terminal)\n",
            "Selecting previously unselected package libfuse2:amd64.\n",
            "(Reading database ... 18041 files and directories currently installed.)\n",
            "Preparing to unpack .../libfuse2_2.9.7-1ubuntu1_amd64.deb ...\n",
            "Unpacking libfuse2:amd64 (2.9.7-1ubuntu1) ...\n",
            "Selecting previously unselected package fuse.\n",
            "Preparing to unpack .../fuse_2.9.7-1ubuntu1_amd64.deb ...\n",
            "Unpacking fuse (2.9.7-1ubuntu1) ...\n",
            "Selecting previously unselected package google-drive-ocamlfuse.\n",
            "Preparing to unpack .../google-drive-ocamlfuse_0.6.21-0ubuntu2_amd64.deb ...\n",
            "Unpacking google-drive-ocamlfuse (0.6.21-0ubuntu2) ...\n",
            "Setting up libfuse2:amd64 (2.9.7-1ubuntu1) ...\n",
            "Processing triggers for libc-bin (2.26-0ubuntu2) ...\n",
            "Setting up fuse (2.9.7-1ubuntu1) ...\n",
            "Setting up google-drive-ocamlfuse (0.6.21-0ubuntu2) ...\n"
          ],
          "name": "stdout"
        }
      ]
    },
    {
      "metadata": {
        "id": "Dmo1E3TNgcgf",
        "colab_type": "code",
        "colab": {}
      },
      "cell_type": "code",
      "source": [
        "# Generate auth tokens for Colab\n",
        "from google.colab import auth\n",
        "auth.authenticate_user()"
      ],
      "execution_count": 0,
      "outputs": []
    },
    {
      "metadata": {
        "id": "4SqUwPVtgdTd",
        "colab_type": "code",
        "colab": {
          "base_uri": "https://localhost:8080/",
          "height": 107
        },
        "outputId": "30ac9ec3-6a5e-45c3-aef6-9fb03a57e77d"
      },
      "cell_type": "code",
      "source": [
        "# Generate creds for the Drive FUSE library.\n",
        "from oauth2client.client import GoogleCredentials\n",
        "creds = GoogleCredentials.get_application_default()\n",
        "import getpass\n",
        "!google-drive-ocamlfuse -headless -id={creds.client_id} -secret={creds.client_secret} < /dev/null 2>&1 | grep URL\n",
        "vcode = getpass.getpass()\n",
        "!echo {vcode} | google-drive-ocamlfuse -headless -id={creds.client_id} -secret={creds.client_secret}"
      ],
      "execution_count": 4,
      "outputs": [
        {
          "output_type": "stream",
          "text": [
            "Please, open the following URL in a web browser: https://accounts.google.com/o/oauth2/auth?client_id=32555940559.apps.googleusercontent.com&redirect_uri=urn%3Aietf%3Awg%3Aoauth%3A2.0%3Aoob&scope=https%3A%2F%2Fwww.googleapis.com%2Fauth%2Fdrive&response_type=code&access_type=offline&approval_prompt=force\r\n",
            "··········\n",
            "Please, open the following URL in a web browser: https://accounts.google.com/o/oauth2/auth?client_id=32555940559.apps.googleusercontent.com&redirect_uri=urn%3Aietf%3Awg%3Aoauth%3A2.0%3Aoob&scope=https%3A%2F%2Fwww.googleapis.com%2Fauth%2Fdrive&response_type=code&access_type=offline&approval_prompt=force\n",
            "Please enter the verification code: Access token retrieved correctly.\n"
          ],
          "name": "stdout"
        }
      ]
    },
    {
      "metadata": {
        "id": "g1PYMt9cgkQd",
        "colab_type": "code",
        "colab": {}
      },
      "cell_type": "code",
      "source": [
        "# Create a directory and mount Google Drive using that directory.\n",
        "!mkdir -p drive\n",
        "!google-drive-ocamlfuse drive"
      ],
      "execution_count": 0,
      "outputs": []
    },
    {
      "metadata": {
        "id": "qHEvPxAzgz_e",
        "colab_type": "code",
        "colab": {
          "base_uri": "https://localhost:8080/",
          "height": 36
        },
        "outputId": "ce454fd6-a700-4e4b-93c8-9243de0b5efb"
      },
      "cell_type": "code",
      "source": [
        "cd drive/Colab\\ Notebooks"
      ],
      "execution_count": 6,
      "outputs": [
        {
          "output_type": "stream",
          "text": [
            "/content/drive/Colab Notebooks\n"
          ],
          "name": "stdout"
        }
      ]
    },
    {
      "metadata": {
        "id": "n59Ezps_g_GF",
        "colab_type": "code",
        "colab": {}
      },
      "cell_type": "code",
      "source": [
        "# !git clone https://github.com/szagoruyko/wide-residual-networks.git\n",
        "# This will fail"
      ],
      "execution_count": 0,
      "outputs": []
    },
    {
      "metadata": {
        "id": "DLOV3It6qOWt",
        "colab_type": "code",
        "colab": {
          "base_uri": "https://localhost:8080/",
          "height": 289
        },
        "outputId": "ea933026-bfe7-4b0f-eea6-8c1fd1c2cfdd"
      },
      "cell_type": "code",
      "source": [
        "!wget https://github.com/szagoruyko/wide-residual-networks/archive/master.zip"
      ],
      "execution_count": 8,
      "outputs": [
        {
          "output_type": "stream",
          "text": [
            "--2018-02-04 14:41:43--  https://github.com/szagoruyko/wide-residual-networks/archive/master.zip\r\n",
            "Resolving github.com (github.com)... 192.30.253.112, 192.30.253.113\n",
            "Connecting to github.com (github.com)|192.30.253.112|:443... connected.\n",
            "HTTP request sent, awaiting response... 302 Found\n",
            "Location: https://codeload.github.com/szagoruyko/wide-residual-networks/zip/master [following]\n",
            "--2018-02-04 14:41:43--  https://codeload.github.com/szagoruyko/wide-residual-networks/zip/master\n",
            "Resolving codeload.github.com (codeload.github.com)... 192.30.253.120, 192.30.253.121\n",
            "Connecting to codeload.github.com (codeload.github.com)|192.30.253.120|:443... connected.\n",
            "HTTP request sent, awaiting response... 200 OK\n",
            "Length: unspecified [application/zip]\n",
            "Saving to: ‘master.zip.1’\n",
            "\n",
            "master.zip.1            [     <=>            ]  64.52K  68.0KB/s    in 0.9s    \n",
            "\n",
            "2018-02-04 14:41:48 (68.0 KB/s) - ‘master.zip.1’ saved [66072]\n",
            "\n"
          ],
          "name": "stdout"
        }
      ]
    },
    {
      "metadata": {
        "id": "kSnwhHg6i2iK",
        "colab_type": "code",
        "colab": {
          "base_uri": "https://localhost:8080/",
          "height": 155
        },
        "outputId": "ed47ee24-dde5-417c-eb5c-5e121b13a8e0"
      },
      "cell_type": "code",
      "source": [
        "!unzip master.zip wide-residual-networks-master/pytorch/*\n",
        "!mv wide-residual-networks-master WRNd16w10"
      ],
      "execution_count": 9,
      "outputs": [
        {
          "output_type": "stream",
          "text": [
            "Archive:  master.zip\r\n",
            "748c129d02bdecb2861ed339f2e376d95620e2f4\n",
            "   creating: wide-residual-networks-master/pytorch/\n",
            "  inflating: wide-residual-networks-master/pytorch/README.md  \n",
            "  inflating: wide-residual-networks-master/pytorch/main.py  \n",
            "  inflating: wide-residual-networks-master/pytorch/requirements.txt  \n",
            "  inflating: wide-residual-networks-master/pytorch/resnet.py  \n",
            "  inflating: wide-residual-networks-master/pytorch/utils.py  \n"
          ],
          "name": "stdout"
        }
      ]
    },
    {
      "metadata": {
        "id": "mZwYZqyki-47",
        "colab_type": "code",
        "colab": {
          "base_uri": "https://localhost:8080/",
          "height": 36
        },
        "outputId": "ac3afd61-18a3-4b64-d95f-d46770d39575"
      },
      "cell_type": "code",
      "source": [
        "cd WRNd16w10/pytorch/"
      ],
      "execution_count": 9,
      "outputs": [
        {
          "output_type": "stream",
          "text": [
            "/content/drive/Colab Notebooks/WRNd16w10/pytorch\n"
          ],
          "name": "stdout"
        }
      ]
    },
    {
      "metadata": {
        "id": "mzZ0UJX1j2pp",
        "colab_type": "code",
        "colab": {
          "base_uri": "https://localhost:8080/",
          "height": 36
        },
        "outputId": "10e0c962-4353-4b6e-e1ad-2606824598f9"
      },
      "cell_type": "code",
      "source": [
        "!mkdir logs\n",
        "!ls"
      ],
      "execution_count": 11,
      "outputs": [
        {
          "output_type": "stream",
          "text": [
            "logs  main.py  README.md  requirements.txt  resnet.py  utils.py\r\n"
          ],
          "name": "stdout"
        }
      ]
    },
    {
      "metadata": {
        "id": "_m3Xo6FTlyAS",
        "colab_type": "code",
        "colab": {}
      },
      "cell_type": "code",
      "source": [
        "# http://pytorch.org/\n",
        "from os import path\n",
        "from wheel.pep425tags import get_abbr_impl, get_impl_ver, get_abi_tag\n",
        "platform = '{}{}-{}'.format(get_abbr_impl(), get_impl_ver(), get_abi_tag())\n",
        "\n",
        "accelerator = 'cu80' if path.exists('/opt/bin/nvidia-smi') else 'cpu'\n",
        "\n",
        "!pip install -q http://download.pytorch.org/whl/{accelerator}/torch-0.3.0.post4-{platform}-linux_x86_64.whl torchvision"
      ],
      "execution_count": 0,
      "outputs": []
    },
    {
      "metadata": {
        "id": "g1LTYQoKkYNZ",
        "colab_type": "code",
        "colab": {}
      },
      "cell_type": "code",
      "source": [
        "#!pip install -r requirements.txt\n",
        "# This will fail"
      ],
      "execution_count": 0,
      "outputs": []
    },
    {
      "metadata": {
        "id": "OVqEQ8BfmeV5",
        "colab_type": "code",
        "colab": {
          "base_uri": "https://localhost:8080/",
          "height": 206
        },
        "outputId": "9a31b2ae-144d-4173-c119-d33abaadcd0a"
      },
      "cell_type": "code",
      "source": [
        "!pip install nested_dict tqdm"
      ],
      "execution_count": 11,
      "outputs": [
        {
          "output_type": "stream",
          "text": [
            "Collecting nested_dict\n",
            "  Downloading nested_dict-1.61.tar.gz\n",
            "Collecting tqdm\n",
            "  Downloading tqdm-4.19.5-py2.py3-none-any.whl (51kB)\n",
            "\u001b[K    100% |████████████████████████████████| 61kB 3.6MB/s \n",
            "\u001b[?25hBuilding wheels for collected packages: nested-dict\n",
            "  Running setup.py bdist_wheel for nested-dict ... \u001b[?25l-\b \bdone\n",
            "\u001b[?25h  Stored in directory: /content/.cache/pip/wheels/d8/23/63/2898ad5992421f7362a70fe9d3be25d23705ad89b9313c0eb4\n",
            "Successfully built nested-dict\n",
            "Installing collected packages: nested-dict, tqdm\n",
            "Successfully installed nested-dict-1.61 tqdm-4.19.5\n"
          ],
          "name": "stdout"
        }
      ]
    },
    {
      "metadata": {
        "id": "SHTbjKWRlRT4",
        "colab_type": "code",
        "colab": {
          "base_uri": "https://localhost:8080/",
          "height": 529
        },
        "outputId": "89fbcc18-f594-4ab1-d186-dfb22ad2bd79"
      },
      "cell_type": "code",
      "source": [
        "!pip install git+https://github.com/pytorch/tnt.git@master"
      ],
      "execution_count": 12,
      "outputs": [
        {
          "output_type": "stream",
          "text": [
            "Collecting git+https://github.com/pytorch/tnt.git@master\r\n",
            "  Cloning https://github.com/pytorch/tnt.git (to master) to /tmp/pip-Q2DI9_-build\n",
            "Requirement already satisfied: six in /usr/local/lib/python2.7/dist-packages (from torchnet==0.0.1)\n",
            "Requirement already satisfied: torch in /usr/local/lib/python2.7/dist-packages (from torchnet==0.0.1)\n",
            "Collecting visdom (from torchnet==0.0.1)\n",
            "  Downloading visdom-0.1.7.tar.gz (43kB)\n",
            "\u001b[K    100% |████████████████████████████████| 51kB 1.8MB/s \n",
            "\u001b[?25hRequirement already satisfied: numpy in /usr/local/lib/python2.7/dist-packages (from torch->torchnet==0.0.1)\n",
            "Requirement already satisfied: pyyaml in /usr/local/lib/python2.7/dist-packages (from torch->torchnet==0.0.1)\n",
            "Requirement already satisfied: pillow in /usr/local/lib/python2.7/dist-packages (from visdom->torchnet==0.0.1)\n",
            "Requirement already satisfied: pyzmq in /usr/local/lib/python2.7/dist-packages (from visdom->torchnet==0.0.1)\n",
            "Requirement already satisfied: requests in /usr/local/lib/python2.7/dist-packages (from visdom->torchnet==0.0.1)\n",
            "Collecting torchfile (from visdom->torchnet==0.0.1)\n",
            "  Downloading torchfile-0.1.0.tar.gz\n",
            "Requirement already satisfied: tornado in /usr/local/lib/python2.7/dist-packages (from visdom->torchnet==0.0.1)\n",
            "Requirement already satisfied: idna<2.7,>=2.5 in /usr/local/lib/python2.7/dist-packages (from requests->visdom->torchnet==0.0.1)\n",
            "Requirement already satisfied: urllib3<1.23,>=1.21.1 in /usr/local/lib/python2.7/dist-packages (from requests->visdom->torchnet==0.0.1)\n",
            "Requirement already satisfied: certifi>=2017.4.17 in /usr/local/lib/python2.7/dist-packages (from requests->visdom->torchnet==0.0.1)\n",
            "Requirement already satisfied: chardet<3.1.0,>=3.0.2 in /usr/local/lib/python2.7/dist-packages (from requests->visdom->torchnet==0.0.1)\n",
            "Requirement already satisfied: backports_abc>=0.4 in /usr/local/lib/python2.7/dist-packages (from tornado->visdom->torchnet==0.0.1)\n",
            "Requirement already satisfied: singledispatch in /usr/local/lib/python2.7/dist-packages (from tornado->visdom->torchnet==0.0.1)\n",
            "Building wheels for collected packages: visdom, torchfile\n",
            "  Running setup.py bdist_wheel for visdom ... \u001b[?25l-\b \bdone\n",
            "\u001b[?25h  Stored in directory: /content/.cache/pip/wheels/d3/45/ad/a5b60260d8e6122de5cbafd192ba55aa61d9b23c3b43aff34c\n",
            "  Running setup.py bdist_wheel for torchfile ... \u001b[?25l-\b \bdone\n",
            "\u001b[?25h  Stored in directory: /content/.cache/pip/wheels/27/0a/74/650124cbc320716ff2a6566e711a0c84f871647b33ffc868f6\n",
            "Successfully built visdom torchfile\n",
            "Installing collected packages: torchfile, visdom, torchnet\n",
            "  Running setup.py install for torchnet ... \u001b[?25l-\b \bdone\n",
            "\u001b[?25hSuccessfully installed torchfile-0.1.0 torchnet-0.0.1 visdom-0.1.7\n"
          ],
          "name": "stdout"
        }
      ]
    },
    {
      "metadata": {
        "id": "J_tXeTsFlb7I",
        "colab_type": "code",
        "colab": {}
      },
      "cell_type": "code",
      "source": [
        "from main import main"
      ],
      "execution_count": 0,
      "outputs": []
    },
    {
      "metadata": {
        "id": "DfFvyoMpmXDR",
        "colab_type": "code",
        "colab": {
          "base_uri": "https://localhost:8080/",
          "height": 56
        },
        "outputId": "3fc4ce3e-811d-499f-cb5f-e393ce5bd7e6"
      },
      "cell_type": "code",
      "source": [
        "import sys\n",
        "print(sys.argv)"
      ],
      "execution_count": 14,
      "outputs": [
        {
          "output_type": "stream",
          "text": [
            "['/usr/local/lib/python2.7/dist-packages/ipykernel_launcher.py', '-f', '/content/.local/share/jupyter/runtime/kernel-eaae9ad2-6c36-48d6-833f-16ce94a2f4ca.json']\n"
          ],
          "name": "stdout"
        }
      ]
    },
    {
      "metadata": {
        "id": "fCy_dlxHm7e0",
        "colab_type": "code",
        "colab": {
          "base_uri": "https://localhost:8080/",
          "height": 12942
        },
        "outputId": "6849806e-8ccd-4104-c6cd-d3eed32a2652"
      },
      "cell_type": "code",
      "source": [
        "# It will about 10 minutes to download cifar-10-python.tar.gz and start first epoch\n",
        "new_argv = \"main.py --save ./logs/resnet_20180204 --depth 16 --width 10 --ngpu 1 --gpu_id 0\".split(\" \")\n",
        "sys.argv = new_argv\n",
        "main()"
      ],
      "execution_count": 0,
      "outputs": [
        {
          "output_type": "stream",
          "text": [
            "('parsed options:', {'save': './logs/resnet_20180204', 'resume': '', 'dtype': 'float', 'lr_decay_ratio': 0.2, 'gpu_id': '0', 'nthread': 4, 'batch_size': 128, 'dataset': 'CIFAR10', 'epochs': 200, 'width': 10.0, 'depth': 16, 'randomcrop_pad': 4, 'lr': 0.1, 'cuda': False, 'groups': 1, 'dataroot': '.', 'ngpu': 1, 'model': 'resnet', 'weight_decay': 0.0005, 'epoch_step': '[60,120,160]'})\n",
            "Downloading https://www.cs.toronto.edu/~kriz/cifar-10-python.tar.gz to ./cifar-10-python.tar.gz\n",
            "Files already downloaded and verified\n",
            "('creating optimizer with lr = ', 0.1)\n",
            "\n",
            "Parameters:\n",
            "('0    ', 'bn.bias                    ', '(640L,)                ', 'torch.cuda.FloatTensor')\n",
            "('1    ', 'bn.weight                  ', '(640L,)                ', 'torch.cuda.FloatTensor')\n",
            "('2    ', 'fc.bias                    ', '(10L,)                 ', 'torch.cuda.FloatTensor')\n",
            "('3    ', 'fc.weight                  ', '(10L, 640L)            ', 'torch.cuda.FloatTensor')\n",
            "('4    ', 'conv0                      ', '(16L, 3L, 3L, 3L)      ', 'torch.cuda.FloatTensor')\n",
            "('5    ', 'group1.block1.conv0        ', '(320L, 320L, 3L, 3L)   ', 'torch.cuda.FloatTensor')\n",
            "('6    ', 'group1.block1.conv1        ', '(320L, 320L, 3L, 3L)   ', 'torch.cuda.FloatTensor')\n",
            "('7    ', 'group1.block1.bn0.bias     ', '(320L,)                ', 'torch.cuda.FloatTensor')\n",
            "('8    ', 'group1.block1.bn0.weight   ', '(320L,)                ', 'torch.cuda.FloatTensor')\n",
            "('9    ', 'group1.block1.bn1.bias     ', '(320L,)                ', 'torch.cuda.FloatTensor')\n",
            "('10   ', 'group1.block1.bn1.weight   ', '(320L,)                ', 'torch.cuda.FloatTensor')\n",
            "('11   ', 'group1.block0.conv0        ', '(320L, 160L, 3L, 3L)   ', 'torch.cuda.FloatTensor')\n",
            "('12   ', 'group1.block0.conv1        ', '(320L, 320L, 3L, 3L)   ', 'torch.cuda.FloatTensor')\n",
            "('13   ', 'group1.block0.bn0.bias     ', '(160L,)                ', 'torch.cuda.FloatTensor')\n",
            "('14   ', 'group1.block0.bn0.weight   ', '(160L,)                ', 'torch.cuda.FloatTensor')\n",
            "('15   ', 'group1.block0.bn1.bias     ', '(320L,)                ', 'torch.cuda.FloatTensor')\n",
            "('16   ', 'group1.block0.bn1.weight   ', '(320L,)                ', 'torch.cuda.FloatTensor')\n",
            "('17   ', 'group1.block0.convdim      ', '(320L, 160L, 1L, 1L)   ', 'torch.cuda.FloatTensor')\n",
            "('18   ', 'group0.block1.conv0        ', '(160L, 160L, 3L, 3L)   ', 'torch.cuda.FloatTensor')\n",
            "('19   ', 'group0.block1.conv1        ', '(160L, 160L, 3L, 3L)   ', 'torch.cuda.FloatTensor')\n",
            "('20   ', 'group0.block1.bn0.bias     ', '(160L,)                ', 'torch.cuda.FloatTensor')\n",
            "('21   ', 'group0.block1.bn0.weight   ', '(160L,)                ', 'torch.cuda.FloatTensor')\n",
            "('22   ', 'group0.block1.bn1.bias     ', '(160L,)                ', 'torch.cuda.FloatTensor')\n",
            "('23   ', 'group0.block1.bn1.weight   ', '(160L,)                ', 'torch.cuda.FloatTensor')\n",
            "('24   ', 'group0.block0.conv0        ', '(160L, 16L, 3L, 3L)    ', 'torch.cuda.FloatTensor')\n",
            "('25   ', 'group0.block0.conv1        ', '(160L, 160L, 3L, 3L)   ', 'torch.cuda.FloatTensor')\n",
            "('26   ', 'group0.block0.bn0.bias     ', '(16L,)                 ', 'torch.cuda.FloatTensor')\n",
            "('27   ', 'group0.block0.bn0.weight   ', '(16L,)                 ', 'torch.cuda.FloatTensor')\n",
            "('28   ', 'group0.block0.bn1.bias     ', '(160L,)                ', 'torch.cuda.FloatTensor')\n",
            "('29   ', 'group0.block0.bn1.weight   ', '(160L,)                ', 'torch.cuda.FloatTensor')\n",
            "('30   ', 'group0.block0.convdim      ', '(160L, 16L, 1L, 1L)    ', 'torch.cuda.FloatTensor')\n",
            "('31   ', 'group2.block1.conv0        ', '(640L, 640L, 3L, 3L)   ', 'torch.cuda.FloatTensor')\n",
            "('32   ', 'group2.block1.conv1        ', '(640L, 640L, 3L, 3L)   ', 'torch.cuda.FloatTensor')\n",
            "('33   ', 'group2.block1.bn0.bias     ', '(640L,)                ', 'torch.cuda.FloatTensor')\n",
            "('34   ', 'group2.block1.bn0.weight   ', '(640L,)                ', 'torch.cuda.FloatTensor')\n",
            "('35   ', 'group2.block1.bn1.bias     ', '(640L,)                ', 'torch.cuda.FloatTensor')\n",
            "('36   ', 'group2.block1.bn1.weight   ', '(640L,)                ', 'torch.cuda.FloatTensor')\n",
            "('37   ', 'group2.block0.conv0        ', '(640L, 320L, 3L, 3L)   ', 'torch.cuda.FloatTensor')\n",
            "('38   ', 'group2.block0.conv1        ', '(640L, 640L, 3L, 3L)   ', 'torch.cuda.FloatTensor')\n",
            "('39   ', 'group2.block0.bn0.bias     ', '(320L,)                ', 'torch.cuda.FloatTensor')\n",
            "('40   ', 'group2.block0.bn0.weight   ', '(320L,)                ', 'torch.cuda.FloatTensor')\n",
            "('41   ', 'group2.block0.bn1.bias     ', '(640L,)                ', 'torch.cuda.FloatTensor')\n",
            "('42   ', 'group2.block0.bn1.weight   ', '(640L,)                ', 'torch.cuda.FloatTensor')\n",
            "('43   ', 'group2.block0.convdim      ', '(640L, 320L, 1L, 1L)   ', 'torch.cuda.FloatTensor')\n",
            "\n",
            "Additional buffers:\n",
            "('0    ', 'bn.running_var                   ', '(640L,)                ', 'torch.cuda.FloatTensor')\n",
            "('1    ', 'bn.running_mean                  ', '(640L,)                ', 'torch.cuda.FloatTensor')\n",
            "('2    ', 'group1.block1.bn1.running_var    ', '(320L,)                ', 'torch.cuda.FloatTensor')\n",
            "('3    ', 'group1.block1.bn1.running_mean   ', '(320L,)                ', 'torch.cuda.FloatTensor')\n",
            "('4    ', 'group1.block1.bn0.running_var    ', '(320L,)                ', 'torch.cuda.FloatTensor')\n",
            "('5    ', 'group1.block1.bn0.running_mean   ', '(320L,)                ', 'torch.cuda.FloatTensor')\n",
            "('6    ', 'group1.block0.bn1.running_var    ', '(320L,)                ', 'torch.cuda.FloatTensor')\n",
            "('7    ', 'group1.block0.bn1.running_mean   ', '(320L,)                ', 'torch.cuda.FloatTensor')\n",
            "('8    ', 'group1.block0.bn0.running_var    ', '(160L,)                ', 'torch.cuda.FloatTensor')\n",
            "('9    ', 'group1.block0.bn0.running_mean   ', '(160L,)                ', 'torch.cuda.FloatTensor')\n",
            "('10   ', 'group0.block1.bn1.running_var    ', '(160L,)                ', 'torch.cuda.FloatTensor')\n",
            "('11   ', 'group0.block1.bn1.running_mean   ', '(160L,)                ', 'torch.cuda.FloatTensor')\n",
            "('12   ', 'group0.block1.bn0.running_var    ', '(160L,)                ', 'torch.cuda.FloatTensor')\n",
            "('13   ', 'group0.block1.bn0.running_mean   ', '(160L,)                ', 'torch.cuda.FloatTensor')\n",
            "('14   ', 'group0.block0.bn1.running_var    ', '(160L,)                ', 'torch.cuda.FloatTensor')\n",
            "('15   ', 'group0.block0.bn1.running_mean   ', '(160L,)                ', 'torch.cuda.FloatTensor')\n",
            "('16   ', 'group0.block0.bn0.running_var    ', '(16L,)                 ', 'torch.cuda.FloatTensor')\n",
            "('17   ', 'group0.block0.bn0.running_mean   ', '(16L,)                 ', 'torch.cuda.FloatTensor')\n",
            "('18   ', 'group2.block1.bn1.running_var    ', '(640L,)                ', 'torch.cuda.FloatTensor')\n",
            "('19   ', 'group2.block1.bn1.running_mean   ', '(640L,)                ', 'torch.cuda.FloatTensor')\n",
            "('20   ', 'group2.block1.bn0.running_var    ', '(640L,)                ', 'torch.cuda.FloatTensor')\n",
            "('21   ', 'group2.block1.bn0.running_mean   ', '(640L,)                ', 'torch.cuda.FloatTensor')\n",
            "('22   ', 'group2.block0.bn1.running_var    ', '(640L,)                ', 'torch.cuda.FloatTensor')\n",
            "('23   ', 'group2.block0.bn1.running_mean   ', '(640L,)                ', 'torch.cuda.FloatTensor')\n",
            "('24   ', 'group2.block0.bn0.running_var    ', '(320L,)                ', 'torch.cuda.FloatTensor')\n",
            "('25   ', 'group2.block0.bn0.running_mean   ', '(320L,)                ', 'torch.cuda.FloatTensor')\n",
            "('\\nTotal number of parameters:', 17116634)\n"
          ],
          "name": "stdout"
        },
        {
          "output_type": "stream",
          "text": [
            "100%|██████████| 391/391 [03:45<00:00,  1.73it/s]\n",
            "  0%|          | 0/391 [00:00<?, ?it/s]"
          ],
          "name": "stderr"
        },
        {
          "output_type": "stream",
          "text": [
            "{'n_parameters': 17116634, 'train_loss': 1.3160764099386943, 'resume': '', 'dtype': 'float', 'gpu_id': '0', 'batch_size': 128, 'dataset': 'CIFAR10', 'epochs': 200, 'randomcrop_pad': 4, 'ngpu': 1, 'groups': 1, 'num_classes': 10, 'weight_decay': 0.0005, 'epoch_step': '[60,120,160]', 'test_acc': 53.54, 'test_loss': 1.4698350565342966, 'train_time': 225.8298749923706, 'train_acc': 52.05, 'nthread': 4, 'lr_decay_ratio': 0.2, 'test_time': 14.032409906387329, 'width': 10.0, 'depth': 16, 'lr': 0.1, 'cuda': False, 'epoch': 1, 'dataroot': '.', 'model': 'resnet', 'save': './logs/resnet_20180204'}\n",
            "None\n",
            "==> id: ./logs/resnet_20180204 (1/200), test_acc: \u001b[91m53.54\u001b[0m\n"
          ],
          "name": "stdout"
        },
        {
          "output_type": "stream",
          "text": [
            "100%|██████████| 391/391 [03:38<00:00,  1.79it/s]\n",
            "  0%|          | 0/391 [00:00<?, ?it/s]"
          ],
          "name": "stderr"
        },
        {
          "output_type": "stream",
          "text": [
            "{'n_parameters': 17116634, 'train_loss': 0.870169667789089, 'resume': '', 'dtype': 'float', 'gpu_id': '0', 'batch_size': 128, 'dataset': 'CIFAR10', 'epochs': 200, 'randomcrop_pad': 4, 'ngpu': 1, 'groups': 1, 'num_classes': 10, 'weight_decay': 0.0005, 'epoch_step': '[60,120,160]', 'test_acc': 63.92, 'test_loss': 1.084733220595348, 'train_time': 218.9940938949585, 'train_acc': 69.374, 'nthread': 4, 'lr_decay_ratio': 0.2, 'test_time': 13.730156183242798, 'width': 10.0, 'depth': 16, 'lr': 0.1, 'cuda': False, 'epoch': 2, 'dataroot': '.', 'model': 'resnet', 'save': './logs/resnet_20180204'}\n",
            "None\n",
            "==> id: ./logs/resnet_20180204 (2/200), test_acc: \u001b[91m63.92\u001b[0m\n"
          ],
          "name": "stdout"
        },
        {
          "output_type": "stream",
          "text": [
            "100%|██████████| 391/391 [03:38<00:00,  1.79it/s]\n",
            "  0%|          | 0/391 [00:00<?, ?it/s]"
          ],
          "name": "stderr"
        },
        {
          "output_type": "stream",
          "text": [
            "{'n_parameters': 17116634, 'train_loss': 0.6941250473489541, 'resume': '', 'dtype': 'float', 'gpu_id': '0', 'batch_size': 128, 'dataset': 'CIFAR10', 'epochs': 200, 'randomcrop_pad': 4, 'ngpu': 1, 'groups': 1, 'num_classes': 10, 'weight_decay': 0.0005, 'epoch_step': '[60,120,160]', 'test_acc': 72.86, 'test_loss': 0.799023362654674, 'train_time': 218.28263998031616, 'train_acc': 75.74, 'nthread': 4, 'lr_decay_ratio': 0.2, 'test_time': 13.788658857345581, 'width': 10.0, 'depth': 16, 'lr': 0.1, 'cuda': False, 'epoch': 3, 'dataroot': '.', 'model': 'resnet', 'save': './logs/resnet_20180204'}\n",
            "None\n",
            "==> id: ./logs/resnet_20180204 (3/200), test_acc: \u001b[91m72.86\u001b[0m\n"
          ],
          "name": "stdout"
        },
        {
          "output_type": "stream",
          "text": [
            "100%|██████████| 391/391 [03:38<00:00,  1.79it/s]\n",
            "  0%|          | 0/391 [00:00<?, ?it/s]"
          ],
          "name": "stderr"
        },
        {
          "output_type": "stream",
          "text": [
            "{'n_parameters': 17116634, 'train_loss': 0.5918249639556233, 'resume': '', 'dtype': 'float', 'gpu_id': '0', 'batch_size': 128, 'dataset': 'CIFAR10', 'epochs': 200, 'randomcrop_pad': 4, 'ngpu': 1, 'groups': 1, 'num_classes': 10, 'weight_decay': 0.0005, 'epoch_step': '[60,120,160]', 'test_acc': 79.2, 'test_loss': 0.603161168626592, 'train_time': 218.72382497787476, 'train_acc': 79.69999999999999, 'nthread': 4, 'lr_decay_ratio': 0.2, 'test_time': 13.787856817245483, 'width': 10.0, 'depth': 16, 'lr': 0.1, 'cuda': False, 'epoch': 4, 'dataroot': '.', 'model': 'resnet', 'save': './logs/resnet_20180204'}\n",
            "None\n",
            "==> id: ./logs/resnet_20180204 (4/200), test_acc: \u001b[91m79.20\u001b[0m\n"
          ],
          "name": "stdout"
        },
        {
          "output_type": "stream",
          "text": [
            "100%|██████████| 391/391 [03:38<00:00,  1.79it/s]\n",
            "  0%|          | 0/391 [00:00<?, ?it/s]"
          ],
          "name": "stderr"
        },
        {
          "output_type": "stream",
          "text": [
            "{'n_parameters': 17116634, 'train_loss': 0.5328181860849379, 'resume': '', 'dtype': 'float', 'gpu_id': '0', 'batch_size': 128, 'dataset': 'CIFAR10', 'epochs': 200, 'randomcrop_pad': 4, 'ngpu': 1, 'groups': 1, 'num_classes': 10, 'weight_decay': 0.0005, 'epoch_step': '[60,120,160]', 'test_acc': 77.32, 'test_loss': 0.6970690933963921, 'train_time': 218.0780951976776, 'train_acc': 81.63199999999999, 'nthread': 4, 'lr_decay_ratio': 0.2, 'test_time': 13.773231029510498, 'width': 10.0, 'depth': 16, 'lr': 0.1, 'cuda': False, 'epoch': 5, 'dataroot': '.', 'model': 'resnet', 'save': './logs/resnet_20180204'}\n",
            "None\n",
            "==> id: ./logs/resnet_20180204 (5/200), test_acc: \u001b[91m77.32\u001b[0m\n"
          ],
          "name": "stdout"
        },
        {
          "output_type": "stream",
          "text": [
            "100%|██████████| 391/391 [03:38<00:00,  1.79it/s]\n",
            "  0%|          | 0/391 [00:00<?, ?it/s]"
          ],
          "name": "stderr"
        },
        {
          "output_type": "stream",
          "text": [
            "{'n_parameters': 17116634, 'train_loss': 0.4881844350596521, 'resume': '', 'dtype': 'float', 'gpu_id': '0', 'batch_size': 128, 'dataset': 'CIFAR10', 'epochs': 200, 'randomcrop_pad': 4, 'ngpu': 1, 'groups': 1, 'num_classes': 10, 'weight_decay': 0.0005, 'epoch_step': '[60,120,160]', 'test_acc': 79.79, 'test_loss': 0.5872019876407671, 'train_time': 218.2589750289917, 'train_acc': 83.32, 'nthread': 4, 'lr_decay_ratio': 0.2, 'test_time': 13.73549509048462, 'width': 10.0, 'depth': 16, 'lr': 0.1, 'cuda': False, 'epoch': 6, 'dataroot': '.', 'model': 'resnet', 'save': './logs/resnet_20180204'}\n",
            "None\n",
            "==> id: ./logs/resnet_20180204 (6/200), test_acc: \u001b[91m79.79\u001b[0m\n"
          ],
          "name": "stdout"
        },
        {
          "output_type": "stream",
          "text": [
            "100%|██████████| 391/391 [03:37<00:00,  1.80it/s]\n",
            "  0%|          | 0/391 [00:00<?, ?it/s]"
          ],
          "name": "stderr"
        },
        {
          "output_type": "stream",
          "text": [
            "{'n_parameters': 17116634, 'train_loss': 0.46033743161069784, 'resume': '', 'dtype': 'float', 'gpu_id': '0', 'batch_size': 128, 'dataset': 'CIFAR10', 'epochs': 200, 'randomcrop_pad': 4, 'ngpu': 1, 'groups': 1, 'num_classes': 10, 'weight_decay': 0.0005, 'epoch_step': '[60,120,160]', 'test_acc': 77.86, 'test_loss': 0.6913883493670935, 'train_time': 217.79898405075073, 'train_acc': 84.256, 'nthread': 4, 'lr_decay_ratio': 0.2, 'test_time': 13.777892112731934, 'width': 10.0, 'depth': 16, 'lr': 0.1, 'cuda': False, 'epoch': 7, 'dataroot': '.', 'model': 'resnet', 'save': './logs/resnet_20180204'}\n",
            "None\n",
            "==> id: ./logs/resnet_20180204 (7/200), test_acc: \u001b[91m77.86\u001b[0m\n"
          ],
          "name": "stdout"
        },
        {
          "output_type": "stream",
          "text": [
            "100%|██████████| 391/391 [03:38<00:00,  1.79it/s]\n",
            "  0%|          | 0/391 [00:00<?, ?it/s]"
          ],
          "name": "stderr"
        },
        {
          "output_type": "stream",
          "text": [
            "{'n_parameters': 17116634, 'train_loss': 0.4334358242923955, 'resume': '', 'dtype': 'float', 'gpu_id': '0', 'batch_size': 128, 'dataset': 'CIFAR10', 'epochs': 200, 'randomcrop_pad': 4, 'ngpu': 1, 'groups': 1, 'num_classes': 10, 'weight_decay': 0.0005, 'epoch_step': '[60,120,160]', 'test_acc': 80.36999999999999, 'test_loss': 0.5838986669160144, 'train_time': 218.08237600326538, 'train_acc': 85.20400000000001, 'nthread': 4, 'lr_decay_ratio': 0.2, 'test_time': 13.73369288444519, 'width': 10.0, 'depth': 16, 'lr': 0.1, 'cuda': False, 'epoch': 8, 'dataroot': '.', 'model': 'resnet', 'save': './logs/resnet_20180204'}\n",
            "None\n",
            "==> id: ./logs/resnet_20180204 (8/200), test_acc: \u001b[91m80.37\u001b[0m\n"
          ],
          "name": "stdout"
        },
        {
          "output_type": "stream",
          "text": [
            "100%|██████████| 391/391 [03:38<00:00,  1.79it/s]\n",
            "  0%|          | 0/391 [00:00<?, ?it/s]"
          ],
          "name": "stderr"
        },
        {
          "output_type": "stream",
          "text": [
            "{'n_parameters': 17116634, 'train_loss': 0.42117683802876604, 'resume': '', 'dtype': 'float', 'gpu_id': '0', 'batch_size': 128, 'dataset': 'CIFAR10', 'epochs': 200, 'randomcrop_pad': 4, 'ngpu': 1, 'groups': 1, 'num_classes': 10, 'weight_decay': 0.0005, 'epoch_step': '[60,120,160]', 'test_acc': 82.26, 'test_loss': 0.5280070433133766, 'train_time': 218.18009114265442, 'train_acc': 85.422, 'nthread': 4, 'lr_decay_ratio': 0.2, 'test_time': 13.770455121994019, 'width': 10.0, 'depth': 16, 'lr': 0.1, 'cuda': False, 'epoch': 9, 'dataroot': '.', 'model': 'resnet', 'save': './logs/resnet_20180204'}\n",
            "None\n",
            "==> id: ./logs/resnet_20180204 (9/200), test_acc: \u001b[91m82.26\u001b[0m\n"
          ],
          "name": "stdout"
        },
        {
          "output_type": "stream",
          "text": [
            "100%|██████████| 391/391 [03:37<00:00,  1.80it/s]\n",
            "  0%|          | 0/391 [00:00<?, ?it/s]"
          ],
          "name": "stderr"
        },
        {
          "output_type": "stream",
          "text": [
            "{'n_parameters': 17116634, 'train_loss': 0.3965686187719751, 'resume': '', 'dtype': 'float', 'gpu_id': '0', 'batch_size': 128, 'dataset': 'CIFAR10', 'epochs': 200, 'randomcrop_pad': 4, 'ngpu': 1, 'groups': 1, 'num_classes': 10, 'weight_decay': 0.0005, 'epoch_step': '[60,120,160]', 'test_acc': 82.17999999999999, 'test_loss': 0.5277411839630028, 'train_time': 217.7058219909668, 'train_acc': 86.588, 'nthread': 4, 'lr_decay_ratio': 0.2, 'test_time': 13.728067874908447, 'width': 10.0, 'depth': 16, 'lr': 0.1, 'cuda': False, 'epoch': 10, 'dataroot': '.', 'model': 'resnet', 'save': './logs/resnet_20180204'}\n",
            "None\n",
            "==> id: ./logs/resnet_20180204 (10/200), test_acc: \u001b[91m82.18\u001b[0m\n"
          ],
          "name": "stdout"
        },
        {
          "output_type": "stream",
          "text": [
            "100%|██████████| 391/391 [03:38<00:00,  1.79it/s]\n",
            "  0%|          | 0/391 [00:00<?, ?it/s]"
          ],
          "name": "stderr"
        },
        {
          "output_type": "stream",
          "text": [
            "{'n_parameters': 17116634, 'train_loss': 0.3874732326439887, 'resume': '', 'dtype': 'float', 'gpu_id': '0', 'batch_size': 128, 'dataset': 'CIFAR10', 'epochs': 200, 'randomcrop_pad': 4, 'ngpu': 1, 'groups': 1, 'num_classes': 10, 'weight_decay': 0.0005, 'epoch_step': '[60,120,160]', 'test_acc': 81.87, 'test_loss': 0.5668304543706434, 'train_time': 218.0948839187622, 'train_acc': 86.746, 'nthread': 4, 'lr_decay_ratio': 0.2, 'test_time': 13.780755043029785, 'width': 10.0, 'depth': 16, 'lr': 0.1, 'cuda': False, 'epoch': 11, 'dataroot': '.', 'model': 'resnet', 'save': './logs/resnet_20180204'}\n",
            "None\n",
            "==> id: ./logs/resnet_20180204 (11/200), test_acc: \u001b[91m81.87\u001b[0m\n"
          ],
          "name": "stdout"
        },
        {
          "output_type": "stream",
          "text": [
            "100%|██████████| 391/391 [03:37<00:00,  1.80it/s]\n",
            "  0%|          | 0/391 [00:00<?, ?it/s]"
          ],
          "name": "stderr"
        },
        {
          "output_type": "stream",
          "text": [
            "{'n_parameters': 17116634, 'train_loss': 0.3752462003008486, 'resume': '', 'dtype': 'float', 'gpu_id': '0', 'batch_size': 128, 'dataset': 'CIFAR10', 'epochs': 200, 'randomcrop_pad': 4, 'ngpu': 1, 'groups': 1, 'num_classes': 10, 'weight_decay': 0.0005, 'epoch_step': '[60,120,160]', 'test_acc': 80.14, 'test_loss': 0.6137732361690909, 'train_time': 217.64649200439453, 'train_acc': 87.03, 'nthread': 4, 'lr_decay_ratio': 0.2, 'test_time': 13.754410028457642, 'width': 10.0, 'depth': 16, 'lr': 0.1, 'cuda': False, 'epoch': 12, 'dataroot': '.', 'model': 'resnet', 'save': './logs/resnet_20180204'}\n",
            "None\n",
            "==> id: ./logs/resnet_20180204 (12/200), test_acc: \u001b[91m80.14\u001b[0m\n"
          ],
          "name": "stdout"
        },
        {
          "output_type": "stream",
          "text": [
            "100%|██████████| 391/391 [03:37<00:00,  1.79it/s]\n",
            "  0%|          | 0/391 [00:00<?, ?it/s]"
          ],
          "name": "stderr"
        },
        {
          "output_type": "stream",
          "text": [
            "{'n_parameters': 17116634, 'train_loss': 0.36673036099547307, 'resume': '', 'dtype': 'float', 'gpu_id': '0', 'batch_size': 128, 'dataset': 'CIFAR10', 'epochs': 200, 'randomcrop_pad': 4, 'ngpu': 1, 'groups': 1, 'num_classes': 10, 'weight_decay': 0.0005, 'epoch_step': '[60,120,160]', 'test_acc': 84.53, 'test_loss': 0.4762711647567869, 'train_time': 217.85416507720947, 'train_acc': 87.532, 'nthread': 4, 'lr_decay_ratio': 0.2, 'test_time': 13.754163026809692, 'width': 10.0, 'depth': 16, 'lr': 0.1, 'cuda': False, 'epoch': 13, 'dataroot': '.', 'model': 'resnet', 'save': './logs/resnet_20180204'}\n",
            "None\n",
            "==> id: ./logs/resnet_20180204 (13/200), test_acc: \u001b[91m84.53\u001b[0m\n"
          ],
          "name": "stdout"
        },
        {
          "output_type": "stream",
          "text": [
            "100%|██████████| 391/391 [03:38<00:00,  1.79it/s]\n",
            "  0%|          | 0/391 [00:00<?, ?it/s]"
          ],
          "name": "stderr"
        },
        {
          "output_type": "stream",
          "text": [
            "{'n_parameters': 17116634, 'train_loss': 0.35551137238969566, 'resume': '', 'dtype': 'float', 'gpu_id': '0', 'batch_size': 128, 'dataset': 'CIFAR10', 'epochs': 200, 'randomcrop_pad': 4, 'ngpu': 1, 'groups': 1, 'num_classes': 10, 'weight_decay': 0.0005, 'epoch_step': '[60,120,160]', 'test_acc': 83.52999999999999, 'test_loss': 0.4861574991594388, 'train_time': 218.07629799842834, 'train_acc': 87.924, 'nthread': 4, 'lr_decay_ratio': 0.2, 'test_time': 13.80253791809082, 'width': 10.0, 'depth': 16, 'lr': 0.1, 'cuda': False, 'epoch': 14, 'dataroot': '.', 'model': 'resnet', 'save': './logs/resnet_20180204'}\n",
            "None\n",
            "==> id: ./logs/resnet_20180204 (14/200), test_acc: \u001b[91m83.53\u001b[0m\n"
          ],
          "name": "stdout"
        },
        {
          "output_type": "stream",
          "text": [
            "100%|██████████| 391/391 [03:37<00:00,  1.79it/s]\n",
            "  0%|          | 0/391 [00:00<?, ?it/s]"
          ],
          "name": "stderr"
        },
        {
          "output_type": "stream",
          "text": [
            "{'n_parameters': 17116634, 'train_loss': 0.34853573680838645, 'resume': '', 'dtype': 'float', 'gpu_id': '0', 'batch_size': 128, 'dataset': 'CIFAR10', 'epochs': 200, 'randomcrop_pad': 4, 'ngpu': 1, 'groups': 1, 'num_classes': 10, 'weight_decay': 0.0005, 'epoch_step': '[60,120,160]', 'test_acc': 78.96, 'test_loss': 0.6766175137290472, 'train_time': 217.94830799102783, 'train_acc': 88.14999999999999, 'nthread': 4, 'lr_decay_ratio': 0.2, 'test_time': 13.754097938537598, 'width': 10.0, 'depth': 16, 'lr': 0.1, 'cuda': False, 'epoch': 15, 'dataroot': '.', 'model': 'resnet', 'save': './logs/resnet_20180204'}\n",
            "None\n",
            "==> id: ./logs/resnet_20180204 (15/200), test_acc: \u001b[91m78.96\u001b[0m\n"
          ],
          "name": "stdout"
        },
        {
          "output_type": "stream",
          "text": [
            "100%|██████████| 391/391 [03:37<00:00,  1.80it/s]\n",
            "  0%|          | 0/391 [00:00<?, ?it/s]"
          ],
          "name": "stderr"
        },
        {
          "output_type": "stream",
          "text": [
            "{'n_parameters': 17116634, 'train_loss': 0.33956449107288417, 'resume': '', 'dtype': 'float', 'gpu_id': '0', 'batch_size': 128, 'dataset': 'CIFAR10', 'epochs': 200, 'randomcrop_pad': 4, 'ngpu': 1, 'groups': 1, 'num_classes': 10, 'weight_decay': 0.0005, 'epoch_step': '[60,120,160]', 'test_acc': 84.38, 'test_loss': 0.47238524691968026, 'train_time': 217.47890305519104, 'train_acc': 88.51, 'nthread': 4, 'lr_decay_ratio': 0.2, 'test_time': 13.821260213851929, 'width': 10.0, 'depth': 16, 'lr': 0.1, 'cuda': False, 'epoch': 16, 'dataroot': '.', 'model': 'resnet', 'save': './logs/resnet_20180204'}\n",
            "None\n",
            "==> id: ./logs/resnet_20180204 (16/200), test_acc: \u001b[91m84.38\u001b[0m\n"
          ],
          "name": "stdout"
        },
        {
          "output_type": "stream",
          "text": [
            "100%|██████████| 391/391 [03:37<00:00,  1.80it/s]\n",
            "  0%|          | 0/391 [00:00<?, ?it/s]"
          ],
          "name": "stderr"
        },
        {
          "output_type": "stream",
          "text": [
            "{'n_parameters': 17116634, 'train_loss': 0.3326164365500743, 'resume': '', 'dtype': 'float', 'gpu_id': '0', 'batch_size': 128, 'dataset': 'CIFAR10', 'epochs': 200, 'randomcrop_pad': 4, 'ngpu': 1, 'groups': 1, 'num_classes': 10, 'weight_decay': 0.0005, 'epoch_step': '[60,120,160]', 'test_acc': 81.07, 'test_loss': 0.5606531866743595, 'train_time': 217.3707160949707, 'train_acc': 88.558, 'nthread': 4, 'lr_decay_ratio': 0.2, 'test_time': 13.749953985214233, 'width': 10.0, 'depth': 16, 'lr': 0.1, 'cuda': False, 'epoch': 17, 'dataroot': '.', 'model': 'resnet', 'save': './logs/resnet_20180204'}\n",
            "None\n",
            "==> id: ./logs/resnet_20180204 (17/200), test_acc: \u001b[91m81.07\u001b[0m\n"
          ],
          "name": "stdout"
        },
        {
          "output_type": "stream",
          "text": [
            "100%|██████████| 391/391 [03:37<00:00,  1.80it/s]\n",
            "  0%|          | 0/391 [00:00<?, ?it/s]"
          ],
          "name": "stderr"
        },
        {
          "output_type": "stream",
          "text": [
            "{'n_parameters': 17116634, 'train_loss': 0.3353260455610198, 'resume': '', 'dtype': 'float', 'gpu_id': '0', 'batch_size': 128, 'dataset': 'CIFAR10', 'epochs': 200, 'randomcrop_pad': 4, 'ngpu': 1, 'groups': 1, 'num_classes': 10, 'weight_decay': 0.0005, 'epoch_step': '[60,120,160]', 'test_acc': 82.49, 'test_loss': 0.5354143664052214, 'train_time': 217.81147503852844, 'train_acc': 88.492, 'nthread': 4, 'lr_decay_ratio': 0.2, 'test_time': 13.764410972595215, 'width': 10.0, 'depth': 16, 'lr': 0.1, 'cuda': False, 'epoch': 18, 'dataroot': '.', 'model': 'resnet', 'save': './logs/resnet_20180204'}\n",
            "None\n",
            "==> id: ./logs/resnet_20180204 (18/200), test_acc: \u001b[91m82.49\u001b[0m\n"
          ],
          "name": "stdout"
        },
        {
          "output_type": "stream",
          "text": [
            "100%|██████████| 391/391 [03:37<00:00,  1.80it/s]\n",
            "  0%|          | 0/391 [00:00<?, ?it/s]"
          ],
          "name": "stderr"
        },
        {
          "output_type": "stream",
          "text": [
            "{'n_parameters': 17116634, 'train_loss': 0.322613037074618, 'resume': '', 'dtype': 'float', 'gpu_id': '0', 'batch_size': 128, 'dataset': 'CIFAR10', 'epochs': 200, 'randomcrop_pad': 4, 'ngpu': 1, 'groups': 1, 'num_classes': 10, 'weight_decay': 0.0005, 'epoch_step': '[60,120,160]', 'test_acc': 84.23, 'test_loss': 0.4729556492235087, 'train_time': 217.6507580280304, 'train_acc': 88.888, 'nthread': 4, 'lr_decay_ratio': 0.2, 'test_time': 13.758241891860962, 'width': 10.0, 'depth': 16, 'lr': 0.1, 'cuda': False, 'epoch': 19, 'dataroot': '.', 'model': 'resnet', 'save': './logs/resnet_20180204'}\n",
            "None\n",
            "==> id: ./logs/resnet_20180204 (19/200), test_acc: \u001b[91m84.23\u001b[0m\n"
          ],
          "name": "stdout"
        },
        {
          "output_type": "stream",
          "text": [
            "100%|██████████| 391/391 [03:37<00:00,  1.80it/s]\n",
            "  0%|          | 0/391 [00:00<?, ?it/s]"
          ],
          "name": "stderr"
        },
        {
          "output_type": "stream",
          "text": [
            "{'n_parameters': 17116634, 'train_loss': 0.31707513423831857, 'resume': '', 'dtype': 'float', 'gpu_id': '0', 'batch_size': 128, 'dataset': 'CIFAR10', 'epochs': 200, 'randomcrop_pad': 4, 'ngpu': 1, 'groups': 1, 'num_classes': 10, 'weight_decay': 0.0005, 'epoch_step': '[60,120,160]', 'test_acc': 85.84, 'test_loss': 0.4249697916115386, 'train_time': 217.69360899925232, 'train_acc': 89.184, 'nthread': 4, 'lr_decay_ratio': 0.2, 'test_time': 13.760571956634521, 'width': 10.0, 'depth': 16, 'lr': 0.1, 'cuda': False, 'epoch': 20, 'dataroot': '.', 'model': 'resnet', 'save': './logs/resnet_20180204'}\n",
            "None\n",
            "==> id: ./logs/resnet_20180204 (20/200), test_acc: \u001b[91m85.84\u001b[0m\n"
          ],
          "name": "stdout"
        },
        {
          "output_type": "stream",
          "text": [
            "100%|██████████| 391/391 [03:37<00:00,  1.80it/s]\n",
            "  0%|          | 0/391 [00:00<?, ?it/s]"
          ],
          "name": "stderr"
        },
        {
          "output_type": "stream",
          "text": [
            "{'n_parameters': 17116634, 'train_loss': 0.31226783727898305, 'resume': '', 'dtype': 'float', 'gpu_id': '0', 'batch_size': 128, 'dataset': 'CIFAR10', 'epochs': 200, 'randomcrop_pad': 4, 'ngpu': 1, 'groups': 1, 'num_classes': 10, 'weight_decay': 0.0005, 'epoch_step': '[60,120,160]', 'test_acc': 80.51, 'test_loss': 0.583838212339184, 'train_time': 217.77039003372192, 'train_acc': 89.256, 'nthread': 4, 'lr_decay_ratio': 0.2, 'test_time': 13.733177185058594, 'width': 10.0, 'depth': 16, 'lr': 0.1, 'cuda': False, 'epoch': 21, 'dataroot': '.', 'model': 'resnet', 'save': './logs/resnet_20180204'}\n",
            "None\n",
            "==> id: ./logs/resnet_20180204 (21/200), test_acc: \u001b[91m80.51\u001b[0m\n"
          ],
          "name": "stdout"
        },
        {
          "output_type": "stream",
          "text": [
            "100%|██████████| 391/391 [03:37<00:00,  1.80it/s]\n",
            "  0%|          | 0/391 [00:00<?, ?it/s]"
          ],
          "name": "stderr"
        },
        {
          "output_type": "stream",
          "text": [
            "{'n_parameters': 17116634, 'train_loss': 0.31130968457292724, 'resume': '', 'dtype': 'float', 'gpu_id': '0', 'batch_size': 128, 'dataset': 'CIFAR10', 'epochs': 200, 'randomcrop_pad': 4, 'ngpu': 1, 'groups': 1, 'num_classes': 10, 'weight_decay': 0.0005, 'epoch_step': '[60,120,160]', 'test_acc': 83.48, 'test_loss': 0.4894023100032081, 'train_time': 217.71347618103027, 'train_acc': 89.27000000000001, 'nthread': 4, 'lr_decay_ratio': 0.2, 'test_time': 13.696105003356934, 'width': 10.0, 'depth': 16, 'lr': 0.1, 'cuda': False, 'epoch': 22, 'dataroot': '.', 'model': 'resnet', 'save': './logs/resnet_20180204'}\n",
            "None\n",
            "==> id: ./logs/resnet_20180204 (22/200), test_acc: \u001b[91m83.48\u001b[0m\n"
          ],
          "name": "stdout"
        },
        {
          "output_type": "stream",
          "text": [
            "100%|██████████| 391/391 [03:36<00:00,  1.80it/s]\n",
            "  0%|          | 0/391 [00:00<?, ?it/s]"
          ],
          "name": "stderr"
        },
        {
          "output_type": "stream",
          "text": [
            "{'n_parameters': 17116634, 'train_loss': 0.31090958995739815, 'resume': '', 'dtype': 'float', 'gpu_id': '0', 'batch_size': 128, 'dataset': 'CIFAR10', 'epochs': 200, 'randomcrop_pad': 4, 'ngpu': 1, 'groups': 1, 'num_classes': 10, 'weight_decay': 0.0005, 'epoch_step': '[60,120,160]', 'test_acc': 85.77, 'test_loss': 0.4379351523858084, 'train_time': 217.0050492286682, 'train_acc': 89.302, 'nthread': 4, 'lr_decay_ratio': 0.2, 'test_time': 13.720126867294312, 'width': 10.0, 'depth': 16, 'lr': 0.1, 'cuda': False, 'epoch': 23, 'dataroot': '.', 'model': 'resnet', 'save': './logs/resnet_20180204'}\n",
            "None\n",
            "==> id: ./logs/resnet_20180204 (23/200), test_acc: \u001b[91m85.77\u001b[0m\n"
          ],
          "name": "stdout"
        },
        {
          "output_type": "stream",
          "text": [
            "100%|██████████| 391/391 [03:37<00:00,  1.79it/s]\n",
            "  0%|          | 0/391 [00:00<?, ?it/s]"
          ],
          "name": "stderr"
        },
        {
          "output_type": "stream",
          "text": [
            "{'n_parameters': 17116634, 'train_loss': 0.3020557513855911, 'resume': '', 'dtype': 'float', 'gpu_id': '0', 'batch_size': 128, 'dataset': 'CIFAR10', 'epochs': 200, 'randomcrop_pad': 4, 'ngpu': 1, 'groups': 1, 'num_classes': 10, 'weight_decay': 0.0005, 'epoch_step': '[60,120,160]', 'test_acc': 83.61000000000001, 'test_loss': 0.5028880627094947, 'train_time': 217.92994689941406, 'train_acc': 89.61, 'nthread': 4, 'lr_decay_ratio': 0.2, 'test_time': 13.76517391204834, 'width': 10.0, 'depth': 16, 'lr': 0.1, 'cuda': False, 'epoch': 24, 'dataroot': '.', 'model': 'resnet', 'save': './logs/resnet_20180204'}\n",
            "None\n",
            "==> id: ./logs/resnet_20180204 (24/200), test_acc: \u001b[91m83.61\u001b[0m\n"
          ],
          "name": "stdout"
        },
        {
          "output_type": "stream",
          "text": [
            "100%|██████████| 391/391 [03:37<00:00,  1.80it/s]\n",
            "  0%|          | 0/391 [00:00<?, ?it/s]"
          ],
          "name": "stderr"
        },
        {
          "output_type": "stream",
          "text": [
            "{'n_parameters': 17116634, 'train_loss': 0.3016081067454785, 'resume': '', 'dtype': 'float', 'gpu_id': '0', 'batch_size': 128, 'dataset': 'CIFAR10', 'epochs': 200, 'randomcrop_pad': 4, 'ngpu': 1, 'groups': 1, 'num_classes': 10, 'weight_decay': 0.0005, 'epoch_step': '[60,120,160]', 'test_acc': 85.04, 'test_loss': 0.44903607930563666, 'train_time': 217.6643099784851, 'train_acc': 89.628, 'nthread': 4, 'lr_decay_ratio': 0.2, 'test_time': 13.689687013626099, 'width': 10.0, 'depth': 16, 'lr': 0.1, 'cuda': False, 'epoch': 25, 'dataroot': '.', 'model': 'resnet', 'save': './logs/resnet_20180204'}\n",
            "None\n",
            "==> id: ./logs/resnet_20180204 (25/200), test_acc: \u001b[91m85.04\u001b[0m\n"
          ],
          "name": "stdout"
        },
        {
          "output_type": "stream",
          "text": [
            "100%|██████████| 391/391 [03:37<00:00,  1.80it/s]\n",
            "  0%|          | 0/391 [00:00<?, ?it/s]"
          ],
          "name": "stderr"
        },
        {
          "output_type": "stream",
          "text": [
            "{'n_parameters': 17116634, 'train_loss': 0.30028919654581554, 'resume': '', 'dtype': 'float', 'gpu_id': '0', 'batch_size': 128, 'dataset': 'CIFAR10', 'epochs': 200, 'randomcrop_pad': 4, 'ngpu': 1, 'groups': 1, 'num_classes': 10, 'weight_decay': 0.0005, 'epoch_step': '[60,120,160]', 'test_acc': 84.46000000000001, 'test_loss': 0.4697224825997896, 'train_time': 217.7474091053009, 'train_acc': 89.64999999999999, 'nthread': 4, 'lr_decay_ratio': 0.2, 'test_time': 13.715760946273804, 'width': 10.0, 'depth': 16, 'lr': 0.1, 'cuda': False, 'epoch': 26, 'dataroot': '.', 'model': 'resnet', 'save': './logs/resnet_20180204'}\n",
            "None\n",
            "==> id: ./logs/resnet_20180204 (26/200), test_acc: \u001b[91m84.46\u001b[0m\n"
          ],
          "name": "stdout"
        },
        {
          "output_type": "stream",
          "text": [
            "100%|██████████| 391/391 [03:37<00:00,  1.80it/s]\n",
            "  0%|          | 0/391 [00:00<?, ?it/s]"
          ],
          "name": "stderr"
        },
        {
          "output_type": "stream",
          "text": [
            "{'n_parameters': 17116634, 'train_loss': 0.3032250637212373, 'resume': '', 'dtype': 'float', 'gpu_id': '0', 'batch_size': 128, 'dataset': 'CIFAR10', 'epochs': 200, 'randomcrop_pad': 4, 'ngpu': 1, 'groups': 1, 'num_classes': 10, 'weight_decay': 0.0005, 'epoch_step': '[60,120,160]', 'test_acc': 77.01, 'test_loss': 0.7780545278440547, 'train_time': 217.47233986854553, 'train_acc': 89.652, 'nthread': 4, 'lr_decay_ratio': 0.2, 'test_time': 13.725248098373413, 'width': 10.0, 'depth': 16, 'lr': 0.1, 'cuda': False, 'epoch': 27, 'dataroot': '.', 'model': 'resnet', 'save': './logs/resnet_20180204'}\n",
            "None\n",
            "==> id: ./logs/resnet_20180204 (27/200), test_acc: \u001b[91m77.01\u001b[0m\n"
          ],
          "name": "stdout"
        },
        {
          "output_type": "stream",
          "text": [
            "100%|██████████| 391/391 [03:37<00:00,  1.80it/s]\n",
            "  0%|          | 0/391 [00:00<?, ?it/s]"
          ],
          "name": "stderr"
        },
        {
          "output_type": "stream",
          "text": [
            "{'n_parameters': 17116634, 'train_loss': 0.302669419504492, 'resume': '', 'dtype': 'float', 'gpu_id': '0', 'batch_size': 128, 'dataset': 'CIFAR10', 'epochs': 200, 'randomcrop_pad': 4, 'ngpu': 1, 'groups': 1, 'num_classes': 10, 'weight_decay': 0.0005, 'epoch_step': '[60,120,160]', 'test_acc': 83.07, 'test_loss': 0.5252137218095078, 'train_time': 217.5938630104065, 'train_acc': 89.566, 'nthread': 4, 'lr_decay_ratio': 0.2, 'test_time': 13.741620063781738, 'width': 10.0, 'depth': 16, 'lr': 0.1, 'cuda': False, 'epoch': 28, 'dataroot': '.', 'model': 'resnet', 'save': './logs/resnet_20180204'}\n",
            "None\n",
            "==> id: ./logs/resnet_20180204 (28/200), test_acc: \u001b[91m83.07\u001b[0m\n"
          ],
          "name": "stdout"
        },
        {
          "output_type": "stream",
          "text": [
            "100%|██████████| 391/391 [03:37<00:00,  1.80it/s]\n",
            "  0%|          | 0/391 [00:00<?, ?it/s]"
          ],
          "name": "stderr"
        },
        {
          "output_type": "stream",
          "text": [
            "{'n_parameters': 17116634, 'train_loss': 0.29755920547125003, 'resume': '', 'dtype': 'float', 'gpu_id': '0', 'batch_size': 128, 'dataset': 'CIFAR10', 'epochs': 200, 'randomcrop_pad': 4, 'ngpu': 1, 'groups': 1, 'num_classes': 10, 'weight_decay': 0.0005, 'epoch_step': '[60,120,160]', 'test_acc': 85.68, 'test_loss': 0.4369457339561439, 'train_time': 217.7296278476715, 'train_acc': 89.79599999999999, 'nthread': 4, 'lr_decay_ratio': 0.2, 'test_time': 13.690664052963257, 'width': 10.0, 'depth': 16, 'lr': 0.1, 'cuda': False, 'epoch': 29, 'dataroot': '.', 'model': 'resnet', 'save': './logs/resnet_20180204'}\n",
            "None\n",
            "==> id: ./logs/resnet_20180204 (29/200), test_acc: \u001b[91m85.68\u001b[0m\n"
          ],
          "name": "stdout"
        },
        {
          "output_type": "stream",
          "text": [
            "100%|██████████| 391/391 [03:37<00:00,  1.80it/s]\n",
            "  0%|          | 0/391 [00:00<?, ?it/s]"
          ],
          "name": "stderr"
        },
        {
          "output_type": "stream",
          "text": [
            "{'n_parameters': 17116634, 'train_loss': 0.2879062331927094, 'resume': '', 'dtype': 'float', 'gpu_id': '0', 'batch_size': 128, 'dataset': 'CIFAR10', 'epochs': 200, 'randomcrop_pad': 4, 'ngpu': 1, 'groups': 1, 'num_classes': 10, 'weight_decay': 0.0005, 'epoch_step': '[60,120,160]', 'test_acc': 78.84, 'test_loss': 0.6842580743228333, 'train_time': 217.59200882911682, 'train_acc': 90.228, 'nthread': 4, 'lr_decay_ratio': 0.2, 'test_time': 13.715723037719727, 'width': 10.0, 'depth': 16, 'lr': 0.1, 'cuda': False, 'epoch': 30, 'dataroot': '.', 'model': 'resnet', 'save': './logs/resnet_20180204'}\n",
            "None\n",
            "==> id: ./logs/resnet_20180204 (30/200), test_acc: \u001b[91m78.84\u001b[0m\n"
          ],
          "name": "stdout"
        },
        {
          "output_type": "stream",
          "text": [
            "100%|██████████| 391/391 [03:37<00:00,  1.79it/s]\n",
            "  0%|          | 0/391 [00:00<?, ?it/s]"
          ],
          "name": "stderr"
        },
        {
          "output_type": "stream",
          "text": [
            "{'n_parameters': 17116634, 'train_loss': 0.28907258107381695, 'resume': '', 'dtype': 'float', 'gpu_id': '0', 'batch_size': 128, 'dataset': 'CIFAR10', 'epochs': 200, 'randomcrop_pad': 4, 'ngpu': 1, 'groups': 1, 'num_classes': 10, 'weight_decay': 0.0005, 'epoch_step': '[60,120,160]', 'test_acc': 85.42, 'test_loss': 0.42995363379581075, 'train_time': 217.87784385681152, 'train_acc': 90.078, 'nthread': 4, 'lr_decay_ratio': 0.2, 'test_time': 13.74012303352356, 'width': 10.0, 'depth': 16, 'lr': 0.1, 'cuda': False, 'epoch': 31, 'dataroot': '.', 'model': 'resnet', 'save': './logs/resnet_20180204'}\n",
            "None\n",
            "==> id: ./logs/resnet_20180204 (31/200), test_acc: \u001b[91m85.42\u001b[0m\n"
          ],
          "name": "stdout"
        },
        {
          "output_type": "stream",
          "text": [
            "100%|██████████| 391/391 [03:37<00:00,  1.80it/s]\n",
            "  0%|          | 0/391 [00:00<?, ?it/s]"
          ],
          "name": "stderr"
        },
        {
          "output_type": "stream",
          "text": [
            "{'n_parameters': 17116634, 'train_loss': 0.29044727401812664, 'resume': '', 'dtype': 'float', 'gpu_id': '0', 'batch_size': 128, 'dataset': 'CIFAR10', 'epochs': 200, 'randomcrop_pad': 4, 'ngpu': 1, 'groups': 1, 'num_classes': 10, 'weight_decay': 0.0005, 'epoch_step': '[60,120,160]', 'test_acc': 82.46, 'test_loss': 0.5327785746960702, 'train_time': 217.73132181167603, 'train_acc': 90.10000000000001, 'nthread': 4, 'lr_decay_ratio': 0.2, 'test_time': 13.714797019958496, 'width': 10.0, 'depth': 16, 'lr': 0.1, 'cuda': False, 'epoch': 32, 'dataroot': '.', 'model': 'resnet', 'save': './logs/resnet_20180204'}\n",
            "None\n",
            "==> id: ./logs/resnet_20180204 (32/200), test_acc: \u001b[91m82.46\u001b[0m\n"
          ],
          "name": "stdout"
        },
        {
          "output_type": "stream",
          "text": [
            "100%|██████████| 391/391 [03:37<00:00,  1.79it/s]\n",
            "  0%|          | 0/391 [00:00<?, ?it/s]"
          ],
          "name": "stderr"
        },
        {
          "output_type": "stream",
          "text": [
            "{'n_parameters': 17116634, 'train_loss': 0.28825924741794984, 'resume': '', 'dtype': 'float', 'gpu_id': '0', 'batch_size': 128, 'dataset': 'CIFAR10', 'epochs': 200, 'randomcrop_pad': 4, 'ngpu': 1, 'groups': 1, 'num_classes': 10, 'weight_decay': 0.0005, 'epoch_step': '[60,120,160]', 'test_acc': 83.15, 'test_loss': 0.5318160415450229, 'train_time': 217.8806300163269, 'train_acc': 90.13, 'nthread': 4, 'lr_decay_ratio': 0.2, 'test_time': 13.719089984893799, 'width': 10.0, 'depth': 16, 'lr': 0.1, 'cuda': False, 'epoch': 33, 'dataroot': '.', 'model': 'resnet', 'save': './logs/resnet_20180204'}\n",
            "None\n",
            "==> id: ./logs/resnet_20180204 (33/200), test_acc: \u001b[91m83.15\u001b[0m\n"
          ],
          "name": "stdout"
        },
        {
          "output_type": "stream",
          "text": [
            "100%|██████████| 391/391 [03:37<00:00,  1.80it/s]\n",
            "  0%|          | 0/391 [00:00<?, ?it/s]"
          ],
          "name": "stderr"
        },
        {
          "output_type": "stream",
          "text": [
            "{'n_parameters': 17116634, 'train_loss': 0.2858546926542319, 'resume': '', 'dtype': 'float', 'gpu_id': '0', 'batch_size': 128, 'dataset': 'CIFAR10', 'epochs': 200, 'randomcrop_pad': 4, 'ngpu': 1, 'groups': 1, 'num_classes': 10, 'weight_decay': 0.0005, 'epoch_step': '[60,120,160]', 'test_acc': 82.33, 'test_loss': 0.5582473655290243, 'train_time': 217.7900550365448, 'train_acc': 90.16999999999999, 'nthread': 4, 'lr_decay_ratio': 0.2, 'test_time': 13.762476921081543, 'width': 10.0, 'depth': 16, 'lr': 0.1, 'cuda': False, 'epoch': 34, 'dataroot': '.', 'model': 'resnet', 'save': './logs/resnet_20180204'}\n",
            "None\n",
            "==> id: ./logs/resnet_20180204 (34/200), test_acc: \u001b[91m82.33\u001b[0m\n"
          ],
          "name": "stdout"
        },
        {
          "output_type": "stream",
          "text": [
            "100%|██████████| 391/391 [03:37<00:00,  1.80it/s]\n",
            "  0%|          | 0/391 [00:00<?, ?it/s]"
          ],
          "name": "stderr"
        },
        {
          "output_type": "stream",
          "text": [
            "{'n_parameters': 17116634, 'train_loss': 0.2869341169553033, 'resume': '', 'dtype': 'float', 'gpu_id': '0', 'batch_size': 128, 'dataset': 'CIFAR10', 'epochs': 200, 'randomcrop_pad': 4, 'ngpu': 1, 'groups': 1, 'num_classes': 10, 'weight_decay': 0.0005, 'epoch_step': '[60,120,160]', 'test_acc': 86.88, 'test_loss': 0.4044130123868773, 'train_time': 217.6500952243805, 'train_acc': 90.158, 'nthread': 4, 'lr_decay_ratio': 0.2, 'test_time': 13.782165050506592, 'width': 10.0, 'depth': 16, 'lr': 0.1, 'cuda': False, 'epoch': 35, 'dataroot': '.', 'model': 'resnet', 'save': './logs/resnet_20180204'}\n",
            "None\n",
            "==> id: ./logs/resnet_20180204 (35/200), test_acc: \u001b[91m86.88\u001b[0m\n"
          ],
          "name": "stdout"
        },
        {
          "output_type": "stream",
          "text": [
            "100%|██████████| 391/391 [03:37<00:00,  1.80it/s]\n",
            "  0%|          | 0/391 [00:00<?, ?it/s]"
          ],
          "name": "stderr"
        },
        {
          "output_type": "stream",
          "text": [
            "{'n_parameters': 17116634, 'train_loss': 0.2858984598418331, 'resume': '', 'dtype': 'float', 'gpu_id': '0', 'batch_size': 128, 'dataset': 'CIFAR10', 'epochs': 200, 'randomcrop_pad': 4, 'ngpu': 1, 'groups': 1, 'num_classes': 10, 'weight_decay': 0.0005, 'epoch_step': '[60,120,160]', 'test_acc': 84.57000000000001, 'test_loss': 0.46118680057646344, 'train_time': 217.35139918327332, 'train_acc': 90.116, 'nthread': 4, 'lr_decay_ratio': 0.2, 'test_time': 13.72733998298645, 'width': 10.0, 'depth': 16, 'lr': 0.1, 'cuda': False, 'epoch': 36, 'dataroot': '.', 'model': 'resnet', 'save': './logs/resnet_20180204'}\n",
            "None\n",
            "==> id: ./logs/resnet_20180204 (36/200), test_acc: \u001b[91m84.57\u001b[0m\n"
          ],
          "name": "stdout"
        },
        {
          "output_type": "stream",
          "text": [
            "100%|██████████| 391/391 [03:37<00:00,  1.80it/s]\n",
            "  0%|          | 0/391 [00:00<?, ?it/s]"
          ],
          "name": "stderr"
        },
        {
          "output_type": "stream",
          "text": [
            "{'n_parameters': 17116634, 'train_loss': 0.2787501207550471, 'resume': '', 'dtype': 'float', 'gpu_id': '0', 'batch_size': 128, 'dataset': 'CIFAR10', 'epochs': 200, 'randomcrop_pad': 4, 'ngpu': 1, 'groups': 1, 'num_classes': 10, 'weight_decay': 0.0005, 'epoch_step': '[60,120,160]', 'test_acc': 82.46, 'test_loss': 0.5530493957332419, 'train_time': 217.68571996688843, 'train_acc': 90.39200000000001, 'nthread': 4, 'lr_decay_ratio': 0.2, 'test_time': 13.751474142074585, 'width': 10.0, 'depth': 16, 'lr': 0.1, 'cuda': False, 'epoch': 37, 'dataroot': '.', 'model': 'resnet', 'save': './logs/resnet_20180204'}\n",
            "None\n",
            "==> id: ./logs/resnet_20180204 (37/200), test_acc: \u001b[91m82.46\u001b[0m\n"
          ],
          "name": "stdout"
        },
        {
          "output_type": "stream",
          "text": [
            "100%|██████████| 391/391 [03:36<00:00,  1.80it/s]\n",
            "  0%|          | 0/391 [00:00<?, ?it/s]"
          ],
          "name": "stderr"
        },
        {
          "output_type": "stream",
          "text": [
            "{'n_parameters': 17116634, 'train_loss': 0.28460561848052623, 'resume': '', 'dtype': 'float', 'gpu_id': '0', 'batch_size': 128, 'dataset': 'CIFAR10', 'epochs': 200, 'randomcrop_pad': 4, 'ngpu': 1, 'groups': 1, 'num_classes': 10, 'weight_decay': 0.0005, 'epoch_step': '[60,120,160]', 'test_acc': 85.61999999999999, 'test_loss': 0.4298924532117723, 'train_time': 216.82353806495667, 'train_acc': 90.114, 'nthread': 4, 'lr_decay_ratio': 0.2, 'test_time': 13.745985984802246, 'width': 10.0, 'depth': 16, 'lr': 0.1, 'cuda': False, 'epoch': 38, 'dataroot': '.', 'model': 'resnet', 'save': './logs/resnet_20180204'}\n",
            "None\n",
            "==> id: ./logs/resnet_20180204 (38/200), test_acc: \u001b[91m85.62\u001b[0m\n"
          ],
          "name": "stdout"
        },
        {
          "output_type": "stream",
          "text": [
            "100%|██████████| 391/391 [03:37<00:00,  1.80it/s]\n",
            "  0%|          | 0/391 [00:00<?, ?it/s]"
          ],
          "name": "stderr"
        },
        {
          "output_type": "stream",
          "text": [
            "{'n_parameters': 17116634, 'train_loss': 0.2802756923772489, 'resume': '', 'dtype': 'float', 'gpu_id': '0', 'batch_size': 128, 'dataset': 'CIFAR10', 'epochs': 200, 'randomcrop_pad': 4, 'ngpu': 1, 'groups': 1, 'num_classes': 10, 'weight_decay': 0.0005, 'epoch_step': '[60,120,160]', 'test_acc': 86.83, 'test_loss': 0.3890277215197117, 'train_time': 217.47077679634094, 'train_acc': 90.506, 'nthread': 4, 'lr_decay_ratio': 0.2, 'test_time': 13.754638910293579, 'width': 10.0, 'depth': 16, 'lr': 0.1, 'cuda': False, 'epoch': 39, 'dataroot': '.', 'model': 'resnet', 'save': './logs/resnet_20180204'}\n",
            "None\n",
            "==> id: ./logs/resnet_20180204 (39/200), test_acc: \u001b[91m86.83\u001b[0m\n"
          ],
          "name": "stdout"
        },
        {
          "output_type": "stream",
          "text": [
            "100%|██████████| 391/391 [03:37<00:00,  1.80it/s]\n",
            "  0%|          | 0/391 [00:00<?, ?it/s]"
          ],
          "name": "stderr"
        },
        {
          "output_type": "stream",
          "text": [
            "{'n_parameters': 17116634, 'train_loss': 0.2796197076663948, 'resume': '', 'dtype': 'float', 'gpu_id': '0', 'batch_size': 128, 'dataset': 'CIFAR10', 'epochs': 200, 'randomcrop_pad': 4, 'ngpu': 1, 'groups': 1, 'num_classes': 10, 'weight_decay': 0.0005, 'epoch_step': '[60,120,160]', 'test_acc': 87.25, 'test_loss': 0.3877084230697608, 'train_time': 217.57591104507446, 'train_acc': 90.412, 'nthread': 4, 'lr_decay_ratio': 0.2, 'test_time': 13.738793134689331, 'width': 10.0, 'depth': 16, 'lr': 0.1, 'cuda': False, 'epoch': 40, 'dataroot': '.', 'model': 'resnet', 'save': './logs/resnet_20180204'}\n",
            "None\n",
            "==> id: ./logs/resnet_20180204 (40/200), test_acc: \u001b[91m87.25\u001b[0m\n"
          ],
          "name": "stdout"
        },
        {
          "output_type": "stream",
          "text": [
            "100%|██████████| 391/391 [03:37<00:00,  1.80it/s]\n",
            "  0%|          | 0/391 [00:00<?, ?it/s]"
          ],
          "name": "stderr"
        },
        {
          "output_type": "stream",
          "text": [
            "{'n_parameters': 17116634, 'train_loss': 0.27563471166069226, 'resume': '', 'dtype': 'float', 'gpu_id': '0', 'batch_size': 128, 'dataset': 'CIFAR10', 'epochs': 200, 'randomcrop_pad': 4, 'ngpu': 1, 'groups': 1, 'num_classes': 10, 'weight_decay': 0.0005, 'epoch_step': '[60,120,160]', 'test_acc': 85.75, 'test_loss': 0.42690474624875213, 'train_time': 217.40030694007874, 'train_acc': 90.524, 'nthread': 4, 'lr_decay_ratio': 0.2, 'test_time': 13.737033128738403, 'width': 10.0, 'depth': 16, 'lr': 0.1, 'cuda': False, 'epoch': 41, 'dataroot': '.', 'model': 'resnet', 'save': './logs/resnet_20180204'}\n",
            "None\n",
            "==> id: ./logs/resnet_20180204 (41/200), test_acc: \u001b[91m85.75\u001b[0m\n"
          ],
          "name": "stdout"
        },
        {
          "output_type": "stream",
          "text": [
            "100%|██████████| 391/391 [03:37<00:00,  1.80it/s]\n",
            "  0%|          | 0/391 [00:00<?, ?it/s]"
          ],
          "name": "stderr"
        },
        {
          "output_type": "stream",
          "text": [
            "{'n_parameters': 17116634, 'train_loss': 0.27930751547712823, 'resume': '', 'dtype': 'float', 'gpu_id': '0', 'batch_size': 128, 'dataset': 'CIFAR10', 'epochs': 200, 'randomcrop_pad': 4, 'ngpu': 1, 'groups': 1, 'num_classes': 10, 'weight_decay': 0.0005, 'epoch_step': '[60,120,160]', 'test_acc': 87.28, 'test_loss': 0.3875694199453426, 'train_time': 217.15371894836426, 'train_acc': 90.542, 'nthread': 4, 'lr_decay_ratio': 0.2, 'test_time': 13.707777976989746, 'width': 10.0, 'depth': 16, 'lr': 0.1, 'cuda': False, 'epoch': 42, 'dataroot': '.', 'model': 'resnet', 'save': './logs/resnet_20180204'}\n",
            "None\n",
            "==> id: ./logs/resnet_20180204 (42/200), test_acc: \u001b[91m87.28\u001b[0m\n"
          ],
          "name": "stdout"
        },
        {
          "output_type": "stream",
          "text": [
            "100%|██████████| 391/391 [03:36<00:00,  1.80it/s]\n",
            "  0%|          | 0/391 [00:00<?, ?it/s]"
          ],
          "name": "stderr"
        },
        {
          "output_type": "stream",
          "text": [
            "{'n_parameters': 17116634, 'train_loss': 0.2778648969233794, 'resume': '', 'dtype': 'float', 'gpu_id': '0', 'batch_size': 128, 'dataset': 'CIFAR10', 'epochs': 200, 'randomcrop_pad': 4, 'ngpu': 1, 'groups': 1, 'num_classes': 10, 'weight_decay': 0.0005, 'epoch_step': '[60,120,160]', 'test_acc': 86.47, 'test_loss': 0.4333743507726282, 'train_time': 216.93678498268127, 'train_acc': 90.342, 'nthread': 4, 'lr_decay_ratio': 0.2, 'test_time': 13.79606008529663, 'width': 10.0, 'depth': 16, 'lr': 0.1, 'cuda': False, 'epoch': 43, 'dataroot': '.', 'model': 'resnet', 'save': './logs/resnet_20180204'}\n",
            "None\n",
            "==> id: ./logs/resnet_20180204 (43/200), test_acc: \u001b[91m86.47\u001b[0m\n"
          ],
          "name": "stdout"
        },
        {
          "output_type": "stream",
          "text": [
            "100%|██████████| 391/391 [03:37<00:00,  1.80it/s]\n",
            "  0%|          | 0/391 [00:00<?, ?it/s]"
          ],
          "name": "stderr"
        },
        {
          "output_type": "stream",
          "text": [
            "{'n_parameters': 17116634, 'train_loss': 0.2739179436584264, 'resume': '', 'dtype': 'float', 'gpu_id': '0', 'batch_size': 128, 'dataset': 'CIFAR10', 'epochs': 200, 'randomcrop_pad': 4, 'ngpu': 1, 'groups': 1, 'num_classes': 10, 'weight_decay': 0.0005, 'epoch_step': '[60,120,160]', 'test_acc': 79.89, 'test_loss': 0.668098735281184, 'train_time': 217.65432596206665, 'train_acc': 90.7, 'nthread': 4, 'lr_decay_ratio': 0.2, 'test_time': 13.70254921913147, 'width': 10.0, 'depth': 16, 'lr': 0.1, 'cuda': False, 'epoch': 44, 'dataroot': '.', 'model': 'resnet', 'save': './logs/resnet_20180204'}\n",
            "None\n",
            "==> id: ./logs/resnet_20180204 (44/200), test_acc: \u001b[91m79.89\u001b[0m\n"
          ],
          "name": "stdout"
        },
        {
          "output_type": "stream",
          "text": [
            "100%|██████████| 391/391 [03:36<00:00,  1.80it/s]\n",
            "  0%|          | 0/391 [00:00<?, ?it/s]"
          ],
          "name": "stderr"
        },
        {
          "output_type": "stream",
          "text": [
            "{'n_parameters': 17116634, 'train_loss': 0.27868381885768845, 'resume': '', 'dtype': 'float', 'gpu_id': '0', 'batch_size': 128, 'dataset': 'CIFAR10', 'epochs': 200, 'randomcrop_pad': 4, 'ngpu': 1, 'groups': 1, 'num_classes': 10, 'weight_decay': 0.0005, 'epoch_step': '[60,120,160]', 'test_acc': 80.38, 'test_loss': 0.6358775828458086, 'train_time': 216.85594296455383, 'train_acc': 90.378, 'nthread': 4, 'lr_decay_ratio': 0.2, 'test_time': 13.692797183990479, 'width': 10.0, 'depth': 16, 'lr': 0.1, 'cuda': False, 'epoch': 45, 'dataroot': '.', 'model': 'resnet', 'save': './logs/resnet_20180204'}\n",
            "None\n",
            "==> id: ./logs/resnet_20180204 (45/200), test_acc: \u001b[91m80.38\u001b[0m\n"
          ],
          "name": "stdout"
        },
        {
          "output_type": "stream",
          "text": [
            "100%|██████████| 391/391 [03:37<00:00,  1.80it/s]\n",
            "  0%|          | 0/391 [00:00<?, ?it/s]"
          ],
          "name": "stderr"
        },
        {
          "output_type": "stream",
          "text": [
            "{'n_parameters': 17116634, 'train_loss': 0.2794283858269378, 'resume': '', 'dtype': 'float', 'gpu_id': '0', 'batch_size': 128, 'dataset': 'CIFAR10', 'epochs': 200, 'randomcrop_pad': 4, 'ngpu': 1, 'groups': 1, 'num_classes': 10, 'weight_decay': 0.0005, 'epoch_step': '[60,120,160]', 'test_acc': 86.68, 'test_loss': 0.3801545717670947, 'train_time': 217.44306087493896, 'train_acc': 90.324, 'nthread': 4, 'lr_decay_ratio': 0.2, 'test_time': 13.70913815498352, 'width': 10.0, 'depth': 16, 'lr': 0.1, 'cuda': False, 'epoch': 46, 'dataroot': '.', 'model': 'resnet', 'save': './logs/resnet_20180204'}\n",
            "None\n",
            "==> id: ./logs/resnet_20180204 (46/200), test_acc: \u001b[91m86.68\u001b[0m\n"
          ],
          "name": "stdout"
        },
        {
          "output_type": "stream",
          "text": [
            "100%|██████████| 391/391 [03:37<00:00,  1.80it/s]\n",
            "  0%|          | 0/391 [00:00<?, ?it/s]"
          ],
          "name": "stderr"
        },
        {
          "output_type": "stream",
          "text": [
            "{'n_parameters': 17116634, 'train_loss': 0.26995363545692175, 'resume': '', 'dtype': 'float', 'gpu_id': '0', 'batch_size': 128, 'dataset': 'CIFAR10', 'epochs': 200, 'randomcrop_pad': 4, 'ngpu': 1, 'groups': 1, 'num_classes': 10, 'weight_decay': 0.0005, 'epoch_step': '[60,120,160]', 'test_acc': 84.67, 'test_loss': 0.48267339358601385, 'train_time': 217.16817688941956, 'train_acc': 90.724, 'nthread': 4, 'lr_decay_ratio': 0.2, 'test_time': 13.726230144500732, 'width': 10.0, 'depth': 16, 'lr': 0.1, 'cuda': False, 'epoch': 47, 'dataroot': '.', 'model': 'resnet', 'save': './logs/resnet_20180204'}\n",
            "None\n",
            "==> id: ./logs/resnet_20180204 (47/200), test_acc: \u001b[91m84.67\u001b[0m\n"
          ],
          "name": "stdout"
        },
        {
          "output_type": "stream",
          "text": [
            "100%|██████████| 391/391 [03:37<00:00,  1.80it/s]\n",
            "  0%|          | 0/391 [00:00<?, ?it/s]"
          ],
          "name": "stderr"
        },
        {
          "output_type": "stream",
          "text": [
            "{'n_parameters': 17116634, 'train_loss': 0.2759706286708719, 'resume': '', 'dtype': 'float', 'gpu_id': '0', 'batch_size': 128, 'dataset': 'CIFAR10', 'epochs': 200, 'randomcrop_pad': 4, 'ngpu': 1, 'groups': 1, 'num_classes': 10, 'weight_decay': 0.0005, 'epoch_step': '[60,120,160]', 'test_acc': 85.57000000000001, 'test_loss': 0.43798536892178697, 'train_time': 217.62276101112366, 'train_acc': 90.60000000000001, 'nthread': 4, 'lr_decay_ratio': 0.2, 'test_time': 13.775091886520386, 'width': 10.0, 'depth': 16, 'lr': 0.1, 'cuda': False, 'epoch': 48, 'dataroot': '.', 'model': 'resnet', 'save': './logs/resnet_20180204'}\n",
            "None\n",
            "==> id: ./logs/resnet_20180204 (48/200), test_acc: \u001b[91m85.57\u001b[0m\n"
          ],
          "name": "stdout"
        },
        {
          "output_type": "stream",
          "text": [
            "100%|██████████| 391/391 [03:37<00:00,  1.80it/s]\n",
            "  0%|          | 0/391 [00:00<?, ?it/s]"
          ],
          "name": "stderr"
        },
        {
          "output_type": "stream",
          "text": [
            "{'n_parameters': 17116634, 'train_loss': 0.2736616165322417, 'resume': '', 'dtype': 'float', 'gpu_id': '0', 'batch_size': 128, 'dataset': 'CIFAR10', 'epochs': 200, 'randomcrop_pad': 4, 'ngpu': 1, 'groups': 1, 'num_classes': 10, 'weight_decay': 0.0005, 'epoch_step': '[60,120,160]', 'test_acc': 84.82000000000001, 'test_loss': 0.469576157723801, 'train_time': 217.54354810714722, 'train_acc': 90.512, 'nthread': 4, 'lr_decay_ratio': 0.2, 'test_time': 13.675166130065918, 'width': 10.0, 'depth': 16, 'lr': 0.1, 'cuda': False, 'epoch': 49, 'dataroot': '.', 'model': 'resnet', 'save': './logs/resnet_20180204'}\n",
            "None\n",
            "==> id: ./logs/resnet_20180204 (49/200), test_acc: \u001b[91m84.82\u001b[0m\n"
          ],
          "name": "stdout"
        },
        {
          "output_type": "stream",
          "text": [
            "100%|██████████| 391/391 [03:37<00:00,  1.80it/s]\n",
            "  0%|          | 0/391 [00:00<?, ?it/s]"
          ],
          "name": "stderr"
        },
        {
          "output_type": "stream",
          "text": [
            "{'n_parameters': 17116634, 'train_loss': 0.27132804779445424, 'resume': '', 'dtype': 'float', 'gpu_id': '0', 'batch_size': 128, 'dataset': 'CIFAR10', 'epochs': 200, 'randomcrop_pad': 4, 'ngpu': 1, 'groups': 1, 'num_classes': 10, 'weight_decay': 0.0005, 'epoch_step': '[60,120,160]', 'test_acc': 80.49, 'test_loss': 0.5997253682794449, 'train_time': 217.30773496627808, 'train_acc': 90.62599999999999, 'nthread': 4, 'lr_decay_ratio': 0.2, 'test_time': 13.705413103103638, 'width': 10.0, 'depth': 16, 'lr': 0.1, 'cuda': False, 'epoch': 50, 'dataroot': '.', 'model': 'resnet', 'save': './logs/resnet_20180204'}\n",
            "None\n",
            "==> id: ./logs/resnet_20180204 (50/200), test_acc: \u001b[91m80.49\u001b[0m\n"
          ],
          "name": "stdout"
        },
        {
          "output_type": "stream",
          "text": [
            "100%|██████████| 391/391 [03:37<00:00,  1.80it/s]\n",
            "  0%|          | 0/391 [00:00<?, ?it/s]"
          ],
          "name": "stderr"
        },
        {
          "output_type": "stream",
          "text": [
            "{'n_parameters': 17116634, 'train_loss': 0.26831365096599563, 'resume': '', 'dtype': 'float', 'gpu_id': '0', 'batch_size': 128, 'dataset': 'CIFAR10', 'epochs': 200, 'randomcrop_pad': 4, 'ngpu': 1, 'groups': 1, 'num_classes': 10, 'weight_decay': 0.0005, 'epoch_step': '[60,120,160]', 'test_acc': 86.58, 'test_loss': 0.39163835082627557, 'train_time': 217.62782382965088, 'train_acc': 90.944, 'nthread': 4, 'lr_decay_ratio': 0.2, 'test_time': 13.75183391571045, 'width': 10.0, 'depth': 16, 'lr': 0.1, 'cuda': False, 'epoch': 51, 'dataroot': '.', 'model': 'resnet', 'save': './logs/resnet_20180204'}\n",
            "None\n",
            "==> id: ./logs/resnet_20180204 (51/200), test_acc: \u001b[91m86.58\u001b[0m\n"
          ],
          "name": "stdout"
        },
        {
          "output_type": "stream",
          "text": [
            "100%|██████████| 391/391 [03:37<00:00,  1.80it/s]\n",
            "  0%|          | 0/391 [00:00<?, ?it/s]"
          ],
          "name": "stderr"
        },
        {
          "output_type": "stream",
          "text": [
            "{'n_parameters': 17116634, 'train_loss': 0.2670422529473028, 'resume': '', 'dtype': 'float', 'gpu_id': '0', 'batch_size': 128, 'dataset': 'CIFAR10', 'epochs': 200, 'randomcrop_pad': 4, 'ngpu': 1, 'groups': 1, 'num_classes': 10, 'weight_decay': 0.0005, 'epoch_step': '[60,120,160]', 'test_acc': 82.34, 'test_loss': 0.5280641924731337, 'train_time': 217.63303208351135, 'train_acc': 90.84400000000001, 'nthread': 4, 'lr_decay_ratio': 0.2, 'test_time': 13.718966007232666, 'width': 10.0, 'depth': 16, 'lr': 0.1, 'cuda': False, 'epoch': 52, 'dataroot': '.', 'model': 'resnet', 'save': './logs/resnet_20180204'}\n",
            "None\n",
            "==> id: ./logs/resnet_20180204 (52/200), test_acc: \u001b[91m82.34\u001b[0m\n"
          ],
          "name": "stdout"
        },
        {
          "output_type": "stream",
          "text": [
            "100%|██████████| 391/391 [03:37<00:00,  1.80it/s]\n",
            "  0%|          | 0/391 [00:00<?, ?it/s]"
          ],
          "name": "stderr"
        },
        {
          "output_type": "stream",
          "text": [
            "{'n_parameters': 17116634, 'train_loss': 0.2677144047892308, 'resume': '', 'dtype': 'float', 'gpu_id': '0', 'batch_size': 128, 'dataset': 'CIFAR10', 'epochs': 200, 'randomcrop_pad': 4, 'ngpu': 1, 'groups': 1, 'num_classes': 10, 'weight_decay': 0.0005, 'epoch_step': '[60,120,160]', 'test_acc': 88.3, 'test_loss': 0.3570534720828261, 'train_time': 217.45209312438965, 'train_acc': 90.884, 'nthread': 4, 'lr_decay_ratio': 0.2, 'test_time': 13.71563982963562, 'width': 10.0, 'depth': 16, 'lr': 0.1, 'cuda': False, 'epoch': 53, 'dataroot': '.', 'model': 'resnet', 'save': './logs/resnet_20180204'}\n",
            "None\n",
            "==> id: ./logs/resnet_20180204 (53/200), test_acc: \u001b[91m88.30\u001b[0m\n"
          ],
          "name": "stdout"
        },
        {
          "output_type": "stream",
          "text": [
            "100%|██████████| 391/391 [03:37<00:00,  1.80it/s]\n",
            "  0%|          | 0/391 [00:00<?, ?it/s]"
          ],
          "name": "stderr"
        },
        {
          "output_type": "stream",
          "text": [
            "{'n_parameters': 17116634, 'train_loss': 0.26860756585207723, 'resume': '', 'dtype': 'float', 'gpu_id': '0', 'batch_size': 128, 'dataset': 'CIFAR10', 'epochs': 200, 'randomcrop_pad': 4, 'ngpu': 1, 'groups': 1, 'num_classes': 10, 'weight_decay': 0.0005, 'epoch_step': '[60,120,160]', 'test_acc': 84.2, 'test_loss': 0.5046773937684071, 'train_time': 217.2506799697876, 'train_acc': 90.75800000000001, 'nthread': 4, 'lr_decay_ratio': 0.2, 'test_time': 13.75008487701416, 'width': 10.0, 'depth': 16, 'lr': 0.1, 'cuda': False, 'epoch': 54, 'dataroot': '.', 'model': 'resnet', 'save': './logs/resnet_20180204'}\n",
            "None\n",
            "==> id: ./logs/resnet_20180204 (54/200), test_acc: \u001b[91m84.20\u001b[0m\n"
          ],
          "name": "stdout"
        },
        {
          "output_type": "stream",
          "text": [
            "100%|██████████| 391/391 [03:37<00:00,  1.80it/s]\n",
            "  0%|          | 0/391 [00:00<?, ?it/s]"
          ],
          "name": "stderr"
        },
        {
          "output_type": "stream",
          "text": [
            "{'n_parameters': 17116634, 'train_loss': 0.2684491051889744, 'resume': '', 'dtype': 'float', 'gpu_id': '0', 'batch_size': 128, 'dataset': 'CIFAR10', 'epochs': 200, 'randomcrop_pad': 4, 'ngpu': 1, 'groups': 1, 'num_classes': 10, 'weight_decay': 0.0005, 'epoch_step': '[60,120,160]', 'test_acc': 85.86, 'test_loss': 0.4222586485026758, 'train_time': 217.19770097732544, 'train_acc': 90.78399999999999, 'nthread': 4, 'lr_decay_ratio': 0.2, 'test_time': 13.753730058670044, 'width': 10.0, 'depth': 16, 'lr': 0.1, 'cuda': False, 'epoch': 55, 'dataroot': '.', 'model': 'resnet', 'save': './logs/resnet_20180204'}\n",
            "None\n",
            "==> id: ./logs/resnet_20180204 (55/200), test_acc: \u001b[91m85.86\u001b[0m\n"
          ],
          "name": "stdout"
        },
        {
          "output_type": "stream",
          "text": [
            "100%|██████████| 391/391 [03:37<00:00,  1.80it/s]\n",
            "  0%|          | 0/391 [00:00<?, ?it/s]"
          ],
          "name": "stderr"
        },
        {
          "output_type": "stream",
          "text": [
            "{'n_parameters': 17116634, 'train_loss': 0.2742875682194827, 'resume': '', 'dtype': 'float', 'gpu_id': '0', 'batch_size': 128, 'dataset': 'CIFAR10', 'epochs': 200, 'randomcrop_pad': 4, 'ngpu': 1, 'groups': 1, 'num_classes': 10, 'weight_decay': 0.0005, 'epoch_step': '[60,120,160]', 'test_acc': 87.56, 'test_loss': 0.3678487771296803, 'train_time': 217.3249969482422, 'train_acc': 90.652, 'nthread': 4, 'lr_decay_ratio': 0.2, 'test_time': 13.678276777267456, 'width': 10.0, 'depth': 16, 'lr': 0.1, 'cuda': False, 'epoch': 56, 'dataroot': '.', 'model': 'resnet', 'save': './logs/resnet_20180204'}\n",
            "None\n",
            "==> id: ./logs/resnet_20180204 (56/200), test_acc: \u001b[91m87.56\u001b[0m\n"
          ],
          "name": "stdout"
        },
        {
          "output_type": "stream",
          "text": [
            "100%|██████████| 391/391 [03:37<00:00,  1.80it/s]\n",
            "  0%|          | 0/391 [00:00<?, ?it/s]"
          ],
          "name": "stderr"
        },
        {
          "output_type": "stream",
          "text": [
            "{'n_parameters': 17116634, 'train_loss': 0.26159005072872993, 'resume': '', 'dtype': 'float', 'gpu_id': '0', 'batch_size': 128, 'dataset': 'CIFAR10', 'epochs': 200, 'randomcrop_pad': 4, 'ngpu': 1, 'groups': 1, 'num_classes': 10, 'weight_decay': 0.0005, 'epoch_step': '[60,120,160]', 'test_acc': 86.13, 'test_loss': 0.40036135798768163, 'train_time': 217.67248511314392, 'train_acc': 90.976, 'nthread': 4, 'lr_decay_ratio': 0.2, 'test_time': 13.681823968887329, 'width': 10.0, 'depth': 16, 'lr': 0.1, 'cuda': False, 'epoch': 57, 'dataroot': '.', 'model': 'resnet', 'save': './logs/resnet_20180204'}\n",
            "None\n",
            "==> id: ./logs/resnet_20180204 (57/200), test_acc: \u001b[91m86.13\u001b[0m\n"
          ],
          "name": "stdout"
        },
        {
          "output_type": "stream",
          "text": [
            "100%|██████████| 391/391 [03:37<00:00,  1.80it/s]\n",
            "  0%|          | 0/391 [00:00<?, ?it/s]"
          ],
          "name": "stderr"
        },
        {
          "output_type": "stream",
          "text": [
            "{'n_parameters': 17116634, 'train_loss': 0.2646683266629346, 'resume': '', 'dtype': 'float', 'gpu_id': '0', 'batch_size': 128, 'dataset': 'CIFAR10', 'epochs': 200, 'randomcrop_pad': 4, 'ngpu': 1, 'groups': 1, 'num_classes': 10, 'weight_decay': 0.0005, 'epoch_step': '[60,120,160]', 'test_acc': 78.94, 'test_loss': 0.7798613177824627, 'train_time': 217.2624478340149, 'train_acc': 90.976, 'nthread': 4, 'lr_decay_ratio': 0.2, 'test_time': 13.673496007919312, 'width': 10.0, 'depth': 16, 'lr': 0.1, 'cuda': False, 'epoch': 58, 'dataroot': '.', 'model': 'resnet', 'save': './logs/resnet_20180204'}\n",
            "None\n",
            "==> id: ./logs/resnet_20180204 (58/200), test_acc: \u001b[91m78.94\u001b[0m\n"
          ],
          "name": "stdout"
        },
        {
          "output_type": "stream",
          "text": [
            "100%|██████████| 391/391 [03:37<00:00,  1.80it/s]\n",
            "  0%|          | 0/391 [00:00<?, ?it/s]"
          ],
          "name": "stderr"
        },
        {
          "output_type": "stream",
          "text": [
            "{'n_parameters': 17116634, 'train_loss': 0.2682039741131353, 'resume': '', 'dtype': 'float', 'gpu_id': '0', 'batch_size': 128, 'dataset': 'CIFAR10', 'epochs': 200, 'randomcrop_pad': 4, 'ngpu': 1, 'groups': 1, 'num_classes': 10, 'weight_decay': 0.0005, 'epoch_step': '[60,120,160]', 'test_acc': 86.81, 'test_loss': 0.41292966958842686, 'train_time': 217.41624212265015, 'train_acc': 90.788, 'nthread': 4, 'lr_decay_ratio': 0.2, 'test_time': 13.720924139022827, 'width': 10.0, 'depth': 16, 'lr': 0.1, 'cuda': False, 'epoch': 59, 'dataroot': '.', 'model': 'resnet', 'save': './logs/resnet_20180204'}\n",
            "None\n",
            "==> id: ./logs/resnet_20180204 (59/200), test_acc: \u001b[91m86.81\u001b[0m\n",
            "('creating optimizer with lr = ', 0.020000000000000004)\n"
          ],
          "name": "stdout"
        },
        {
          "output_type": "stream",
          "text": [
            "100%|██████████| 391/391 [03:37<00:00,  1.80it/s]\n",
            "  0%|          | 0/391 [00:00<?, ?it/s]"
          ],
          "name": "stderr"
        },
        {
          "output_type": "stream",
          "text": [
            "{'n_parameters': 17116634, 'train_loss': 0.1256983668431448, 'resume': '', 'dtype': 'float', 'gpu_id': '0', 'batch_size': 128, 'dataset': 'CIFAR10', 'epochs': 200, 'randomcrop_pad': 4, 'ngpu': 1, 'groups': 1, 'num_classes': 10, 'weight_decay': 0.0005, 'epoch_step': '[60,120,160]', 'test_acc': 93.76, 'test_loss': 0.18958731203139587, 'train_time': 217.33907914161682, 'train_acc': 95.906, 'nthread': 4, 'lr_decay_ratio': 0.2, 'test_time': 13.715919017791748, 'width': 10.0, 'depth': 16, 'lr': 0.1, 'cuda': False, 'epoch': 60, 'dataroot': '.', 'model': 'resnet', 'save': './logs/resnet_20180204'}\n",
            "None\n",
            "==> id: ./logs/resnet_20180204 (60/200), test_acc: \u001b[91m93.76\u001b[0m\n"
          ],
          "name": "stdout"
        },
        {
          "output_type": "stream",
          "text": [
            "100%|██████████| 391/391 [03:37<00:00,  1.80it/s]\n",
            "  0%|          | 0/391 [00:00<?, ?it/s]"
          ],
          "name": "stderr"
        },
        {
          "output_type": "stream",
          "text": [
            "{'n_parameters': 17116634, 'train_loss': 0.08206822524499857, 'resume': '', 'dtype': 'float', 'gpu_id': '0', 'batch_size': 128, 'dataset': 'CIFAR10', 'epochs': 200, 'randomcrop_pad': 4, 'ngpu': 1, 'groups': 1, 'num_classes': 10, 'weight_decay': 0.0005, 'epoch_step': '[60,120,160]', 'test_acc': 93.78999999999999, 'test_loss': 0.1855687728222411, 'train_time': 217.36033415794373, 'train_acc': 97.426, 'nthread': 4, 'lr_decay_ratio': 0.2, 'test_time': 13.76692008972168, 'width': 10.0, 'depth': 16, 'lr': 0.1, 'cuda': False, 'epoch': 61, 'dataroot': '.', 'model': 'resnet', 'save': './logs/resnet_20180204'}\n",
            "None\n",
            "==> id: ./logs/resnet_20180204 (61/200), test_acc: \u001b[91m93.79\u001b[0m\n"
          ],
          "name": "stdout"
        },
        {
          "output_type": "stream",
          "text": [
            "100%|██████████| 391/391 [03:37<00:00,  1.80it/s]\n",
            "  0%|          | 0/391 [00:00<?, ?it/s]"
          ],
          "name": "stderr"
        },
        {
          "output_type": "stream",
          "text": [
            "{'n_parameters': 17116634, 'train_loss': 0.06631983270692399, 'resume': '', 'dtype': 'float', 'gpu_id': '0', 'batch_size': 128, 'dataset': 'CIFAR10', 'epochs': 200, 'randomcrop_pad': 4, 'ngpu': 1, 'groups': 1, 'num_classes': 10, 'weight_decay': 0.0005, 'epoch_step': '[60,120,160]', 'test_acc': 94.28, 'test_loss': 0.1804104881667638, 'train_time': 217.6913390159607, 'train_acc': 97.882, 'nthread': 4, 'lr_decay_ratio': 0.2, 'test_time': 13.733273983001709, 'width': 10.0, 'depth': 16, 'lr': 0.1, 'cuda': False, 'epoch': 62, 'dataroot': '.', 'model': 'resnet', 'save': './logs/resnet_20180204'}\n",
            "None\n",
            "==> id: ./logs/resnet_20180204 (62/200), test_acc: \u001b[91m94.28\u001b[0m\n"
          ],
          "name": "stdout"
        },
        {
          "output_type": "stream",
          "text": [
            "100%|██████████| 391/391 [03:37<00:00,  1.80it/s]\n",
            "  0%|          | 0/391 [00:00<?, ?it/s]"
          ],
          "name": "stderr"
        },
        {
          "output_type": "stream",
          "text": [
            "{'n_parameters': 17116634, 'train_loss': 0.057601654316153356, 'resume': '', 'dtype': 'float', 'gpu_id': '0', 'batch_size': 128, 'dataset': 'CIFAR10', 'epochs': 200, 'randomcrop_pad': 4, 'ngpu': 1, 'groups': 1, 'num_classes': 10, 'weight_decay': 0.0005, 'epoch_step': '[60,120,160]', 'test_acc': 93.78999999999999, 'test_loss': 0.1998468524293055, 'train_time': 217.22775888442993, 'train_acc': 98.26599999999999, 'nthread': 4, 'lr_decay_ratio': 0.2, 'test_time': 13.697176933288574, 'width': 10.0, 'depth': 16, 'lr': 0.1, 'cuda': False, 'epoch': 63, 'dataroot': '.', 'model': 'resnet', 'save': './logs/resnet_20180204'}\n",
            "None\n",
            "==> id: ./logs/resnet_20180204 (63/200), test_acc: \u001b[91m93.79\u001b[0m\n"
          ],
          "name": "stdout"
        },
        {
          "output_type": "stream",
          "text": [
            "100%|██████████| 391/391 [03:37<00:00,  1.80it/s]\n",
            "  0%|          | 0/391 [00:00<?, ?it/s]"
          ],
          "name": "stderr"
        },
        {
          "output_type": "stream",
          "text": [
            "{'n_parameters': 17116634, 'train_loss': 0.05063646840279358, 'resume': '', 'dtype': 'float', 'gpu_id': '0', 'batch_size': 128, 'dataset': 'CIFAR10', 'epochs': 200, 'randomcrop_pad': 4, 'ngpu': 1, 'groups': 1, 'num_classes': 10, 'weight_decay': 0.0005, 'epoch_step': '[60,120,160]', 'test_acc': 94.04, 'test_loss': 0.19069462576055826, 'train_time': 217.6670799255371, 'train_acc': 98.496, 'nthread': 4, 'lr_decay_ratio': 0.2, 'test_time': 13.76620888710022, 'width': 10.0, 'depth': 16, 'lr': 0.1, 'cuda': False, 'epoch': 64, 'dataroot': '.', 'model': 'resnet', 'save': './logs/resnet_20180204'}\n",
            "None\n",
            "==> id: ./logs/resnet_20180204 (64/200), test_acc: \u001b[91m94.04\u001b[0m\n"
          ],
          "name": "stdout"
        },
        {
          "output_type": "stream",
          "text": [
            "100%|██████████| 391/391 [03:37<00:00,  1.80it/s]\n",
            "  0%|          | 0/391 [00:00<?, ?it/s]"
          ],
          "name": "stderr"
        },
        {
          "output_type": "stream",
          "text": [
            "{'n_parameters': 17116634, 'train_loss': 0.04647467611238472, 'resume': '', 'dtype': 'float', 'gpu_id': '0', 'batch_size': 128, 'dataset': 'CIFAR10', 'epochs': 200, 'randomcrop_pad': 4, 'ngpu': 1, 'groups': 1, 'num_classes': 10, 'weight_decay': 0.0005, 'epoch_step': '[60,120,160]', 'test_acc': 93.61, 'test_loss': 0.21995068053844608, 'train_time': 217.31076312065125, 'train_acc': 98.626, 'nthread': 4, 'lr_decay_ratio': 0.2, 'test_time': 13.68282413482666, 'width': 10.0, 'depth': 16, 'lr': 0.1, 'cuda': False, 'epoch': 65, 'dataroot': '.', 'model': 'resnet', 'save': './logs/resnet_20180204'}\n",
            "None\n",
            "==> id: ./logs/resnet_20180204 (65/200), test_acc: \u001b[91m93.61\u001b[0m\n"
          ],
          "name": "stdout"
        },
        {
          "output_type": "stream",
          "text": [
            "100%|██████████| 391/391 [03:37<00:00,  1.80it/s]\n",
            "  0%|          | 0/391 [00:00<?, ?it/s]"
          ],
          "name": "stderr"
        },
        {
          "output_type": "stream",
          "text": [
            "{'n_parameters': 17116634, 'train_loss': 0.04202310547061132, 'resume': '', 'dtype': 'float', 'gpu_id': '0', 'batch_size': 128, 'dataset': 'CIFAR10', 'epochs': 200, 'randomcrop_pad': 4, 'ngpu': 1, 'groups': 1, 'num_classes': 10, 'weight_decay': 0.0005, 'epoch_step': '[60,120,160]', 'test_acc': 93.83, 'test_loss': 0.19969011343355422, 'train_time': 217.5136320590973, 'train_acc': 98.804, 'nthread': 4, 'lr_decay_ratio': 0.2, 'test_time': 13.721693992614746, 'width': 10.0, 'depth': 16, 'lr': 0.1, 'cuda': False, 'epoch': 66, 'dataroot': '.', 'model': 'resnet', 'save': './logs/resnet_20180204'}\n",
            "None\n",
            "==> id: ./logs/resnet_20180204 (66/200), test_acc: \u001b[91m93.83\u001b[0m\n"
          ],
          "name": "stdout"
        },
        {
          "output_type": "stream",
          "text": [
            "100%|██████████| 391/391 [03:37<00:00,  1.80it/s]\n",
            "  0%|          | 0/391 [00:00<?, ?it/s]"
          ],
          "name": "stderr"
        },
        {
          "output_type": "stream",
          "text": [
            "{'n_parameters': 17116634, 'train_loss': 0.040113252675746655, 'resume': '', 'dtype': 'float', 'gpu_id': '0', 'batch_size': 128, 'dataset': 'CIFAR10', 'epochs': 200, 'randomcrop_pad': 4, 'ngpu': 1, 'groups': 1, 'num_classes': 10, 'weight_decay': 0.0005, 'epoch_step': '[60,120,160]', 'test_acc': 94.04, 'test_loss': 0.19935920773239077, 'train_time': 217.15437602996826, 'train_acc': 98.824, 'nthread': 4, 'lr_decay_ratio': 0.2, 'test_time': 13.691057920455933, 'width': 10.0, 'depth': 16, 'lr': 0.1, 'cuda': False, 'epoch': 67, 'dataroot': '.', 'model': 'resnet', 'save': './logs/resnet_20180204'}\n",
            "None\n",
            "==> id: ./logs/resnet_20180204 (67/200), test_acc: \u001b[91m94.04\u001b[0m\n"
          ],
          "name": "stdout"
        },
        {
          "output_type": "stream",
          "text": [
            "100%|██████████| 391/391 [03:37<00:00,  1.80it/s]\n",
            "  0%|          | 0/391 [00:00<?, ?it/s]"
          ],
          "name": "stderr"
        },
        {
          "output_type": "stream",
          "text": [
            "{'n_parameters': 17116634, 'train_loss': 0.04093471652997276, 'resume': '', 'dtype': 'float', 'gpu_id': '0', 'batch_size': 128, 'dataset': 'CIFAR10', 'epochs': 200, 'randomcrop_pad': 4, 'ngpu': 1, 'groups': 1, 'num_classes': 10, 'weight_decay': 0.0005, 'epoch_step': '[60,120,160]', 'test_acc': 93.86, 'test_loss': 0.2160727291167537, 'train_time': 217.25063300132751, 'train_acc': 98.76599999999999, 'nthread': 4, 'lr_decay_ratio': 0.2, 'test_time': 13.787942886352539, 'width': 10.0, 'depth': 16, 'lr': 0.1, 'cuda': False, 'epoch': 68, 'dataroot': '.', 'model': 'resnet', 'save': './logs/resnet_20180204'}\n",
            "None\n",
            "==> id: ./logs/resnet_20180204 (68/200), test_acc: \u001b[91m93.86\u001b[0m\n"
          ],
          "name": "stdout"
        },
        {
          "output_type": "stream",
          "text": [
            "100%|██████████| 391/391 [03:37<00:00,  1.80it/s]\n",
            "  0%|          | 0/391 [00:00<?, ?it/s]"
          ],
          "name": "stderr"
        },
        {
          "output_type": "stream",
          "text": [
            "{'n_parameters': 17116634, 'train_loss': 0.04285028567799674, 'resume': '', 'dtype': 'float', 'gpu_id': '0', 'batch_size': 128, 'dataset': 'CIFAR10', 'epochs': 200, 'randomcrop_pad': 4, 'ngpu': 1, 'groups': 1, 'num_classes': 10, 'weight_decay': 0.0005, 'epoch_step': '[60,120,160]', 'test_acc': 93.65, 'test_loss': 0.21212112804568264, 'train_time': 217.57354497909546, 'train_acc': 98.736, 'nthread': 4, 'lr_decay_ratio': 0.2, 'test_time': 13.765782833099365, 'width': 10.0, 'depth': 16, 'lr': 0.1, 'cuda': False, 'epoch': 69, 'dataroot': '.', 'model': 'resnet', 'save': './logs/resnet_20180204'}\n",
            "None\n",
            "==> id: ./logs/resnet_20180204 (69/200), test_acc: \u001b[91m93.65\u001b[0m\n"
          ],
          "name": "stdout"
        },
        {
          "output_type": "stream",
          "text": [
            "100%|██████████| 391/391 [03:36<00:00,  1.80it/s]\n",
            "  0%|          | 0/391 [00:00<?, ?it/s]"
          ],
          "name": "stderr"
        },
        {
          "output_type": "stream",
          "text": [
            "{'n_parameters': 17116634, 'train_loss': 0.044210145049883284, 'resume': '', 'dtype': 'float', 'gpu_id': '0', 'batch_size': 128, 'dataset': 'CIFAR10', 'epochs': 200, 'randomcrop_pad': 4, 'ngpu': 1, 'groups': 1, 'num_classes': 10, 'weight_decay': 0.0005, 'epoch_step': '[60,120,160]', 'test_acc': 93.11, 'test_loss': 0.2392545373568052, 'train_time': 216.8966829776764, 'train_acc': 98.67399999999999, 'nthread': 4, 'lr_decay_ratio': 0.2, 'test_time': 13.69530200958252, 'width': 10.0, 'depth': 16, 'lr': 0.1, 'cuda': False, 'epoch': 70, 'dataroot': '.', 'model': 'resnet', 'save': './logs/resnet_20180204'}\n",
            "None\n",
            "==> id: ./logs/resnet_20180204 (70/200), test_acc: \u001b[91m93.11\u001b[0m\n"
          ],
          "name": "stdout"
        },
        {
          "output_type": "stream",
          "text": [
            "100%|██████████| 391/391 [03:37<00:00,  1.80it/s]\n",
            "  0%|          | 0/391 [00:00<?, ?it/s]"
          ],
          "name": "stderr"
        },
        {
          "output_type": "stream",
          "text": [
            "{'n_parameters': 17116634, 'train_loss': 0.04713651460007099, 'resume': '', 'dtype': 'float', 'gpu_id': '0', 'batch_size': 128, 'dataset': 'CIFAR10', 'epochs': 200, 'randomcrop_pad': 4, 'ngpu': 1, 'groups': 1, 'num_classes': 10, 'weight_decay': 0.0005, 'epoch_step': '[60,120,160]', 'test_acc': 93.01, 'test_loss': 0.2500886189975316, 'train_time': 217.57821393013, 'train_acc': 98.546, 'nthread': 4, 'lr_decay_ratio': 0.2, 'test_time': 13.667189836502075, 'width': 10.0, 'depth': 16, 'lr': 0.1, 'cuda': False, 'epoch': 71, 'dataroot': '.', 'model': 'resnet', 'save': './logs/resnet_20180204'}\n",
            "None\n",
            "==> id: ./logs/resnet_20180204 (71/200), test_acc: \u001b[91m93.01\u001b[0m\n"
          ],
          "name": "stdout"
        },
        {
          "output_type": "stream",
          "text": [
            "100%|██████████| 391/391 [03:37<00:00,  1.80it/s]\n",
            "  0%|          | 0/391 [00:00<?, ?it/s]"
          ],
          "name": "stderr"
        },
        {
          "output_type": "stream",
          "text": [
            "{'n_parameters': 17116634, 'train_loss': 0.04477850391107902, 'resume': '', 'dtype': 'float', 'gpu_id': '0', 'batch_size': 128, 'dataset': 'CIFAR10', 'epochs': 200, 'randomcrop_pad': 4, 'ngpu': 1, 'groups': 1, 'num_classes': 10, 'weight_decay': 0.0005, 'epoch_step': '[60,120,160]', 'test_acc': 92.74, 'test_loss': 0.24382551500125776, 'train_time': 217.27448511123657, 'train_acc': 98.642, 'nthread': 4, 'lr_decay_ratio': 0.2, 'test_time': 13.702969074249268, 'width': 10.0, 'depth': 16, 'lr': 0.1, 'cuda': False, 'epoch': 72, 'dataroot': '.', 'model': 'resnet', 'save': './logs/resnet_20180204'}\n",
            "None\n",
            "==> id: ./logs/resnet_20180204 (72/200), test_acc: \u001b[91m92.74\u001b[0m\n"
          ],
          "name": "stdout"
        },
        {
          "output_type": "stream",
          "text": [
            "100%|██████████| 391/391 [03:37<00:00,  1.80it/s]\n",
            "  0%|          | 0/391 [00:00<?, ?it/s]"
          ],
          "name": "stderr"
        },
        {
          "output_type": "stream",
          "text": [
            "{'n_parameters': 17116634, 'train_loss': 0.052833979525377016, 'resume': '', 'dtype': 'float', 'gpu_id': '0', 'batch_size': 128, 'dataset': 'CIFAR10', 'epochs': 200, 'randomcrop_pad': 4, 'ngpu': 1, 'groups': 1, 'num_classes': 10, 'weight_decay': 0.0005, 'epoch_step': '[60,120,160]', 'test_acc': 91.78, 'test_loss': 0.28037676748029783, 'train_time': 217.553071975708, 'train_acc': 98.356, 'nthread': 4, 'lr_decay_ratio': 0.2, 'test_time': 13.779088020324707, 'width': 10.0, 'depth': 16, 'lr': 0.1, 'cuda': False, 'epoch': 73, 'dataroot': '.', 'model': 'resnet', 'save': './logs/resnet_20180204'}\n",
            "None\n",
            "==> id: ./logs/resnet_20180204 (73/200), test_acc: \u001b[91m91.78\u001b[0m\n"
          ],
          "name": "stdout"
        },
        {
          "output_type": "stream",
          "text": [
            "100%|██████████| 391/391 [03:37<00:00,  1.80it/s]\n",
            "  0%|          | 0/391 [00:00<?, ?it/s]"
          ],
          "name": "stderr"
        },
        {
          "output_type": "stream",
          "text": [
            "{'n_parameters': 17116634, 'train_loss': 0.05848978177341808, 'resume': '', 'dtype': 'float', 'gpu_id': '0', 'batch_size': 128, 'dataset': 'CIFAR10', 'epochs': 200, 'randomcrop_pad': 4, 'ngpu': 1, 'groups': 1, 'num_classes': 10, 'weight_decay': 0.0005, 'epoch_step': '[60,120,160]', 'test_acc': 92.58999999999999, 'test_loss': 0.24831777018836781, 'train_time': 217.18078303337097, 'train_acc': 98.116, 'nthread': 4, 'lr_decay_ratio': 0.2, 'test_time': 13.733321189880371, 'width': 10.0, 'depth': 16, 'lr': 0.1, 'cuda': False, 'epoch': 74, 'dataroot': '.', 'model': 'resnet', 'save': './logs/resnet_20180204'}\n",
            "None\n",
            "==> id: ./logs/resnet_20180204 (74/200), test_acc: \u001b[91m92.59\u001b[0m\n"
          ],
          "name": "stdout"
        },
        {
          "output_type": "stream",
          "text": [
            "100%|██████████| 391/391 [03:37<00:00,  1.80it/s]\n",
            "  0%|          | 0/391 [00:00<?, ?it/s]"
          ],
          "name": "stderr"
        },
        {
          "output_type": "stream",
          "text": [
            "{'n_parameters': 17116634, 'train_loss': 0.0586647406372878, 'resume': '', 'dtype': 'float', 'gpu_id': '0', 'batch_size': 128, 'dataset': 'CIFAR10', 'epochs': 200, 'randomcrop_pad': 4, 'ngpu': 1, 'groups': 1, 'num_classes': 10, 'weight_decay': 0.0005, 'epoch_step': '[60,120,160]', 'test_acc': 90.81, 'test_loss': 0.3079278288008291, 'train_time': 217.5748209953308, 'train_acc': 98.142, 'nthread': 4, 'lr_decay_ratio': 0.2, 'test_time': 13.7586989402771, 'width': 10.0, 'depth': 16, 'lr': 0.1, 'cuda': False, 'epoch': 75, 'dataroot': '.', 'model': 'resnet', 'save': './logs/resnet_20180204'}\n",
            "None\n",
            "==> id: ./logs/resnet_20180204 (75/200), test_acc: \u001b[91m90.81\u001b[0m\n"
          ],
          "name": "stdout"
        },
        {
          "output_type": "stream",
          "text": [
            "100%|██████████| 391/391 [03:37<00:00,  1.80it/s]\n",
            "  0%|          | 0/391 [00:00<?, ?it/s]"
          ],
          "name": "stderr"
        },
        {
          "output_type": "stream",
          "text": [
            "{'n_parameters': 17116634, 'train_loss': 0.05715490503193773, 'resume': '', 'dtype': 'float', 'gpu_id': '0', 'batch_size': 128, 'dataset': 'CIFAR10', 'epochs': 200, 'randomcrop_pad': 4, 'ngpu': 1, 'groups': 1, 'num_classes': 10, 'weight_decay': 0.0005, 'epoch_step': '[60,120,160]', 'test_acc': 92.06, 'test_loss': 0.2732525540492204, 'train_time': 217.43970894813538, 'train_acc': 98.248, 'nthread': 4, 'lr_decay_ratio': 0.2, 'test_time': 13.730976104736328, 'width': 10.0, 'depth': 16, 'lr': 0.1, 'cuda': False, 'epoch': 76, 'dataroot': '.', 'model': 'resnet', 'save': './logs/resnet_20180204'}\n",
            "None\n",
            "==> id: ./logs/resnet_20180204 (76/200), test_acc: \u001b[91m92.06\u001b[0m\n"
          ],
          "name": "stdout"
        },
        {
          "output_type": "stream",
          "text": [
            "100%|██████████| 391/391 [03:37<00:00,  1.80it/s]\n",
            "  0%|          | 0/391 [00:00<?, ?it/s]"
          ],
          "name": "stderr"
        },
        {
          "output_type": "stream",
          "text": [
            "{'n_parameters': 17116634, 'train_loss': 0.06807367548899125, 'resume': '', 'dtype': 'float', 'gpu_id': '0', 'batch_size': 128, 'dataset': 'CIFAR10', 'epochs': 200, 'randomcrop_pad': 4, 'ngpu': 1, 'groups': 1, 'num_classes': 10, 'weight_decay': 0.0005, 'epoch_step': '[60,120,160]', 'test_acc': 92.27, 'test_loss': 0.26867346371276474, 'train_time': 217.17695903778076, 'train_acc': 97.76599999999999, 'nthread': 4, 'lr_decay_ratio': 0.2, 'test_time': 13.732006072998047, 'width': 10.0, 'depth': 16, 'lr': 0.1, 'cuda': False, 'epoch': 77, 'dataroot': '.', 'model': 'resnet', 'save': './logs/resnet_20180204'}\n",
            "None\n",
            "==> id: ./logs/resnet_20180204 (77/200), test_acc: \u001b[91m92.27\u001b[0m\n"
          ],
          "name": "stdout"
        },
        {
          "output_type": "stream",
          "text": [
            "100%|██████████| 391/391 [03:37<00:00,  1.80it/s]\n",
            "  0%|          | 0/391 [00:00<?, ?it/s]"
          ],
          "name": "stderr"
        },
        {
          "output_type": "stream",
          "text": [
            "{'n_parameters': 17116634, 'train_loss': 0.06135298503215049, 'resume': '', 'dtype': 'float', 'gpu_id': '0', 'batch_size': 128, 'dataset': 'CIFAR10', 'epochs': 200, 'randomcrop_pad': 4, 'ngpu': 1, 'groups': 1, 'num_classes': 10, 'weight_decay': 0.0005, 'epoch_step': '[60,120,160]', 'test_acc': 92.22, 'test_loss': 0.26584015862096716, 'train_time': 217.32148790359497, 'train_acc': 98.09, 'nthread': 4, 'lr_decay_ratio': 0.2, 'test_time': 13.698976039886475, 'width': 10.0, 'depth': 16, 'lr': 0.1, 'cuda': False, 'epoch': 78, 'dataroot': '.', 'model': 'resnet', 'save': './logs/resnet_20180204'}\n",
            "None\n",
            "==> id: ./logs/resnet_20180204 (78/200), test_acc: \u001b[91m92.22\u001b[0m\n"
          ],
          "name": "stdout"
        },
        {
          "output_type": "stream",
          "text": [
            "100%|██████████| 391/391 [03:37<00:00,  1.80it/s]\n",
            "  0%|          | 0/391 [00:00<?, ?it/s]"
          ],
          "name": "stderr"
        },
        {
          "output_type": "stream",
          "text": [
            "{'n_parameters': 17116634, 'train_loss': 0.06570802059720089, 'resume': '', 'dtype': 'float', 'gpu_id': '0', 'batch_size': 128, 'dataset': 'CIFAR10', 'epochs': 200, 'randomcrop_pad': 4, 'ngpu': 1, 'groups': 1, 'num_classes': 10, 'weight_decay': 0.0005, 'epoch_step': '[60,120,160]', 'test_acc': 92.44, 'test_loss': 0.2505740496931196, 'train_time': 217.17365407943726, 'train_acc': 97.946, 'nthread': 4, 'lr_decay_ratio': 0.2, 'test_time': 13.730873823165894, 'width': 10.0, 'depth': 16, 'lr': 0.1, 'cuda': False, 'epoch': 79, 'dataroot': '.', 'model': 'resnet', 'save': './logs/resnet_20180204'}\n",
            "None\n",
            "==> id: ./logs/resnet_20180204 (79/200), test_acc: \u001b[91m92.44\u001b[0m\n"
          ],
          "name": "stdout"
        },
        {
          "output_type": "stream",
          "text": [
            "100%|██████████| 391/391 [03:37<00:00,  1.80it/s]\n",
            "  0%|          | 0/391 [00:00<?, ?it/s]"
          ],
          "name": "stderr"
        },
        {
          "output_type": "stream",
          "text": [
            "{'n_parameters': 17116634, 'train_loss': 0.06499953273578983, 'resume': '', 'dtype': 'float', 'gpu_id': '0', 'batch_size': 128, 'dataset': 'CIFAR10', 'epochs': 200, 'randomcrop_pad': 4, 'ngpu': 1, 'groups': 1, 'num_classes': 10, 'weight_decay': 0.0005, 'epoch_step': '[60,120,160]', 'test_acc': 92.60000000000001, 'test_loss': 0.2635934464161909, 'train_time': 217.53493094444275, 'train_acc': 97.906, 'nthread': 4, 'lr_decay_ratio': 0.2, 'test_time': 13.688143968582153, 'width': 10.0, 'depth': 16, 'lr': 0.1, 'cuda': False, 'epoch': 80, 'dataroot': '.', 'model': 'resnet', 'save': './logs/resnet_20180204'}\n",
            "None\n",
            "==> id: ./logs/resnet_20180204 (80/200), test_acc: \u001b[91m92.60\u001b[0m\n"
          ],
          "name": "stdout"
        },
        {
          "output_type": "stream",
          "text": [
            "100%|██████████| 391/391 [03:37<00:00,  1.80it/s]\n",
            "  0%|          | 0/391 [00:00<?, ?it/s]"
          ],
          "name": "stderr"
        },
        {
          "output_type": "stream",
          "text": [
            "{'n_parameters': 17116634, 'train_loss': 0.06597414292166451, 'resume': '', 'dtype': 'float', 'gpu_id': '0', 'batch_size': 128, 'dataset': 'CIFAR10', 'epochs': 200, 'randomcrop_pad': 4, 'ngpu': 1, 'groups': 1, 'num_classes': 10, 'weight_decay': 0.0005, 'epoch_step': '[60,120,160]', 'test_acc': 92.61, 'test_loss': 0.25314051752226263, 'train_time': 217.14066004753113, 'train_acc': 97.872, 'nthread': 4, 'lr_decay_ratio': 0.2, 'test_time': 13.699151039123535, 'width': 10.0, 'depth': 16, 'lr': 0.1, 'cuda': False, 'epoch': 81, 'dataroot': '.', 'model': 'resnet', 'save': './logs/resnet_20180204'}\n",
            "None\n",
            "==> id: ./logs/resnet_20180204 (81/200), test_acc: \u001b[91m92.61\u001b[0m\n"
          ],
          "name": "stdout"
        },
        {
          "output_type": "stream",
          "text": [
            "100%|██████████| 391/391 [03:37<00:00,  1.80it/s]\n",
            "  0%|          | 0/391 [00:00<?, ?it/s]"
          ],
          "name": "stderr"
        },
        {
          "output_type": "stream",
          "text": [
            "{'n_parameters': 17116634, 'train_loss': 0.06041370683332998, 'resume': '', 'dtype': 'float', 'gpu_id': '0', 'batch_size': 128, 'dataset': 'CIFAR10', 'epochs': 200, 'randomcrop_pad': 4, 'ngpu': 1, 'groups': 1, 'num_classes': 10, 'weight_decay': 0.0005, 'epoch_step': '[60,120,160]', 'test_acc': 91.78, 'test_loss': 0.2825347153069098, 'train_time': 217.54035091400146, 'train_acc': 98.13199999999999, 'nthread': 4, 'lr_decay_ratio': 0.2, 'test_time': 13.6998929977417, 'width': 10.0, 'depth': 16, 'lr': 0.1, 'cuda': False, 'epoch': 82, 'dataroot': '.', 'model': 'resnet', 'save': './logs/resnet_20180204'}\n",
            "None\n",
            "==> id: ./logs/resnet_20180204 (82/200), test_acc: \u001b[91m91.78\u001b[0m\n"
          ],
          "name": "stdout"
        },
        {
          "output_type": "stream",
          "text": [
            "100%|██████████| 391/391 [03:37<00:00,  1.80it/s]\n",
            "  0%|          | 0/391 [00:00<?, ?it/s]"
          ],
          "name": "stderr"
        },
        {
          "output_type": "stream",
          "text": [
            "{'n_parameters': 17116634, 'train_loss': 0.0637503163531766, 'resume': '', 'dtype': 'float', 'gpu_id': '0', 'batch_size': 128, 'dataset': 'CIFAR10', 'epochs': 200, 'randomcrop_pad': 4, 'ngpu': 1, 'groups': 1, 'num_classes': 10, 'weight_decay': 0.0005, 'epoch_step': '[60,120,160]', 'test_acc': 92.08, 'test_loss': 0.2604454165395302, 'train_time': 217.20255994796753, 'train_acc': 97.962, 'nthread': 4, 'lr_decay_ratio': 0.2, 'test_time': 13.708818912506104, 'width': 10.0, 'depth': 16, 'lr': 0.1, 'cuda': False, 'epoch': 83, 'dataroot': '.', 'model': 'resnet', 'save': './logs/resnet_20180204'}\n",
            "None\n",
            "==> id: ./logs/resnet_20180204 (83/200), test_acc: \u001b[91m92.08\u001b[0m\n"
          ],
          "name": "stdout"
        },
        {
          "output_type": "stream",
          "text": [
            "100%|██████████| 391/391 [03:37<00:00,  1.80it/s]\n",
            "  0%|          | 0/391 [00:00<?, ?it/s]"
          ],
          "name": "stderr"
        },
        {
          "output_type": "stream",
          "text": [
            "{'n_parameters': 17116634, 'train_loss': 0.06214885957196087, 'resume': '', 'dtype': 'float', 'gpu_id': '0', 'batch_size': 128, 'dataset': 'CIFAR10', 'epochs': 200, 'randomcrop_pad': 4, 'ngpu': 1, 'groups': 1, 'num_classes': 10, 'weight_decay': 0.0005, 'epoch_step': '[60,120,160]', 'test_acc': 92.03, 'test_loss': 0.28126507507094867, 'train_time': 217.4613950252533, 'train_acc': 97.982, 'nthread': 4, 'lr_decay_ratio': 0.2, 'test_time': 13.715964078903198, 'width': 10.0, 'depth': 16, 'lr': 0.1, 'cuda': False, 'epoch': 84, 'dataroot': '.', 'model': 'resnet', 'save': './logs/resnet_20180204'}\n",
            "None\n",
            "==> id: ./logs/resnet_20180204 (84/200), test_acc: \u001b[91m92.03\u001b[0m\n"
          ],
          "name": "stdout"
        },
        {
          "output_type": "stream",
          "text": [
            "100%|██████████| 391/391 [03:37<00:00,  1.80it/s]\n",
            "  0%|          | 0/391 [00:00<?, ?it/s]"
          ],
          "name": "stderr"
        },
        {
          "output_type": "stream",
          "text": [
            "{'n_parameters': 17116634, 'train_loss': 0.06892072431781256, 'resume': '', 'dtype': 'float', 'gpu_id': '0', 'batch_size': 128, 'dataset': 'CIFAR10', 'epochs': 200, 'randomcrop_pad': 4, 'ngpu': 1, 'groups': 1, 'num_classes': 10, 'weight_decay': 0.0005, 'epoch_step': '[60,120,160]', 'test_acc': 92.02, 'test_loss': 0.2621334436573559, 'train_time': 217.3860399723053, 'train_acc': 97.764, 'nthread': 4, 'lr_decay_ratio': 0.2, 'test_time': 13.763859987258911, 'width': 10.0, 'depth': 16, 'lr': 0.1, 'cuda': False, 'epoch': 85, 'dataroot': '.', 'model': 'resnet', 'save': './logs/resnet_20180204'}\n",
            "None\n",
            "==> id: ./logs/resnet_20180204 (85/200), test_acc: \u001b[91m92.02\u001b[0m\n"
          ],
          "name": "stdout"
        },
        {
          "output_type": "stream",
          "text": [
            "100%|██████████| 391/391 [03:37<00:00,  1.80it/s]\n",
            "  0%|          | 0/391 [00:00<?, ?it/s]"
          ],
          "name": "stderr"
        },
        {
          "output_type": "stream",
          "text": [
            "{'n_parameters': 17116634, 'train_loss': 0.06066612512959389, 'resume': '', 'dtype': 'float', 'gpu_id': '0', 'batch_size': 128, 'dataset': 'CIFAR10', 'epochs': 200, 'randomcrop_pad': 4, 'ngpu': 1, 'groups': 1, 'num_classes': 10, 'weight_decay': 0.0005, 'epoch_step': '[60,120,160]', 'test_acc': 91.99, 'test_loss': 0.27753354561857035, 'train_time': 217.2728898525238, 'train_acc': 98.046, 'nthread': 4, 'lr_decay_ratio': 0.2, 'test_time': 13.730253219604492, 'width': 10.0, 'depth': 16, 'lr': 0.1, 'cuda': False, 'epoch': 86, 'dataroot': '.', 'model': 'resnet', 'save': './logs/resnet_20180204'}\n",
            "None\n",
            "==> id: ./logs/resnet_20180204 (86/200), test_acc: \u001b[91m91.99\u001b[0m\n"
          ],
          "name": "stdout"
        },
        {
          "output_type": "stream",
          "text": [
            "100%|██████████| 391/391 [03:37<00:00,  1.80it/s]\n",
            "  0%|          | 0/391 [00:00<?, ?it/s]"
          ],
          "name": "stderr"
        },
        {
          "output_type": "stream",
          "text": [
            "{'n_parameters': 17116634, 'train_loss': 0.06345099306967864, 'resume': '', 'dtype': 'float', 'gpu_id': '0', 'batch_size': 128, 'dataset': 'CIFAR10', 'epochs': 200, 'randomcrop_pad': 4, 'ngpu': 1, 'groups': 1, 'num_classes': 10, 'weight_decay': 0.0005, 'epoch_step': '[60,120,160]', 'test_acc': 91.51, 'test_loss': 0.28618059675150287, 'train_time': 217.4758141040802, 'train_acc': 97.916, 'nthread': 4, 'lr_decay_ratio': 0.2, 'test_time': 13.684919118881226, 'width': 10.0, 'depth': 16, 'lr': 0.1, 'cuda': False, 'epoch': 87, 'dataroot': '.', 'model': 'resnet', 'save': './logs/resnet_20180204'}\n",
            "None\n",
            "==> id: ./logs/resnet_20180204 (87/200), test_acc: \u001b[91m91.51\u001b[0m\n"
          ],
          "name": "stdout"
        },
        {
          "output_type": "stream",
          "text": [
            "100%|██████████| 391/391 [03:37<00:00,  1.80it/s]\n",
            "  0%|          | 0/391 [00:00<?, ?it/s]"
          ],
          "name": "stderr"
        },
        {
          "output_type": "stream",
          "text": [
            "{'n_parameters': 17116634, 'train_loss': 0.06978227886492792, 'resume': '', 'dtype': 'float', 'gpu_id': '0', 'batch_size': 128, 'dataset': 'CIFAR10', 'epochs': 200, 'randomcrop_pad': 4, 'ngpu': 1, 'groups': 1, 'num_classes': 10, 'weight_decay': 0.0005, 'epoch_step': '[60,120,160]', 'test_acc': 89.98, 'test_loss': 0.3555428063190437, 'train_time': 217.4272689819336, 'train_acc': 97.75, 'nthread': 4, 'lr_decay_ratio': 0.2, 'test_time': 13.768651008605957, 'width': 10.0, 'depth': 16, 'lr': 0.1, 'cuda': False, 'epoch': 88, 'dataroot': '.', 'model': 'resnet', 'save': './logs/resnet_20180204'}\n",
            "None\n",
            "==> id: ./logs/resnet_20180204 (88/200), test_acc: \u001b[91m89.98\u001b[0m\n"
          ],
          "name": "stdout"
        },
        {
          "output_type": "stream",
          "text": [
            "100%|██████████| 391/391 [03:37<00:00,  1.80it/s]\n",
            "  0%|          | 0/391 [00:00<?, ?it/s]"
          ],
          "name": "stderr"
        },
        {
          "output_type": "stream",
          "text": [
            "{'n_parameters': 17116634, 'train_loss': 0.06493205950616882, 'resume': '', 'dtype': 'float', 'gpu_id': '0', 'batch_size': 128, 'dataset': 'CIFAR10', 'epochs': 200, 'randomcrop_pad': 4, 'ngpu': 1, 'groups': 1, 'num_classes': 10, 'weight_decay': 0.0005, 'epoch_step': '[60,120,160]', 'test_acc': 90.22, 'test_loss': 0.33831711000279524, 'train_time': 217.41212010383606, 'train_acc': 97.922, 'nthread': 4, 'lr_decay_ratio': 0.2, 'test_time': 13.755436897277832, 'width': 10.0, 'depth': 16, 'lr': 0.1, 'cuda': False, 'epoch': 89, 'dataroot': '.', 'model': 'resnet', 'save': './logs/resnet_20180204'}\n",
            "None\n",
            "==> id: ./logs/resnet_20180204 (89/200), test_acc: \u001b[91m90.22\u001b[0m\n"
          ],
          "name": "stdout"
        },
        {
          "output_type": "stream",
          "text": [
            "100%|██████████| 391/391 [03:37<00:00,  1.80it/s]\n",
            "  0%|          | 0/391 [00:00<?, ?it/s]"
          ],
          "name": "stderr"
        },
        {
          "output_type": "stream",
          "text": [
            "{'n_parameters': 17116634, 'train_loss': 0.06719010497164696, 'resume': '', 'dtype': 'float', 'gpu_id': '0', 'batch_size': 128, 'dataset': 'CIFAR10', 'epochs': 200, 'randomcrop_pad': 4, 'ngpu': 1, 'groups': 1, 'num_classes': 10, 'weight_decay': 0.0005, 'epoch_step': '[60,120,160]', 'test_acc': 91.07, 'test_loss': 0.30045554098449173, 'train_time': 217.40626502037048, 'train_acc': 97.78, 'nthread': 4, 'lr_decay_ratio': 0.2, 'test_time': 13.720638036727905, 'width': 10.0, 'depth': 16, 'lr': 0.1, 'cuda': False, 'epoch': 90, 'dataroot': '.', 'model': 'resnet', 'save': './logs/resnet_20180204'}\n",
            "None\n",
            "==> id: ./logs/resnet_20180204 (90/200), test_acc: \u001b[91m91.07\u001b[0m\n"
          ],
          "name": "stdout"
        },
        {
          "output_type": "stream",
          "text": [
            "100%|██████████| 391/391 [03:37<00:00,  1.80it/s]\n",
            "  0%|          | 0/391 [00:00<?, ?it/s]"
          ],
          "name": "stderr"
        },
        {
          "output_type": "stream",
          "text": [
            "{'n_parameters': 17116634, 'train_loss': 0.058141793403059944, 'resume': '', 'dtype': 'float', 'gpu_id': '0', 'batch_size': 128, 'dataset': 'CIFAR10', 'epochs': 200, 'randomcrop_pad': 4, 'ngpu': 1, 'groups': 1, 'num_classes': 10, 'weight_decay': 0.0005, 'epoch_step': '[60,120,160]', 'test_acc': 91.74, 'test_loss': 0.290506143830245, 'train_time': 217.28046417236328, 'train_acc': 98.208, 'nthread': 4, 'lr_decay_ratio': 0.2, 'test_time': 13.711411952972412, 'width': 10.0, 'depth': 16, 'lr': 0.1, 'cuda': False, 'epoch': 91, 'dataroot': '.', 'model': 'resnet', 'save': './logs/resnet_20180204'}\n",
            "None\n",
            "==> id: ./logs/resnet_20180204 (91/200), test_acc: \u001b[91m91.74\u001b[0m\n"
          ],
          "name": "stdout"
        },
        {
          "output_type": "stream",
          "text": [
            "100%|██████████| 391/391 [03:36<00:00,  1.80it/s]\n",
            "  0%|          | 0/391 [00:00<?, ?it/s]"
          ],
          "name": "stderr"
        },
        {
          "output_type": "stream",
          "text": [
            "{'n_parameters': 17116634, 'train_loss': 0.06442792410664543, 'resume': '', 'dtype': 'float', 'gpu_id': '0', 'batch_size': 128, 'dataset': 'CIFAR10', 'epochs': 200, 'randomcrop_pad': 4, 'ngpu': 1, 'groups': 1, 'num_classes': 10, 'weight_decay': 0.0005, 'epoch_step': '[60,120,160]', 'test_acc': 88.6, 'test_loss': 0.3910170125810407, 'train_time': 216.66506385803223, 'train_acc': 97.926, 'nthread': 4, 'lr_decay_ratio': 0.2, 'test_time': 13.719877004623413, 'width': 10.0, 'depth': 16, 'lr': 0.1, 'cuda': False, 'epoch': 92, 'dataroot': '.', 'model': 'resnet', 'save': './logs/resnet_20180204'}\n",
            "None\n",
            "==> id: ./logs/resnet_20180204 (92/200), test_acc: \u001b[91m88.60\u001b[0m\n"
          ],
          "name": "stdout"
        },
        {
          "output_type": "stream",
          "text": [
            "100%|██████████| 391/391 [03:37<00:00,  1.80it/s]\n",
            "  0%|          | 0/391 [00:00<?, ?it/s]"
          ],
          "name": "stderr"
        },
        {
          "output_type": "stream",
          "text": [
            "{'n_parameters': 17116634, 'train_loss': 0.06281894926562942, 'resume': '', 'dtype': 'float', 'gpu_id': '0', 'batch_size': 128, 'dataset': 'CIFAR10', 'epochs': 200, 'randomcrop_pad': 4, 'ngpu': 1, 'groups': 1, 'num_classes': 10, 'weight_decay': 0.0005, 'epoch_step': '[60,120,160]', 'test_acc': 92.10000000000001, 'test_loss': 0.2782587565575974, 'train_time': 217.28793287277222, 'train_acc': 97.99799999999999, 'nthread': 4, 'lr_decay_ratio': 0.2, 'test_time': 13.711864948272705, 'width': 10.0, 'depth': 16, 'lr': 0.1, 'cuda': False, 'epoch': 93, 'dataroot': '.', 'model': 'resnet', 'save': './logs/resnet_20180204'}\n",
            "None\n",
            "==> id: ./logs/resnet_20180204 (93/200), test_acc: \u001b[91m92.10\u001b[0m\n"
          ],
          "name": "stdout"
        },
        {
          "output_type": "stream",
          "text": [
            "100%|██████████| 391/391 [03:37<00:00,  1.80it/s]\n",
            "  0%|          | 0/391 [00:00<?, ?it/s]"
          ],
          "name": "stderr"
        },
        {
          "output_type": "stream",
          "text": [
            "{'n_parameters': 17116634, 'train_loss': 0.06000943723923107, 'resume': '', 'dtype': 'float', 'gpu_id': '0', 'batch_size': 128, 'dataset': 'CIFAR10', 'epochs': 200, 'randomcrop_pad': 4, 'ngpu': 1, 'groups': 1, 'num_classes': 10, 'weight_decay': 0.0005, 'epoch_step': '[60,120,160]', 'test_acc': 91.68, 'test_loss': 0.28281642062754575, 'train_time': 217.22304892539978, 'train_acc': 98.058, 'nthread': 4, 'lr_decay_ratio': 0.2, 'test_time': 13.769789934158325, 'width': 10.0, 'depth': 16, 'lr': 0.1, 'cuda': False, 'epoch': 94, 'dataroot': '.', 'model': 'resnet', 'save': './logs/resnet_20180204'}\n",
            "None\n",
            "==> id: ./logs/resnet_20180204 (94/200), test_acc: \u001b[91m91.68\u001b[0m\n"
          ],
          "name": "stdout"
        },
        {
          "output_type": "stream",
          "text": [
            "100%|██████████| 391/391 [03:37<00:00,  1.80it/s]\n",
            "  0%|          | 0/391 [00:00<?, ?it/s]"
          ],
          "name": "stderr"
        },
        {
          "output_type": "stream",
          "text": [
            "{'n_parameters': 17116634, 'train_loss': 0.05667943515055015, 'resume': '', 'dtype': 'float', 'gpu_id': '0', 'batch_size': 128, 'dataset': 'CIFAR10', 'epochs': 200, 'randomcrop_pad': 4, 'ngpu': 1, 'groups': 1, 'num_classes': 10, 'weight_decay': 0.0005, 'epoch_step': '[60,120,160]', 'test_acc': 89.75, 'test_loss': 0.3684808817468112, 'train_time': 217.42820000648499, 'train_acc': 98.17, 'nthread': 4, 'lr_decay_ratio': 0.2, 'test_time': 13.748570919036865, 'width': 10.0, 'depth': 16, 'lr': 0.1, 'cuda': False, 'epoch': 95, 'dataroot': '.', 'model': 'resnet', 'save': './logs/resnet_20180204'}\n",
            "None\n",
            "==> id: ./logs/resnet_20180204 (95/200), test_acc: \u001b[91m89.75\u001b[0m\n"
          ],
          "name": "stdout"
        },
        {
          "output_type": "stream",
          "text": [
            "100%|██████████| 391/391 [03:37<00:00,  1.80it/s]\n",
            "  0%|          | 0/391 [00:00<?, ?it/s]"
          ],
          "name": "stderr"
        },
        {
          "output_type": "stream",
          "text": [
            "{'n_parameters': 17116634, 'train_loss': 0.05949695247327887, 'resume': '', 'dtype': 'float', 'gpu_id': '0', 'batch_size': 128, 'dataset': 'CIFAR10', 'epochs': 200, 'randomcrop_pad': 4, 'ngpu': 1, 'groups': 1, 'num_classes': 10, 'weight_decay': 0.0005, 'epoch_step': '[60,120,160]', 'test_acc': 89.57, 'test_loss': 0.3964083877545368, 'train_time': 217.40217304229736, 'train_acc': 98.072, 'nthread': 4, 'lr_decay_ratio': 0.2, 'test_time': 13.713982105255127, 'width': 10.0, 'depth': 16, 'lr': 0.1, 'cuda': False, 'epoch': 96, 'dataroot': '.', 'model': 'resnet', 'save': './logs/resnet_20180204'}\n",
            "None\n",
            "==> id: ./logs/resnet_20180204 (96/200), test_acc: \u001b[91m89.57\u001b[0m\n"
          ],
          "name": "stdout"
        },
        {
          "output_type": "stream",
          "text": [
            "100%|██████████| 391/391 [03:37<00:00,  1.80it/s]\n",
            "  0%|          | 0/391 [00:00<?, ?it/s]"
          ],
          "name": "stderr"
        },
        {
          "output_type": "stream",
          "text": [
            "{'n_parameters': 17116634, 'train_loss': 0.06601011990319432, 'resume': '', 'dtype': 'float', 'gpu_id': '0', 'batch_size': 128, 'dataset': 'CIFAR10', 'epochs': 200, 'randomcrop_pad': 4, 'ngpu': 1, 'groups': 1, 'num_classes': 10, 'weight_decay': 0.0005, 'epoch_step': '[60,120,160]', 'test_acc': 91.11, 'test_loss': 0.3114106410854981, 'train_time': 217.18869709968567, 'train_acc': 97.858, 'nthread': 4, 'lr_decay_ratio': 0.2, 'test_time': 13.709130048751831, 'width': 10.0, 'depth': 16, 'lr': 0.1, 'cuda': False, 'epoch': 97, 'dataroot': '.', 'model': 'resnet', 'save': './logs/resnet_20180204'}\n",
            "None\n",
            "==> id: ./logs/resnet_20180204 (97/200), test_acc: \u001b[91m91.11\u001b[0m\n"
          ],
          "name": "stdout"
        },
        {
          "output_type": "stream",
          "text": [
            "100%|██████████| 391/391 [03:37<00:00,  1.80it/s]\n",
            "  0%|          | 0/391 [00:00<?, ?it/s]"
          ],
          "name": "stderr"
        },
        {
          "output_type": "stream",
          "text": [
            "{'n_parameters': 17116634, 'train_loss': 0.05366240722863269, 'resume': '', 'dtype': 'float', 'gpu_id': '0', 'batch_size': 128, 'dataset': 'CIFAR10', 'epochs': 200, 'randomcrop_pad': 4, 'ngpu': 1, 'groups': 1, 'num_classes': 10, 'weight_decay': 0.0005, 'epoch_step': '[60,120,160]', 'test_acc': 92.49000000000001, 'test_loss': 0.264674120594429, 'train_time': 217.54251408576965, 'train_acc': 98.34, 'nthread': 4, 'lr_decay_ratio': 0.2, 'test_time': 13.789541959762573, 'width': 10.0, 'depth': 16, 'lr': 0.1, 'cuda': False, 'epoch': 98, 'dataroot': '.', 'model': 'resnet', 'save': './logs/resnet_20180204'}\n",
            "None\n",
            "==> id: ./logs/resnet_20180204 (98/200), test_acc: \u001b[91m92.49\u001b[0m\n"
          ],
          "name": "stdout"
        },
        {
          "output_type": "stream",
          "text": [
            "100%|██████████| 391/391 [03:37<00:00,  1.80it/s]\n",
            "  0%|          | 0/391 [00:00<?, ?it/s]"
          ],
          "name": "stderr"
        },
        {
          "output_type": "stream",
          "text": [
            "{'n_parameters': 17116634, 'train_loss': 0.06305362647661315, 'resume': '', 'dtype': 'float', 'gpu_id': '0', 'batch_size': 128, 'dataset': 'CIFAR10', 'epochs': 200, 'randomcrop_pad': 4, 'ngpu': 1, 'groups': 1, 'num_classes': 10, 'weight_decay': 0.0005, 'epoch_step': '[60,120,160]', 'test_acc': 92.43, 'test_loss': 0.2596879132752175, 'train_time': 217.3480999469757, 'train_acc': 97.92, 'nthread': 4, 'lr_decay_ratio': 0.2, 'test_time': 13.713953971862793, 'width': 10.0, 'depth': 16, 'lr': 0.1, 'cuda': False, 'epoch': 99, 'dataroot': '.', 'model': 'resnet', 'save': './logs/resnet_20180204'}\n",
            "None\n",
            "==> id: ./logs/resnet_20180204 (99/200), test_acc: \u001b[91m92.43\u001b[0m\n"
          ],
          "name": "stdout"
        },
        {
          "output_type": "stream",
          "text": [
            "100%|██████████| 391/391 [03:37<00:00,  1.80it/s]\n",
            "  0%|          | 0/391 [00:00<?, ?it/s]"
          ],
          "name": "stderr"
        },
        {
          "output_type": "stream",
          "text": [
            "{'n_parameters': 17116634, 'train_loss': 0.059026306609401634, 'resume': '', 'dtype': 'float', 'gpu_id': '0', 'batch_size': 128, 'dataset': 'CIFAR10', 'epochs': 200, 'randomcrop_pad': 4, 'ngpu': 1, 'groups': 1, 'num_classes': 10, 'weight_decay': 0.0005, 'epoch_step': '[60,120,160]', 'test_acc': 92.22, 'test_loss': 0.28288223160595827, 'train_time': 217.51166892051697, 'train_acc': 98.19200000000001, 'nthread': 4, 'lr_decay_ratio': 0.2, 'test_time': 13.750156879425049, 'width': 10.0, 'depth': 16, 'lr': 0.1, 'cuda': False, 'epoch': 100, 'dataroot': '.', 'model': 'resnet', 'save': './logs/resnet_20180204'}\n",
            "None\n",
            "==> id: ./logs/resnet_20180204 (100/200), test_acc: \u001b[91m92.22\u001b[0m\n"
          ],
          "name": "stdout"
        },
        {
          "output_type": "stream",
          "text": [
            "100%|██████████| 391/391 [03:37<00:00,  1.80it/s]\n",
            "  0%|          | 0/391 [00:00<?, ?it/s]"
          ],
          "name": "stderr"
        },
        {
          "output_type": "stream",
          "text": [
            "{'n_parameters': 17116634, 'train_loss': 0.06258062136066539, 'resume': '', 'dtype': 'float', 'gpu_id': '0', 'batch_size': 128, 'dataset': 'CIFAR10', 'epochs': 200, 'randomcrop_pad': 4, 'ngpu': 1, 'groups': 1, 'num_classes': 10, 'weight_decay': 0.0005, 'epoch_step': '[60,120,160]', 'test_acc': 91.28, 'test_loss': 0.3096751533920251, 'train_time': 217.19757199287415, 'train_acc': 97.994, 'nthread': 4, 'lr_decay_ratio': 0.2, 'test_time': 13.763211011886597, 'width': 10.0, 'depth': 16, 'lr': 0.1, 'cuda': False, 'epoch': 101, 'dataroot': '.', 'model': 'resnet', 'save': './logs/resnet_20180204'}\n",
            "None\n",
            "==> id: ./logs/resnet_20180204 (101/200), test_acc: \u001b[91m91.28\u001b[0m\n"
          ],
          "name": "stdout"
        },
        {
          "output_type": "stream",
          "text": [
            "100%|██████████| 391/391 [03:37<00:00,  1.80it/s]\n",
            "  0%|          | 0/391 [00:00<?, ?it/s]"
          ],
          "name": "stderr"
        },
        {
          "output_type": "stream",
          "text": [
            "{'n_parameters': 17116634, 'train_loss': 0.06000037419388208, 'resume': '', 'dtype': 'float', 'gpu_id': '0', 'batch_size': 128, 'dataset': 'CIFAR10', 'epochs': 200, 'randomcrop_pad': 4, 'ngpu': 1, 'groups': 1, 'num_classes': 10, 'weight_decay': 0.0005, 'epoch_step': '[60,120,160]', 'test_acc': 90.27000000000001, 'test_loss': 0.34196928275536875, 'train_time': 217.6598629951477, 'train_acc': 98.06200000000001, 'nthread': 4, 'lr_decay_ratio': 0.2, 'test_time': 13.729321956634521, 'width': 10.0, 'depth': 16, 'lr': 0.1, 'cuda': False, 'epoch': 102, 'dataroot': '.', 'model': 'resnet', 'save': './logs/resnet_20180204'}\n",
            "None\n",
            "==> id: ./logs/resnet_20180204 (102/200), test_acc: \u001b[91m90.27\u001b[0m\n"
          ],
          "name": "stdout"
        },
        {
          "output_type": "stream",
          "text": [
            "100%|██████████| 391/391 [03:37<00:00,  1.80it/s]\n",
            "  0%|          | 0/391 [00:00<?, ?it/s]"
          ],
          "name": "stderr"
        },
        {
          "output_type": "stream",
          "text": [
            "{'n_parameters': 17116634, 'train_loss': 0.05565726827553778, 'resume': '', 'dtype': 'float', 'gpu_id': '0', 'batch_size': 128, 'dataset': 'CIFAR10', 'epochs': 200, 'randomcrop_pad': 4, 'ngpu': 1, 'groups': 1, 'num_classes': 10, 'weight_decay': 0.0005, 'epoch_step': '[60,120,160]', 'test_acc': 92.54, 'test_loss': 0.2743060011652451, 'train_time': 217.52232003211975, 'train_acc': 98.226, 'nthread': 4, 'lr_decay_ratio': 0.2, 'test_time': 13.769871950149536, 'width': 10.0, 'depth': 16, 'lr': 0.1, 'cuda': False, 'epoch': 103, 'dataroot': '.', 'model': 'resnet', 'save': './logs/resnet_20180204'}\n",
            "None\n",
            "==> id: ./logs/resnet_20180204 (103/200), test_acc: \u001b[91m92.54\u001b[0m\n"
          ],
          "name": "stdout"
        },
        {
          "output_type": "stream",
          "text": [
            "100%|██████████| 391/391 [03:37<00:00,  1.80it/s]\n",
            "  0%|          | 0/391 [00:00<?, ?it/s]"
          ],
          "name": "stderr"
        },
        {
          "output_type": "stream",
          "text": [
            "{'n_parameters': 17116634, 'train_loss': 0.05832823482639805, 'resume': '', 'dtype': 'float', 'gpu_id': '0', 'batch_size': 128, 'dataset': 'CIFAR10', 'epochs': 200, 'randomcrop_pad': 4, 'ngpu': 1, 'groups': 1, 'num_classes': 10, 'weight_decay': 0.0005, 'epoch_step': '[60,120,160]', 'test_acc': 92.36, 'test_loss': 0.25737598425225355, 'train_time': 217.31956720352173, 'train_acc': 98.24000000000001, 'nthread': 4, 'lr_decay_ratio': 0.2, 'test_time': 13.716736078262329, 'width': 10.0, 'depth': 16, 'lr': 0.1, 'cuda': False, 'epoch': 104, 'dataroot': '.', 'model': 'resnet', 'save': './logs/resnet_20180204'}\n",
            "None\n",
            "==> id: ./logs/resnet_20180204 (104/200), test_acc: \u001b[91m92.36\u001b[0m\n"
          ],
          "name": "stdout"
        },
        {
          "output_type": "stream",
          "text": [
            "100%|██████████| 391/391 [03:37<00:00,  1.80it/s]\n",
            "  0%|          | 0/391 [00:00<?, ?it/s]"
          ],
          "name": "stderr"
        },
        {
          "output_type": "stream",
          "text": [
            "{'n_parameters': 17116634, 'train_loss': 0.04780529030239034, 'resume': '', 'dtype': 'float', 'gpu_id': '0', 'batch_size': 128, 'dataset': 'CIFAR10', 'epochs': 200, 'randomcrop_pad': 4, 'ngpu': 1, 'groups': 1, 'num_classes': 10, 'weight_decay': 0.0005, 'epoch_step': '[60,120,160]', 'test_acc': 92.81, 'test_loss': 0.23861676662028583, 'train_time': 217.22257113456726, 'train_acc': 98.548, 'nthread': 4, 'lr_decay_ratio': 0.2, 'test_time': 13.721932888031006, 'width': 10.0, 'depth': 16, 'lr': 0.1, 'cuda': False, 'epoch': 105, 'dataroot': '.', 'model': 'resnet', 'save': './logs/resnet_20180204'}\n",
            "None\n",
            "==> id: ./logs/resnet_20180204 (105/200), test_acc: \u001b[91m92.81\u001b[0m\n"
          ],
          "name": "stdout"
        },
        {
          "output_type": "stream",
          "text": [
            "100%|██████████| 391/391 [03:37<00:00,  1.80it/s]\n",
            "  0%|          | 0/391 [00:00<?, ?it/s]"
          ],
          "name": "stderr"
        },
        {
          "output_type": "stream",
          "text": [
            "{'n_parameters': 17116634, 'train_loss': 0.05939633556453464, 'resume': '', 'dtype': 'float', 'gpu_id': '0', 'batch_size': 128, 'dataset': 'CIFAR10', 'epochs': 200, 'randomcrop_pad': 4, 'ngpu': 1, 'groups': 1, 'num_classes': 10, 'weight_decay': 0.0005, 'epoch_step': '[60,120,160]', 'test_acc': 91.85, 'test_loss': 0.2811486739901047, 'train_time': 217.22848296165466, 'train_acc': 98.104, 'nthread': 4, 'lr_decay_ratio': 0.2, 'test_time': 13.699209928512573, 'width': 10.0, 'depth': 16, 'lr': 0.1, 'cuda': False, 'epoch': 106, 'dataroot': '.', 'model': 'resnet', 'save': './logs/resnet_20180204'}\n",
            "None\n",
            "==> id: ./logs/resnet_20180204 (106/200), test_acc: \u001b[91m91.85\u001b[0m\n"
          ],
          "name": "stdout"
        },
        {
          "output_type": "stream",
          "text": [
            "100%|██████████| 391/391 [03:37<00:00,  1.80it/s]\n",
            "  0%|          | 0/391 [00:00<?, ?it/s]"
          ],
          "name": "stderr"
        },
        {
          "output_type": "stream",
          "text": [
            "{'n_parameters': 17116634, 'train_loss': 0.06424153307952997, 'resume': '', 'dtype': 'float', 'gpu_id': '0', 'batch_size': 128, 'dataset': 'CIFAR10', 'epochs': 200, 'randomcrop_pad': 4, 'ngpu': 1, 'groups': 1, 'num_classes': 10, 'weight_decay': 0.0005, 'epoch_step': '[60,120,160]', 'test_acc': 92.0, 'test_loss': 0.26558636138333547, 'train_time': 217.42863178253174, 'train_acc': 97.958, 'nthread': 4, 'lr_decay_ratio': 0.2, 'test_time': 13.720844030380249, 'width': 10.0, 'depth': 16, 'lr': 0.1, 'cuda': False, 'epoch': 107, 'dataroot': '.', 'model': 'resnet', 'save': './logs/resnet_20180204'}\n",
            "None\n",
            "==> id: ./logs/resnet_20180204 (107/200), test_acc: \u001b[91m92.00\u001b[0m\n"
          ],
          "name": "stdout"
        },
        {
          "output_type": "stream",
          "text": [
            "100%|██████████| 391/391 [03:37<00:00,  1.80it/s]\n",
            "  0%|          | 0/391 [00:00<?, ?it/s]"
          ],
          "name": "stderr"
        },
        {
          "output_type": "stream",
          "text": [
            "{'n_parameters': 17116634, 'train_loss': 0.05884622943008799, 'resume': '', 'dtype': 'float', 'gpu_id': '0', 'batch_size': 128, 'dataset': 'CIFAR10', 'epochs': 200, 'randomcrop_pad': 4, 'ngpu': 1, 'groups': 1, 'num_classes': 10, 'weight_decay': 0.0005, 'epoch_step': '[60,120,160]', 'test_acc': 90.12, 'test_loss': 0.3362265599867965, 'train_time': 217.15278506278992, 'train_acc': 98.15, 'nthread': 4, 'lr_decay_ratio': 0.2, 'test_time': 13.721884965896606, 'width': 10.0, 'depth': 16, 'lr': 0.1, 'cuda': False, 'epoch': 108, 'dataroot': '.', 'model': 'resnet', 'save': './logs/resnet_20180204'}\n",
            "None\n",
            "==> id: ./logs/resnet_20180204 (108/200), test_acc: \u001b[91m90.12\u001b[0m\n"
          ],
          "name": "stdout"
        },
        {
          "output_type": "stream",
          "text": [
            "100%|██████████| 391/391 [03:37<00:00,  1.80it/s]\n",
            "  0%|          | 0/391 [00:00<?, ?it/s]"
          ],
          "name": "stderr"
        },
        {
          "output_type": "stream",
          "text": [
            "{'n_parameters': 17116634, 'train_loss': 0.05758980273381068, 'resume': '', 'dtype': 'float', 'gpu_id': '0', 'batch_size': 128, 'dataset': 'CIFAR10', 'epochs': 200, 'randomcrop_pad': 4, 'ngpu': 1, 'groups': 1, 'num_classes': 10, 'weight_decay': 0.0005, 'epoch_step': '[60,120,160]', 'test_acc': 91.75, 'test_loss': 0.27457723266716255, 'train_time': 217.2510929107666, 'train_acc': 98.142, 'nthread': 4, 'lr_decay_ratio': 0.2, 'test_time': 13.745048999786377, 'width': 10.0, 'depth': 16, 'lr': 0.1, 'cuda': False, 'epoch': 109, 'dataroot': '.', 'model': 'resnet', 'save': './logs/resnet_20180204'}\n",
            "None\n",
            "==> id: ./logs/resnet_20180204 (109/200), test_acc: \u001b[91m91.75\u001b[0m\n"
          ],
          "name": "stdout"
        },
        {
          "output_type": "stream",
          "text": [
            "100%|██████████| 391/391 [03:37<00:00,  1.80it/s]\n",
            "  0%|          | 0/391 [00:00<?, ?it/s]"
          ],
          "name": "stderr"
        },
        {
          "output_type": "stream",
          "text": [
            "{'n_parameters': 17116634, 'train_loss': 0.057405747458948525, 'resume': '', 'dtype': 'float', 'gpu_id': '0', 'batch_size': 128, 'dataset': 'CIFAR10', 'epochs': 200, 'randomcrop_pad': 4, 'ngpu': 1, 'groups': 1, 'num_classes': 10, 'weight_decay': 0.0005, 'epoch_step': '[60,120,160]', 'test_acc': 91.60000000000001, 'test_loss': 0.28078518826750254, 'train_time': 217.53641510009766, 'train_acc': 98.164, 'nthread': 4, 'lr_decay_ratio': 0.2, 'test_time': 13.713037014007568, 'width': 10.0, 'depth': 16, 'lr': 0.1, 'cuda': False, 'epoch': 110, 'dataroot': '.', 'model': 'resnet', 'save': './logs/resnet_20180204'}\n",
            "None\n",
            "==> id: ./logs/resnet_20180204 (110/200), test_acc: \u001b[91m91.60\u001b[0m\n"
          ],
          "name": "stdout"
        },
        {
          "output_type": "stream",
          "text": [
            "100%|██████████| 391/391 [03:37<00:00,  1.80it/s]\n",
            "  0%|          | 0/391 [00:00<?, ?it/s]"
          ],
          "name": "stderr"
        },
        {
          "output_type": "stream",
          "text": [
            "{'n_parameters': 17116634, 'train_loss': 0.05586414072005186, 'resume': '', 'dtype': 'float', 'gpu_id': '0', 'batch_size': 128, 'dataset': 'CIFAR10', 'epochs': 200, 'randomcrop_pad': 4, 'ngpu': 1, 'groups': 1, 'num_classes': 10, 'weight_decay': 0.0005, 'epoch_step': '[60,120,160]', 'test_acc': 92.5, 'test_loss': 0.2541524965929079, 'train_time': 217.03326106071472, 'train_acc': 98.288, 'nthread': 4, 'lr_decay_ratio': 0.2, 'test_time': 13.693000793457031, 'width': 10.0, 'depth': 16, 'lr': 0.1, 'cuda': False, 'epoch': 111, 'dataroot': '.', 'model': 'resnet', 'save': './logs/resnet_20180204'}\n",
            "None\n",
            "==> id: ./logs/resnet_20180204 (111/200), test_acc: \u001b[91m92.50\u001b[0m\n"
          ],
          "name": "stdout"
        },
        {
          "output_type": "stream",
          "text": [
            "100%|██████████| 391/391 [03:37<00:00,  1.80it/s]\n",
            "  0%|          | 0/391 [00:00<?, ?it/s]"
          ],
          "name": "stderr"
        },
        {
          "output_type": "stream",
          "text": [
            "{'n_parameters': 17116634, 'train_loss': 0.05590252966984457, 'resume': '', 'dtype': 'float', 'gpu_id': '0', 'batch_size': 128, 'dataset': 'CIFAR10', 'epochs': 200, 'randomcrop_pad': 4, 'ngpu': 1, 'groups': 1, 'num_classes': 10, 'weight_decay': 0.0005, 'epoch_step': '[60,120,160]', 'test_acc': 90.77, 'test_loss': 0.31602188360087474, 'train_time': 217.28498697280884, 'train_acc': 98.184, 'nthread': 4, 'lr_decay_ratio': 0.2, 'test_time': 13.751910924911499, 'width': 10.0, 'depth': 16, 'lr': 0.1, 'cuda': False, 'epoch': 112, 'dataroot': '.', 'model': 'resnet', 'save': './logs/resnet_20180204'}\n",
            "None\n",
            "==> id: ./logs/resnet_20180204 (112/200), test_acc: \u001b[91m90.77\u001b[0m\n"
          ],
          "name": "stdout"
        },
        {
          "output_type": "stream",
          "text": [
            "100%|██████████| 391/391 [03:37<00:00,  1.80it/s]\n",
            "  0%|          | 0/391 [00:00<?, ?it/s]"
          ],
          "name": "stderr"
        },
        {
          "output_type": "stream",
          "text": [
            "{'n_parameters': 17116634, 'train_loss': 0.05813157421243773, 'resume': '', 'dtype': 'float', 'gpu_id': '0', 'batch_size': 128, 'dataset': 'CIFAR10', 'epochs': 200, 'randomcrop_pad': 4, 'ngpu': 1, 'groups': 1, 'num_classes': 10, 'weight_decay': 0.0005, 'epoch_step': '[60,120,160]', 'test_acc': 91.4, 'test_loss': 0.30640337559618536, 'train_time': 217.46884107589722, 'train_acc': 98.14, 'nthread': 4, 'lr_decay_ratio': 0.2, 'test_time': 13.68794584274292, 'width': 10.0, 'depth': 16, 'lr': 0.1, 'cuda': False, 'epoch': 113, 'dataroot': '.', 'model': 'resnet', 'save': './logs/resnet_20180204'}\n",
            "None\n",
            "==> id: ./logs/resnet_20180204 (113/200), test_acc: \u001b[91m91.40\u001b[0m\n"
          ],
          "name": "stdout"
        },
        {
          "output_type": "stream",
          "text": [
            "100%|██████████| 391/391 [03:37<00:00,  1.80it/s]\n",
            "  0%|          | 0/391 [00:00<?, ?it/s]"
          ],
          "name": "stderr"
        },
        {
          "output_type": "stream",
          "text": [
            "{'n_parameters': 17116634, 'train_loss': 0.06228857433609187, 'resume': '', 'dtype': 'float', 'gpu_id': '0', 'batch_size': 128, 'dataset': 'CIFAR10', 'epochs': 200, 'randomcrop_pad': 4, 'ngpu': 1, 'groups': 1, 'num_classes': 10, 'weight_decay': 0.0005, 'epoch_step': '[60,120,160]', 'test_acc': 91.91, 'test_loss': 0.2792223923945729, 'train_time': 217.24222707748413, 'train_acc': 98.02, 'nthread': 4, 'lr_decay_ratio': 0.2, 'test_time': 13.732876062393188, 'width': 10.0, 'depth': 16, 'lr': 0.1, 'cuda': False, 'epoch': 114, 'dataroot': '.', 'model': 'resnet', 'save': './logs/resnet_20180204'}\n",
            "None\n",
            "==> id: ./logs/resnet_20180204 (114/200), test_acc: \u001b[91m91.91\u001b[0m\n"
          ],
          "name": "stdout"
        },
        {
          "output_type": "stream",
          "text": [
            "100%|██████████| 391/391 [03:37<00:00,  1.80it/s]\n",
            "  0%|          | 0/391 [00:00<?, ?it/s]"
          ],
          "name": "stderr"
        },
        {
          "output_type": "stream",
          "text": [
            "{'n_parameters': 17116634, 'train_loss': 0.057598326888764304, 'resume': '', 'dtype': 'float', 'gpu_id': '0', 'batch_size': 128, 'dataset': 'CIFAR10', 'epochs': 200, 'randomcrop_pad': 4, 'ngpu': 1, 'groups': 1, 'num_classes': 10, 'weight_decay': 0.0005, 'epoch_step': '[60,120,160]', 'test_acc': 91.4, 'test_loss': 0.28634944841077065, 'train_time': 217.4498381614685, 'train_acc': 98.128, 'nthread': 4, 'lr_decay_ratio': 0.2, 'test_time': 13.708444118499756, 'width': 10.0, 'depth': 16, 'lr': 0.1, 'cuda': False, 'epoch': 115, 'dataroot': '.', 'model': 'resnet', 'save': './logs/resnet_20180204'}\n",
            "None\n",
            "==> id: ./logs/resnet_20180204 (115/200), test_acc: \u001b[91m91.40\u001b[0m\n"
          ],
          "name": "stdout"
        },
        {
          "output_type": "stream",
          "text": [
            "100%|██████████| 391/391 [03:37<00:00,  1.80it/s]\n",
            "  0%|          | 0/391 [00:00<?, ?it/s]"
          ],
          "name": "stderr"
        },
        {
          "output_type": "stream",
          "text": [
            "{'n_parameters': 17116634, 'train_loss': 0.055784210638926766, 'resume': '', 'dtype': 'float', 'gpu_id': '0', 'batch_size': 128, 'dataset': 'CIFAR10', 'epochs': 200, 'randomcrop_pad': 4, 'ngpu': 1, 'groups': 1, 'num_classes': 10, 'weight_decay': 0.0005, 'epoch_step': '[60,120,160]', 'test_acc': 92.35, 'test_loss': 0.24914193238261376, 'train_time': 217.50305104255676, 'train_acc': 98.236, 'nthread': 4, 'lr_decay_ratio': 0.2, 'test_time': 13.68411898612976, 'width': 10.0, 'depth': 16, 'lr': 0.1, 'cuda': False, 'epoch': 116, 'dataroot': '.', 'model': 'resnet', 'save': './logs/resnet_20180204'}\n",
            "None\n",
            "==> id: ./logs/resnet_20180204 (116/200), test_acc: \u001b[91m92.35\u001b[0m\n"
          ],
          "name": "stdout"
        },
        {
          "output_type": "stream",
          "text": [
            "100%|██████████| 391/391 [03:37<00:00,  1.80it/s]\n",
            "  0%|          | 0/391 [00:00<?, ?it/s]"
          ],
          "name": "stderr"
        },
        {
          "output_type": "stream",
          "text": [
            "{'n_parameters': 17116634, 'train_loss': 0.057065672557943904, 'resume': '', 'dtype': 'float', 'gpu_id': '0', 'batch_size': 128, 'dataset': 'CIFAR10', 'epochs': 200, 'randomcrop_pad': 4, 'ngpu': 1, 'groups': 1, 'num_classes': 10, 'weight_decay': 0.0005, 'epoch_step': '[60,120,160]', 'test_acc': 93.17, 'test_loss': 0.22519487548100792, 'train_time': 217.2807719707489, 'train_acc': 98.224, 'nthread': 4, 'lr_decay_ratio': 0.2, 'test_time': 13.759606122970581, 'width': 10.0, 'depth': 16, 'lr': 0.1, 'cuda': False, 'epoch': 117, 'dataroot': '.', 'model': 'resnet', 'save': './logs/resnet_20180204'}\n",
            "None\n",
            "==> id: ./logs/resnet_20180204 (117/200), test_acc: \u001b[91m93.17\u001b[0m\n"
          ],
          "name": "stdout"
        },
        {
          "output_type": "stream",
          "text": [
            "100%|██████████| 391/391 [03:37<00:00,  1.80it/s]\n",
            "  0%|          | 0/391 [00:00<?, ?it/s]"
          ],
          "name": "stderr"
        },
        {
          "output_type": "stream",
          "text": [
            "{'n_parameters': 17116634, 'train_loss': 0.051051571908052, 'resume': '', 'dtype': 'float', 'gpu_id': '0', 'batch_size': 128, 'dataset': 'CIFAR10', 'epochs': 200, 'randomcrop_pad': 4, 'ngpu': 1, 'groups': 1, 'num_classes': 10, 'weight_decay': 0.0005, 'epoch_step': '[60,120,160]', 'test_acc': 91.23, 'test_loss': 0.30294813328905956, 'train_time': 217.41167402267456, 'train_acc': 98.35000000000001, 'nthread': 4, 'lr_decay_ratio': 0.2, 'test_time': 13.769010066986084, 'width': 10.0, 'depth': 16, 'lr': 0.1, 'cuda': False, 'epoch': 118, 'dataroot': '.', 'model': 'resnet', 'save': './logs/resnet_20180204'}\n",
            "None\n",
            "==> id: ./logs/resnet_20180204 (118/200), test_acc: \u001b[91m91.23\u001b[0m\n"
          ],
          "name": "stdout"
        },
        {
          "output_type": "stream",
          "text": [
            "100%|██████████| 391/391 [03:37<00:00,  1.80it/s]\n",
            "  0%|          | 0/391 [00:00<?, ?it/s]"
          ],
          "name": "stderr"
        },
        {
          "output_type": "stream",
          "text": [
            "{'n_parameters': 17116634, 'train_loss': 0.0554738223619397, 'resume': '', 'dtype': 'float', 'gpu_id': '0', 'batch_size': 128, 'dataset': 'CIFAR10', 'epochs': 200, 'randomcrop_pad': 4, 'ngpu': 1, 'groups': 1, 'num_classes': 10, 'weight_decay': 0.0005, 'epoch_step': '[60,120,160]', 'test_acc': 92.21000000000001, 'test_loss': 0.2796421320755269, 'train_time': 217.41432785987854, 'train_acc': 98.264, 'nthread': 4, 'lr_decay_ratio': 0.2, 'test_time': 13.723937034606934, 'width': 10.0, 'depth': 16, 'lr': 0.1, 'cuda': False, 'epoch': 119, 'dataroot': '.', 'model': 'resnet', 'save': './logs/resnet_20180204'}\n",
            "None\n",
            "==> id: ./logs/resnet_20180204 (119/200), test_acc: \u001b[91m92.21\u001b[0m\n",
            "('creating optimizer with lr = ', 0.004000000000000001)\n"
          ],
          "name": "stdout"
        },
        {
          "output_type": "stream",
          "text": [
            "100%|██████████| 391/391 [03:37<00:00,  1.80it/s]\n",
            "  0%|          | 0/391 [00:00<?, ?it/s]"
          ],
          "name": "stderr"
        },
        {
          "output_type": "stream",
          "text": [
            "{'n_parameters': 17116634, 'train_loss': 0.019595120750043715, 'resume': '', 'dtype': 'float', 'gpu_id': '0', 'batch_size': 128, 'dataset': 'CIFAR10', 'epochs': 200, 'randomcrop_pad': 4, 'ngpu': 1, 'groups': 1, 'num_classes': 10, 'weight_decay': 0.0005, 'epoch_step': '[60,120,160]', 'test_acc': 94.85, 'test_loss': 0.16944878246588038, 'train_time': 217.0598168373108, 'train_acc': 99.536, 'nthread': 4, 'lr_decay_ratio': 0.2, 'test_time': 13.687446117401123, 'width': 10.0, 'depth': 16, 'lr': 0.1, 'cuda': False, 'epoch': 120, 'dataroot': '.', 'model': 'resnet', 'save': './logs/resnet_20180204'}\n",
            "None\n",
            "==> id: ./logs/resnet_20180204 (120/200), test_acc: \u001b[91m94.85\u001b[0m\n"
          ],
          "name": "stdout"
        },
        {
          "output_type": "stream",
          "text": [
            "100%|██████████| 391/391 [03:37<00:00,  1.80it/s]\n",
            "  0%|          | 0/391 [00:00<?, ?it/s]"
          ],
          "name": "stderr"
        },
        {
          "output_type": "stream",
          "text": [
            "{'n_parameters': 17116634, 'train_loss': 0.009989314786422888, 'resume': '', 'dtype': 'float', 'gpu_id': '0', 'batch_size': 128, 'dataset': 'CIFAR10', 'epochs': 200, 'randomcrop_pad': 4, 'ngpu': 1, 'groups': 1, 'num_classes': 10, 'weight_decay': 0.0005, 'epoch_step': '[60,120,160]', 'test_acc': 95.06, 'test_loss': 0.1604462607610452, 'train_time': 217.39007782936096, 'train_acc': 99.83, 'nthread': 4, 'lr_decay_ratio': 0.2, 'test_time': 13.682853937149048, 'width': 10.0, 'depth': 16, 'lr': 0.1, 'cuda': False, 'epoch': 121, 'dataroot': '.', 'model': 'resnet', 'save': './logs/resnet_20180204'}\n",
            "None\n",
            "==> id: ./logs/resnet_20180204 (121/200), test_acc: \u001b[91m95.06\u001b[0m\n"
          ],
          "name": "stdout"
        },
        {
          "output_type": "stream",
          "text": [
            "100%|██████████| 391/391 [03:37<00:00,  1.80it/s]\n",
            "  0%|          | 0/391 [00:00<?, ?it/s]"
          ],
          "name": "stderr"
        },
        {
          "output_type": "stream",
          "text": [
            "{'n_parameters': 17116634, 'train_loss': 0.007322834896357241, 'resume': '', 'dtype': 'float', 'gpu_id': '0', 'batch_size': 128, 'dataset': 'CIFAR10', 'epochs': 200, 'randomcrop_pad': 4, 'ngpu': 1, 'groups': 1, 'num_classes': 10, 'weight_decay': 0.0005, 'epoch_step': '[60,120,160]', 'test_acc': 95.25, 'test_loss': 0.15957221468981309, 'train_time': 217.49337792396545, 'train_acc': 99.914, 'nthread': 4, 'lr_decay_ratio': 0.2, 'test_time': 13.748631000518799, 'width': 10.0, 'depth': 16, 'lr': 0.1, 'cuda': False, 'epoch': 122, 'dataroot': '.', 'model': 'resnet', 'save': './logs/resnet_20180204'}\n",
            "None\n",
            "==> id: ./logs/resnet_20180204 (122/200), test_acc: \u001b[91m95.25\u001b[0m\n"
          ],
          "name": "stdout"
        },
        {
          "output_type": "stream",
          "text": [
            "100%|██████████| 391/391 [03:37<00:00,  1.80it/s]\n",
            "  0%|          | 0/391 [00:00<?, ?it/s]"
          ],
          "name": "stderr"
        },
        {
          "output_type": "stream",
          "text": [
            "{'n_parameters': 17116634, 'train_loss': 0.005854864078371418, 'resume': '', 'dtype': 'float', 'gpu_id': '0', 'batch_size': 128, 'dataset': 'CIFAR10', 'epochs': 200, 'randomcrop_pad': 4, 'ngpu': 1, 'groups': 1, 'num_classes': 10, 'weight_decay': 0.0005, 'epoch_step': '[60,120,160]', 'test_acc': 95.39999999999999, 'test_loss': 0.15779183003344113, 'train_time': 217.47018790245056, 'train_acc': 99.95, 'nthread': 4, 'lr_decay_ratio': 0.2, 'test_time': 13.706070184707642, 'width': 10.0, 'depth': 16, 'lr': 0.1, 'cuda': False, 'epoch': 123, 'dataroot': '.', 'model': 'resnet', 'save': './logs/resnet_20180204'}\n",
            "None\n",
            "==> id: ./logs/resnet_20180204 (123/200), test_acc: \u001b[91m95.40\u001b[0m\n"
          ],
          "name": "stdout"
        },
        {
          "output_type": "stream",
          "text": [
            "100%|██████████| 391/391 [03:37<00:00,  1.80it/s]\n",
            "  0%|          | 0/391 [00:00<?, ?it/s]"
          ],
          "name": "stderr"
        },
        {
          "output_type": "stream",
          "text": [
            "{'n_parameters': 17116634, 'train_loss': 0.005105740039387858, 'resume': '', 'dtype': 'float', 'gpu_id': '0', 'batch_size': 128, 'dataset': 'CIFAR10', 'epochs': 200, 'randomcrop_pad': 4, 'ngpu': 1, 'groups': 1, 'num_classes': 10, 'weight_decay': 0.0005, 'epoch_step': '[60,120,160]', 'test_acc': 95.3, 'test_loss': 0.16010383615576765, 'train_time': 217.07759380340576, 'train_acc': 99.958, 'nthread': 4, 'lr_decay_ratio': 0.2, 'test_time': 13.681132078170776, 'width': 10.0, 'depth': 16, 'lr': 0.1, 'cuda': False, 'epoch': 124, 'dataroot': '.', 'model': 'resnet', 'save': './logs/resnet_20180204'}\n",
            "None\n",
            "==> id: ./logs/resnet_20180204 (124/200), test_acc: \u001b[91m95.30\u001b[0m\n"
          ],
          "name": "stdout"
        },
        {
          "output_type": "stream",
          "text": [
            "100%|██████████| 391/391 [03:37<00:00,  1.80it/s]\n",
            "  0%|          | 0/391 [00:00<?, ?it/s]"
          ],
          "name": "stderr"
        },
        {
          "output_type": "stream",
          "text": [
            "{'n_parameters': 17116634, 'train_loss': 0.0047565824512983005, 'resume': '', 'dtype': 'float', 'gpu_id': '0', 'batch_size': 128, 'dataset': 'CIFAR10', 'epochs': 200, 'randomcrop_pad': 4, 'ngpu': 1, 'groups': 1, 'num_classes': 10, 'weight_decay': 0.0005, 'epoch_step': '[60,120,160]', 'test_acc': 95.19999999999999, 'test_loss': 0.15992650785778142, 'train_time': 217.5942940711975, 'train_acc': 99.968, 'nthread': 4, 'lr_decay_ratio': 0.2, 'test_time': 13.754086017608643, 'width': 10.0, 'depth': 16, 'lr': 0.1, 'cuda': False, 'epoch': 125, 'dataroot': '.', 'model': 'resnet', 'save': './logs/resnet_20180204'}\n",
            "None\n",
            "==> id: ./logs/resnet_20180204 (125/200), test_acc: \u001b[91m95.20\u001b[0m\n"
          ],
          "name": "stdout"
        },
        {
          "output_type": "stream",
          "text": [
            "100%|██████████| 391/391 [03:37<00:00,  1.80it/s]\n",
            "  0%|          | 0/391 [00:00<?, ?it/s]"
          ],
          "name": "stderr"
        },
        {
          "output_type": "stream",
          "text": [
            "{'n_parameters': 17116634, 'train_loss': 0.004432216334297227, 'resume': '', 'dtype': 'float', 'gpu_id': '0', 'batch_size': 128, 'dataset': 'CIFAR10', 'epochs': 200, 'randomcrop_pad': 4, 'ngpu': 1, 'groups': 1, 'num_classes': 10, 'weight_decay': 0.0005, 'epoch_step': '[60,120,160]', 'test_acc': 95.3, 'test_loss': 0.1574199120926706, 'train_time': 217.1493411064148, 'train_acc': 99.964, 'nthread': 4, 'lr_decay_ratio': 0.2, 'test_time': 13.676177024841309, 'width': 10.0, 'depth': 16, 'lr': 0.1, 'cuda': False, 'epoch': 126, 'dataroot': '.', 'model': 'resnet', 'save': './logs/resnet_20180204'}\n",
            "None\n",
            "==> id: ./logs/resnet_20180204 (126/200), test_acc: \u001b[91m95.30\u001b[0m\n"
          ],
          "name": "stdout"
        },
        {
          "output_type": "stream",
          "text": [
            "100%|██████████| 391/391 [03:37<00:00,  1.80it/s]\n",
            "  0%|          | 0/391 [00:00<?, ?it/s]"
          ],
          "name": "stderr"
        },
        {
          "output_type": "stream",
          "text": [
            "{'n_parameters': 17116634, 'train_loss': 0.004044471247850553, 'resume': '', 'dtype': 'float', 'gpu_id': '0', 'batch_size': 128, 'dataset': 'CIFAR10', 'epochs': 200, 'randomcrop_pad': 4, 'ngpu': 1, 'groups': 1, 'num_classes': 10, 'weight_decay': 0.0005, 'epoch_step': '[60,120,160]', 'test_acc': 95.44, 'test_loss': 0.15504144103843964, 'train_time': 217.17133402824402, 'train_acc': 99.982, 'nthread': 4, 'lr_decay_ratio': 0.2, 'test_time': 13.724961996078491, 'width': 10.0, 'depth': 16, 'lr': 0.1, 'cuda': False, 'epoch': 127, 'dataroot': '.', 'model': 'resnet', 'save': './logs/resnet_20180204'}\n",
            "None\n",
            "==> id: ./logs/resnet_20180204 (127/200), test_acc: \u001b[91m95.44\u001b[0m\n"
          ],
          "name": "stdout"
        },
        {
          "output_type": "stream",
          "text": [
            "100%|██████████| 391/391 [03:37<00:00,  1.80it/s]\n",
            "  0%|          | 0/391 [00:00<?, ?it/s]"
          ],
          "name": "stderr"
        },
        {
          "output_type": "stream",
          "text": [
            "{'n_parameters': 17116634, 'train_loss': 0.0037036649763698445, 'resume': '', 'dtype': 'float', 'gpu_id': '0', 'batch_size': 128, 'dataset': 'CIFAR10', 'epochs': 200, 'randomcrop_pad': 4, 'ngpu': 1, 'groups': 1, 'num_classes': 10, 'weight_decay': 0.0005, 'epoch_step': '[60,120,160]', 'test_acc': 95.49, 'test_loss': 0.15533094725842728, 'train_time': 217.219868183136, 'train_acc': 99.982, 'nthread': 4, 'lr_decay_ratio': 0.2, 'test_time': 13.67953109741211, 'width': 10.0, 'depth': 16, 'lr': 0.1, 'cuda': False, 'epoch': 128, 'dataroot': '.', 'model': 'resnet', 'save': './logs/resnet_20180204'}\n",
            "None\n",
            "==> id: ./logs/resnet_20180204 (128/200), test_acc: \u001b[91m95.49\u001b[0m\n"
          ],
          "name": "stdout"
        },
        {
          "output_type": "stream",
          "text": [
            "100%|██████████| 391/391 [03:37<00:00,  1.80it/s]\n",
            "  0%|          | 0/391 [00:00<?, ?it/s]"
          ],
          "name": "stderr"
        },
        {
          "output_type": "stream",
          "text": [
            "{'n_parameters': 17116634, 'train_loss': 0.003603022418144488, 'resume': '', 'dtype': 'float', 'gpu_id': '0', 'batch_size': 128, 'dataset': 'CIFAR10', 'epochs': 200, 'randomcrop_pad': 4, 'ngpu': 1, 'groups': 1, 'num_classes': 10, 'weight_decay': 0.0005, 'epoch_step': '[60,120,160]', 'test_acc': 95.39, 'test_loss': 0.15737897275558002, 'train_time': 217.1361129283905, 'train_acc': 99.988, 'nthread': 4, 'lr_decay_ratio': 0.2, 'test_time': 13.772405862808228, 'width': 10.0, 'depth': 16, 'lr': 0.1, 'cuda': False, 'epoch': 129, 'dataroot': '.', 'model': 'resnet', 'save': './logs/resnet_20180204'}\n",
            "None\n",
            "==> id: ./logs/resnet_20180204 (129/200), test_acc: \u001b[91m95.39\u001b[0m\n"
          ],
          "name": "stdout"
        },
        {
          "output_type": "stream",
          "text": [
            "100%|██████████| 391/391 [03:37<00:00,  1.80it/s]\n",
            "  0%|          | 0/391 [00:00<?, ?it/s]"
          ],
          "name": "stderr"
        },
        {
          "output_type": "stream",
          "text": [
            "{'n_parameters': 17116634, 'train_loss': 0.003681489370067788, 'resume': '', 'dtype': 'float', 'gpu_id': '0', 'batch_size': 128, 'dataset': 'CIFAR10', 'epochs': 200, 'randomcrop_pad': 4, 'ngpu': 1, 'groups': 1, 'num_classes': 10, 'weight_decay': 0.0005, 'epoch_step': '[60,120,160]', 'test_acc': 95.55, 'test_loss': 0.1534522896326041, 'train_time': 217.58449578285217, 'train_acc': 99.984, 'nthread': 4, 'lr_decay_ratio': 0.2, 'test_time': 13.703488111495972, 'width': 10.0, 'depth': 16, 'lr': 0.1, 'cuda': False, 'epoch': 130, 'dataroot': '.', 'model': 'resnet', 'save': './logs/resnet_20180204'}\n",
            "None\n",
            "==> id: ./logs/resnet_20180204 (130/200), test_acc: \u001b[91m95.55\u001b[0m\n"
          ],
          "name": "stdout"
        },
        {
          "output_type": "stream",
          "text": [
            "100%|██████████| 391/391 [03:37<00:00,  1.80it/s]\n",
            "  0%|          | 0/391 [00:00<?, ?it/s]"
          ],
          "name": "stderr"
        },
        {
          "output_type": "stream",
          "text": [
            "{'n_parameters': 17116634, 'train_loss': 0.0032262619709253052, 'resume': '', 'dtype': 'float', 'gpu_id': '0', 'batch_size': 128, 'dataset': 'CIFAR10', 'epochs': 200, 'randomcrop_pad': 4, 'ngpu': 1, 'groups': 1, 'num_classes': 10, 'weight_decay': 0.0005, 'epoch_step': '[60,120,160]', 'test_acc': 95.37, 'test_loss': 0.15551767776472655, 'train_time': 217.11097311973572, 'train_acc': 99.994, 'nthread': 4, 'lr_decay_ratio': 0.2, 'test_time': 13.684427976608276, 'width': 10.0, 'depth': 16, 'lr': 0.1, 'cuda': False, 'epoch': 131, 'dataroot': '.', 'model': 'resnet', 'save': './logs/resnet_20180204'}\n",
            "None\n",
            "==> id: ./logs/resnet_20180204 (131/200), test_acc: \u001b[91m95.37\u001b[0m\n"
          ],
          "name": "stdout"
        },
        {
          "output_type": "stream",
          "text": [
            "100%|██████████| 391/391 [03:37<00:00,  1.80it/s]\n",
            "  0%|          | 0/391 [00:00<?, ?it/s]"
          ],
          "name": "stderr"
        },
        {
          "output_type": "stream",
          "text": [
            "{'n_parameters': 17116634, 'train_loss': 0.0032253998791432134, 'resume': '', 'dtype': 'float', 'gpu_id': '0', 'batch_size': 128, 'dataset': 'CIFAR10', 'epochs': 200, 'randomcrop_pad': 4, 'ngpu': 1, 'groups': 1, 'num_classes': 10, 'weight_decay': 0.0005, 'epoch_step': '[60,120,160]', 'test_acc': 95.58, 'test_loss': 0.15377756481683708, 'train_time': 217.60764694213867, 'train_acc': 99.99, 'nthread': 4, 'lr_decay_ratio': 0.2, 'test_time': 13.715535879135132, 'width': 10.0, 'depth': 16, 'lr': 0.1, 'cuda': False, 'epoch': 132, 'dataroot': '.', 'model': 'resnet', 'save': './logs/resnet_20180204'}\n",
            "None\n",
            "==> id: ./logs/resnet_20180204 (132/200), test_acc: \u001b[91m95.58\u001b[0m\n"
          ],
          "name": "stdout"
        },
        {
          "output_type": "stream",
          "text": [
            "100%|██████████| 391/391 [03:37<00:00,  1.80it/s]\n",
            "  0%|          | 0/391 [00:00<?, ?it/s]"
          ],
          "name": "stderr"
        },
        {
          "output_type": "stream",
          "text": [
            "{'n_parameters': 17116634, 'train_loss': 0.003304692992792866, 'resume': '', 'dtype': 'float', 'gpu_id': '0', 'batch_size': 128, 'dataset': 'CIFAR10', 'epochs': 200, 'randomcrop_pad': 4, 'ngpu': 1, 'groups': 1, 'num_classes': 10, 'weight_decay': 0.0005, 'epoch_step': '[60,120,160]', 'test_acc': 95.56, 'test_loss': 0.1523379947094223, 'train_time': 217.389084815979, 'train_acc': 99.98599999999999, 'nthread': 4, 'lr_decay_ratio': 0.2, 'test_time': 13.750066995620728, 'width': 10.0, 'depth': 16, 'lr': 0.1, 'cuda': False, 'epoch': 133, 'dataroot': '.', 'model': 'resnet', 'save': './logs/resnet_20180204'}\n",
            "None\n",
            "==> id: ./logs/resnet_20180204 (133/200), test_acc: \u001b[91m95.56\u001b[0m\n"
          ],
          "name": "stdout"
        },
        {
          "output_type": "stream",
          "text": [
            "100%|██████████| 391/391 [03:37<00:00,  1.80it/s]\n",
            "  0%|          | 0/391 [00:00<?, ?it/s]"
          ],
          "name": "stderr"
        },
        {
          "output_type": "stream",
          "text": [
            "{'n_parameters': 17116634, 'train_loss': 0.003289145380592027, 'resume': '', 'dtype': 'float', 'gpu_id': '0', 'batch_size': 128, 'dataset': 'CIFAR10', 'epochs': 200, 'randomcrop_pad': 4, 'ngpu': 1, 'groups': 1, 'num_classes': 10, 'weight_decay': 0.0005, 'epoch_step': '[60,120,160]', 'test_acc': 95.52000000000001, 'test_loss': 0.15295375053641166, 'train_time': 217.17677903175354, 'train_acc': 99.99, 'nthread': 4, 'lr_decay_ratio': 0.2, 'test_time': 13.729916095733643, 'width': 10.0, 'depth': 16, 'lr': 0.1, 'cuda': False, 'epoch': 134, 'dataroot': '.', 'model': 'resnet', 'save': './logs/resnet_20180204'}\n",
            "None\n",
            "==> id: ./logs/resnet_20180204 (134/200), test_acc: \u001b[91m95.52\u001b[0m\n"
          ],
          "name": "stdout"
        },
        {
          "output_type": "stream",
          "text": [
            "100%|██████████| 391/391 [03:37<00:00,  1.80it/s]\n",
            "  0%|          | 0/391 [00:00<?, ?it/s]"
          ],
          "name": "stderr"
        },
        {
          "output_type": "stream",
          "text": [
            "{'n_parameters': 17116634, 'train_loss': 0.003102456814373658, 'resume': '', 'dtype': 'float', 'gpu_id': '0', 'batch_size': 128, 'dataset': 'CIFAR10', 'epochs': 200, 'randomcrop_pad': 4, 'ngpu': 1, 'groups': 1, 'num_classes': 10, 'weight_decay': 0.0005, 'epoch_step': '[60,120,160]', 'test_acc': 95.54, 'test_loss': 0.15022563943757286, 'train_time': 217.6527979373932, 'train_acc': 99.996, 'nthread': 4, 'lr_decay_ratio': 0.2, 'test_time': 13.786500215530396, 'width': 10.0, 'depth': 16, 'lr': 0.1, 'cuda': False, 'epoch': 135, 'dataroot': '.', 'model': 'resnet', 'save': './logs/resnet_20180204'}\n",
            "None\n",
            "==> id: ./logs/resnet_20180204 (135/200), test_acc: \u001b[91m95.54\u001b[0m\n"
          ],
          "name": "stdout"
        },
        {
          "output_type": "stream",
          "text": [
            "100%|██████████| 391/391 [03:37<00:00,  1.80it/s]\n",
            "  0%|          | 0/391 [00:00<?, ?it/s]"
          ],
          "name": "stderr"
        },
        {
          "output_type": "stream",
          "text": [
            "{'n_parameters': 17116634, 'train_loss': 0.00306224230024249, 'resume': '', 'dtype': 'float', 'gpu_id': '0', 'batch_size': 128, 'dataset': 'CIFAR10', 'epochs': 200, 'randomcrop_pad': 4, 'ngpu': 1, 'groups': 1, 'num_classes': 10, 'weight_decay': 0.0005, 'epoch_step': '[60,120,160]', 'test_acc': 95.49, 'test_loss': 0.15134685481839547, 'train_time': 217.0483272075653, 'train_acc': 99.99, 'nthread': 4, 'lr_decay_ratio': 0.2, 'test_time': 13.74639081954956, 'width': 10.0, 'depth': 16, 'lr': 0.1, 'cuda': False, 'epoch': 136, 'dataroot': '.', 'model': 'resnet', 'save': './logs/resnet_20180204'}\n",
            "None\n",
            "==> id: ./logs/resnet_20180204 (136/200), test_acc: \u001b[91m95.49\u001b[0m\n"
          ],
          "name": "stdout"
        },
        {
          "output_type": "stream",
          "text": [
            "100%|██████████| 391/391 [03:37<00:00,  1.80it/s]\n",
            "  0%|          | 0/391 [00:00<?, ?it/s]"
          ],
          "name": "stderr"
        },
        {
          "output_type": "stream",
          "text": [
            "{'n_parameters': 17116634, 'train_loss': 0.002969773970973078, 'resume': '', 'dtype': 'float', 'gpu_id': '0', 'batch_size': 128, 'dataset': 'CIFAR10', 'epochs': 200, 'randomcrop_pad': 4, 'ngpu': 1, 'groups': 1, 'num_classes': 10, 'weight_decay': 0.0005, 'epoch_step': '[60,120,160]', 'test_acc': 95.6, 'test_loss': 0.15010320017986659, 'train_time': 217.5498218536377, 'train_acc': 99.998, 'nthread': 4, 'lr_decay_ratio': 0.2, 'test_time': 13.706129789352417, 'width': 10.0, 'depth': 16, 'lr': 0.1, 'cuda': False, 'epoch': 137, 'dataroot': '.', 'model': 'resnet', 'save': './logs/resnet_20180204'}\n",
            "None\n",
            "==> id: ./logs/resnet_20180204 (137/200), test_acc: \u001b[91m95.60\u001b[0m\n"
          ],
          "name": "stdout"
        },
        {
          "output_type": "stream",
          "text": [
            "100%|██████████| 391/391 [03:37<00:00,  1.80it/s]\n",
            "  0%|          | 0/391 [00:00<?, ?it/s]"
          ],
          "name": "stderr"
        },
        {
          "output_type": "stream",
          "text": [
            "{'n_parameters': 17116634, 'train_loss': 0.0029121293207568584, 'resume': '', 'dtype': 'float', 'gpu_id': '0', 'batch_size': 128, 'dataset': 'CIFAR10', 'epochs': 200, 'randomcrop_pad': 4, 'ngpu': 1, 'groups': 1, 'num_classes': 10, 'weight_decay': 0.0005, 'epoch_step': '[60,120,160]', 'test_acc': 95.5, 'test_loss': 0.1502442864017396, 'train_time': 217.59452509880066, 'train_acc': 99.994, 'nthread': 4, 'lr_decay_ratio': 0.2, 'test_time': 13.716777086257935, 'width': 10.0, 'depth': 16, 'lr': 0.1, 'cuda': False, 'epoch': 138, 'dataroot': '.', 'model': 'resnet', 'save': './logs/resnet_20180204'}\n",
            "None\n",
            "==> id: ./logs/resnet_20180204 (138/200), test_acc: \u001b[91m95.50\u001b[0m\n"
          ],
          "name": "stdout"
        },
        {
          "output_type": "stream",
          "text": [
            "100%|██████████| 391/391 [03:37<00:00,  1.80it/s]\n",
            "  0%|          | 0/391 [00:00<?, ?it/s]"
          ],
          "name": "stderr"
        },
        {
          "output_type": "stream",
          "text": [
            "{'n_parameters': 17116634, 'train_loss': 0.003045284938391136, 'resume': '', 'dtype': 'float', 'gpu_id': '0', 'batch_size': 128, 'dataset': 'CIFAR10', 'epochs': 200, 'randomcrop_pad': 4, 'ngpu': 1, 'groups': 1, 'num_classes': 10, 'weight_decay': 0.0005, 'epoch_step': '[60,120,160]', 'test_acc': 95.53, 'test_loss': 0.15138335214762746, 'train_time': 217.27049803733826, 'train_acc': 99.988, 'nthread': 4, 'lr_decay_ratio': 0.2, 'test_time': 13.794677972793579, 'width': 10.0, 'depth': 16, 'lr': 0.1, 'cuda': False, 'epoch': 139, 'dataroot': '.', 'model': 'resnet', 'save': './logs/resnet_20180204'}\n",
            "None\n",
            "==> id: ./logs/resnet_20180204 (139/200), test_acc: \u001b[91m95.53\u001b[0m\n"
          ],
          "name": "stdout"
        },
        {
          "output_type": "stream",
          "text": [
            "100%|██████████| 391/391 [03:37<00:00,  1.80it/s]\n",
            "  0%|          | 0/391 [00:00<?, ?it/s]"
          ],
          "name": "stderr"
        },
        {
          "output_type": "stream",
          "text": [
            "{'n_parameters': 17116634, 'train_loss': 0.00316522402755554, 'resume': '', 'dtype': 'float', 'gpu_id': '0', 'batch_size': 128, 'dataset': 'CIFAR10', 'epochs': 200, 'randomcrop_pad': 4, 'ngpu': 1, 'groups': 1, 'num_classes': 10, 'weight_decay': 0.0005, 'epoch_step': '[60,120,160]', 'test_acc': 95.54, 'test_loss': 0.14873237690970867, 'train_time': 217.204185962677, 'train_acc': 99.99, 'nthread': 4, 'lr_decay_ratio': 0.2, 'test_time': 13.807894945144653, 'width': 10.0, 'depth': 16, 'lr': 0.1, 'cuda': False, 'epoch': 140, 'dataroot': '.', 'model': 'resnet', 'save': './logs/resnet_20180204'}\n",
            "None\n",
            "==> id: ./logs/resnet_20180204 (140/200), test_acc: \u001b[91m95.54\u001b[0m\n"
          ],
          "name": "stdout"
        },
        {
          "output_type": "stream",
          "text": [
            "100%|██████████| 391/391 [03:37<00:00,  1.80it/s]\n",
            "  0%|          | 0/391 [00:00<?, ?it/s]"
          ],
          "name": "stderr"
        },
        {
          "output_type": "stream",
          "text": [
            "{'n_parameters': 17116634, 'train_loss': 0.0028491639806067243, 'resume': '', 'dtype': 'float', 'gpu_id': '0', 'batch_size': 128, 'dataset': 'CIFAR10', 'epochs': 200, 'randomcrop_pad': 4, 'ngpu': 1, 'groups': 1, 'num_classes': 10, 'weight_decay': 0.0005, 'epoch_step': '[60,120,160]', 'test_acc': 95.67999999999999, 'test_loss': 0.14691563068500044, 'train_time': 217.33395409584045, 'train_acc': 99.998, 'nthread': 4, 'lr_decay_ratio': 0.2, 'test_time': 13.703487157821655, 'width': 10.0, 'depth': 16, 'lr': 0.1, 'cuda': False, 'epoch': 141, 'dataroot': '.', 'model': 'resnet', 'save': './logs/resnet_20180204'}\n",
            "None\n",
            "==> id: ./logs/resnet_20180204 (141/200), test_acc: \u001b[91m95.68\u001b[0m\n"
          ],
          "name": "stdout"
        },
        {
          "output_type": "stream",
          "text": [
            "100%|██████████| 391/391 [03:37<00:00,  1.80it/s]\n",
            "  0%|          | 0/391 [00:00<?, ?it/s]"
          ],
          "name": "stderr"
        },
        {
          "output_type": "stream",
          "text": [
            "{'n_parameters': 17116634, 'train_loss': 0.0027281136425864683, 'resume': '', 'dtype': 'float', 'gpu_id': '0', 'batch_size': 128, 'dataset': 'CIFAR10', 'epochs': 200, 'randomcrop_pad': 4, 'ngpu': 1, 'groups': 1, 'num_classes': 10, 'weight_decay': 0.0005, 'epoch_step': '[60,120,160]', 'test_acc': 95.59, 'test_loss': 0.14692789141701756, 'train_time': 217.3640570640564, 'train_acc': 99.998, 'nthread': 4, 'lr_decay_ratio': 0.2, 'test_time': 13.740470886230469, 'width': 10.0, 'depth': 16, 'lr': 0.1, 'cuda': False, 'epoch': 142, 'dataroot': '.', 'model': 'resnet', 'save': './logs/resnet_20180204'}\n",
            "None\n",
            "==> id: ./logs/resnet_20180204 (142/200), test_acc: \u001b[91m95.59\u001b[0m\n"
          ],
          "name": "stdout"
        },
        {
          "output_type": "stream",
          "text": [
            "100%|██████████| 391/391 [03:37<00:00,  1.80it/s]\n",
            "  0%|          | 0/391 [00:00<?, ?it/s]"
          ],
          "name": "stderr"
        },
        {
          "output_type": "stream",
          "text": [
            "{'n_parameters': 17116634, 'train_loss': 0.0027570731138758125, 'resume': '', 'dtype': 'float', 'gpu_id': '0', 'batch_size': 128, 'dataset': 'CIFAR10', 'epochs': 200, 'randomcrop_pad': 4, 'ngpu': 1, 'groups': 1, 'num_classes': 10, 'weight_decay': 0.0005, 'epoch_step': '[60,120,160]', 'test_acc': 95.66, 'test_loss': 0.1474773597113694, 'train_time': 217.12791109085083, 'train_acc': 99.998, 'nthread': 4, 'lr_decay_ratio': 0.2, 'test_time': 13.762781143188477, 'width': 10.0, 'depth': 16, 'lr': 0.1, 'cuda': False, 'epoch': 143, 'dataroot': '.', 'model': 'resnet', 'save': './logs/resnet_20180204'}\n",
            "None\n",
            "==> id: ./logs/resnet_20180204 (143/200), test_acc: \u001b[91m95.66\u001b[0m\n"
          ],
          "name": "stdout"
        },
        {
          "output_type": "stream",
          "text": [
            "100%|██████████| 391/391 [03:37<00:00,  1.80it/s]\n",
            "  0%|          | 0/391 [00:00<?, ?it/s]"
          ],
          "name": "stderr"
        },
        {
          "output_type": "stream",
          "text": [
            "{'n_parameters': 17116634, 'train_loss': 0.002859651607692317, 'resume': '', 'dtype': 'float', 'gpu_id': '0', 'batch_size': 128, 'dataset': 'CIFAR10', 'epochs': 200, 'randomcrop_pad': 4, 'ngpu': 1, 'groups': 1, 'num_classes': 10, 'weight_decay': 0.0005, 'epoch_step': '[60,120,160]', 'test_acc': 95.50999999999999, 'test_loss': 0.148438849215266, 'train_time': 217.146301984787, 'train_acc': 99.994, 'nthread': 4, 'lr_decay_ratio': 0.2, 'test_time': 13.671963214874268, 'width': 10.0, 'depth': 16, 'lr': 0.1, 'cuda': False, 'epoch': 144, 'dataroot': '.', 'model': 'resnet', 'save': './logs/resnet_20180204'}\n",
            "None\n",
            "==> id: ./logs/resnet_20180204 (144/200), test_acc: \u001b[91m95.51\u001b[0m\n"
          ],
          "name": "stdout"
        },
        {
          "output_type": "stream",
          "text": [
            "100%|██████████| 391/391 [03:37<00:00,  1.80it/s]\n",
            "  0%|          | 0/391 [00:00<?, ?it/s]"
          ],
          "name": "stderr"
        },
        {
          "output_type": "stream",
          "text": [
            "{'n_parameters': 17116634, 'train_loss': 0.0028219076907833843, 'resume': '', 'dtype': 'float', 'gpu_id': '0', 'batch_size': 128, 'dataset': 'CIFAR10', 'epochs': 200, 'randomcrop_pad': 4, 'ngpu': 1, 'groups': 1, 'num_classes': 10, 'weight_decay': 0.0005, 'epoch_step': '[60,120,160]', 'test_acc': 95.66, 'test_loss': 0.14685088287614573, 'train_time': 217.0506100654602, 'train_acc': 99.99, 'nthread': 4, 'lr_decay_ratio': 0.2, 'test_time': 13.741107940673828, 'width': 10.0, 'depth': 16, 'lr': 0.1, 'cuda': False, 'epoch': 145, 'dataroot': '.', 'model': 'resnet', 'save': './logs/resnet_20180204'}\n",
            "None\n",
            "==> id: ./logs/resnet_20180204 (145/200), test_acc: \u001b[91m95.66\u001b[0m\n"
          ],
          "name": "stdout"
        },
        {
          "output_type": "stream",
          "text": [
            "100%|██████████| 391/391 [03:37<00:00,  1.80it/s]\n",
            "  0%|          | 0/391 [00:00<?, ?it/s]"
          ],
          "name": "stderr"
        },
        {
          "output_type": "stream",
          "text": [
            "{'n_parameters': 17116634, 'train_loss': 0.0028601625203000156, 'resume': '', 'dtype': 'float', 'gpu_id': '0', 'batch_size': 128, 'dataset': 'CIFAR10', 'epochs': 200, 'randomcrop_pad': 4, 'ngpu': 1, 'groups': 1, 'num_classes': 10, 'weight_decay': 0.0005, 'epoch_step': '[60,120,160]', 'test_acc': 95.75, 'test_loss': 0.1453346480863004, 'train_time': 217.43931412696838, 'train_acc': 99.998, 'nthread': 4, 'lr_decay_ratio': 0.2, 'test_time': 13.690408945083618, 'width': 10.0, 'depth': 16, 'lr': 0.1, 'cuda': False, 'epoch': 146, 'dataroot': '.', 'model': 'resnet', 'save': './logs/resnet_20180204'}\n",
            "None\n",
            "==> id: ./logs/resnet_20180204 (146/200), test_acc: \u001b[91m95.75\u001b[0m\n"
          ],
          "name": "stdout"
        },
        {
          "output_type": "stream",
          "text": [
            "100%|██████████| 391/391 [03:36<00:00,  1.80it/s]\n",
            "  0%|          | 0/391 [00:00<?, ?it/s]"
          ],
          "name": "stderr"
        },
        {
          "output_type": "stream",
          "text": [
            "{'n_parameters': 17116634, 'train_loss': 0.00276986562141963, 'resume': '', 'dtype': 'float', 'gpu_id': '0', 'batch_size': 128, 'dataset': 'CIFAR10', 'epochs': 200, 'randomcrop_pad': 4, 'ngpu': 1, 'groups': 1, 'num_classes': 10, 'weight_decay': 0.0005, 'epoch_step': '[60,120,160]', 'test_acc': 95.72, 'test_loss': 0.1463898557556581, 'train_time': 216.90074706077576, 'train_acc': 99.998, 'nthread': 4, 'lr_decay_ratio': 0.2, 'test_time': 13.686127185821533, 'width': 10.0, 'depth': 16, 'lr': 0.1, 'cuda': False, 'epoch': 147, 'dataroot': '.', 'model': 'resnet', 'save': './logs/resnet_20180204'}\n",
            "None\n",
            "==> id: ./logs/resnet_20180204 (147/200), test_acc: \u001b[91m95.72\u001b[0m\n"
          ],
          "name": "stdout"
        },
        {
          "output_type": "stream",
          "text": [
            "100%|██████████| 391/391 [03:37<00:00,  1.80it/s]\n",
            "  0%|          | 0/391 [00:00<?, ?it/s]"
          ],
          "name": "stderr"
        },
        {
          "output_type": "stream",
          "text": [
            "{'n_parameters': 17116634, 'train_loss': 0.0027704549372158057, 'resume': '', 'dtype': 'float', 'gpu_id': '0', 'batch_size': 128, 'dataset': 'CIFAR10', 'epochs': 200, 'randomcrop_pad': 4, 'ngpu': 1, 'groups': 1, 'num_classes': 10, 'weight_decay': 0.0005, 'epoch_step': '[60,120,160]', 'test_acc': 95.71, 'test_loss': 0.1455208066898056, 'train_time': 217.3628990650177, 'train_acc': 100.0, 'nthread': 4, 'lr_decay_ratio': 0.2, 'test_time': 13.729583978652954, 'width': 10.0, 'depth': 16, 'lr': 0.1, 'cuda': False, 'epoch': 148, 'dataroot': '.', 'model': 'resnet', 'save': './logs/resnet_20180204'}\n",
            "None\n",
            "==> id: ./logs/resnet_20180204 (148/200), test_acc: \u001b[91m95.71\u001b[0m\n"
          ],
          "name": "stdout"
        },
        {
          "output_type": "stream",
          "text": [
            "100%|██████████| 391/391 [03:36<00:00,  1.80it/s]\n",
            "  0%|          | 0/391 [00:00<?, ?it/s]"
          ],
          "name": "stderr"
        },
        {
          "output_type": "stream",
          "text": [
            "{'n_parameters': 17116634, 'train_loss': 0.002766363440043367, 'resume': '', 'dtype': 'float', 'gpu_id': '0', 'batch_size': 128, 'dataset': 'CIFAR10', 'epochs': 200, 'randomcrop_pad': 4, 'ngpu': 1, 'groups': 1, 'num_classes': 10, 'weight_decay': 0.0005, 'epoch_step': '[60,120,160]', 'test_acc': 95.73, 'test_loss': 0.1464544733679747, 'train_time': 216.86042308807373, 'train_acc': 99.996, 'nthread': 4, 'lr_decay_ratio': 0.2, 'test_time': 13.737609148025513, 'width': 10.0, 'depth': 16, 'lr': 0.1, 'cuda': False, 'epoch': 149, 'dataroot': '.', 'model': 'resnet', 'save': './logs/resnet_20180204'}\n",
            "None\n",
            "==> id: ./logs/resnet_20180204 (149/200), test_acc: \u001b[91m95.73\u001b[0m\n"
          ],
          "name": "stdout"
        },
        {
          "output_type": "stream",
          "text": [
            "100%|██████████| 391/391 [03:37<00:00,  1.80it/s]\n",
            "  0%|          | 0/391 [00:00<?, ?it/s]"
          ],
          "name": "stderr"
        },
        {
          "output_type": "stream",
          "text": [
            "{'n_parameters': 17116634, 'train_loss': 0.0028729732201942023, 'resume': '', 'dtype': 'float', 'gpu_id': '0', 'batch_size': 128, 'dataset': 'CIFAR10', 'epochs': 200, 'randomcrop_pad': 4, 'ngpu': 1, 'groups': 1, 'num_classes': 10, 'weight_decay': 0.0005, 'epoch_step': '[60,120,160]', 'test_acc': 95.67, 'test_loss': 0.146157537032909, 'train_time': 217.23100805282593, 'train_acc': 100.0, 'nthread': 4, 'lr_decay_ratio': 0.2, 'test_time': 13.737706899642944, 'width': 10.0, 'depth': 16, 'lr': 0.1, 'cuda': False, 'epoch': 150, 'dataroot': '.', 'model': 'resnet', 'save': './logs/resnet_20180204'}\n",
            "None\n",
            "==> id: ./logs/resnet_20180204 (150/200), test_acc: \u001b[91m95.67\u001b[0m\n"
          ],
          "name": "stdout"
        },
        {
          "output_type": "stream",
          "text": [
            "100%|██████████| 391/391 [03:37<00:00,  1.80it/s]\n",
            "  0%|          | 0/391 [00:00<?, ?it/s]"
          ],
          "name": "stderr"
        },
        {
          "output_type": "stream",
          "text": [
            "{'n_parameters': 17116634, 'train_loss': 0.0028094721474515656, 'resume': '', 'dtype': 'float', 'gpu_id': '0', 'batch_size': 128, 'dataset': 'CIFAR10', 'epochs': 200, 'randomcrop_pad': 4, 'ngpu': 1, 'groups': 1, 'num_classes': 10, 'weight_decay': 0.0005, 'epoch_step': '[60,120,160]', 'test_acc': 95.83, 'test_loss': 0.14370784569012965, 'train_time': 217.1070761680603, 'train_acc': 99.998, 'nthread': 4, 'lr_decay_ratio': 0.2, 'test_time': 13.642580032348633, 'width': 10.0, 'depth': 16, 'lr': 0.1, 'cuda': False, 'epoch': 151, 'dataroot': '.', 'model': 'resnet', 'save': './logs/resnet_20180204'}\n",
            "None\n",
            "==> id: ./logs/resnet_20180204 (151/200), test_acc: \u001b[91m95.83\u001b[0m\n"
          ],
          "name": "stdout"
        },
        {
          "output_type": "stream",
          "text": [
            "100%|██████████| 391/391 [03:36<00:00,  1.80it/s]\n",
            "  0%|          | 0/391 [00:00<?, ?it/s]"
          ],
          "name": "stderr"
        },
        {
          "output_type": "stream",
          "text": [
            "{'n_parameters': 17116634, 'train_loss': 0.0029578129463183594, 'resume': '', 'dtype': 'float', 'gpu_id': '0', 'batch_size': 128, 'dataset': 'CIFAR10', 'epochs': 200, 'randomcrop_pad': 4, 'ngpu': 1, 'groups': 1, 'num_classes': 10, 'weight_decay': 0.0005, 'epoch_step': '[60,120,160]', 'test_acc': 95.72, 'test_loss': 0.1446816236535205, 'train_time': 216.9334201812744, 'train_acc': 99.996, 'nthread': 4, 'lr_decay_ratio': 0.2, 'test_time': 13.69574499130249, 'width': 10.0, 'depth': 16, 'lr': 0.1, 'cuda': False, 'epoch': 152, 'dataroot': '.', 'model': 'resnet', 'save': './logs/resnet_20180204'}\n",
            "None\n",
            "==> id: ./logs/resnet_20180204 (152/200), test_acc: \u001b[91m95.72\u001b[0m\n"
          ],
          "name": "stdout"
        },
        {
          "output_type": "stream",
          "text": [
            "100%|██████████| 391/391 [03:37<00:00,  1.80it/s]\n",
            "  0%|          | 0/391 [00:00<?, ?it/s]"
          ],
          "name": "stderr"
        },
        {
          "output_type": "stream",
          "text": [
            "{'n_parameters': 17116634, 'train_loss': 0.00276766737620525, 'resume': '', 'dtype': 'float', 'gpu_id': '0', 'batch_size': 128, 'dataset': 'CIFAR10', 'epochs': 200, 'randomcrop_pad': 4, 'ngpu': 1, 'groups': 1, 'num_classes': 10, 'weight_decay': 0.0005, 'epoch_step': '[60,120,160]', 'test_acc': 95.67, 'test_loss': 0.14355902944373186, 'train_time': 217.17144989967346, 'train_acc': 99.996, 'nthread': 4, 'lr_decay_ratio': 0.2, 'test_time': 13.779462099075317, 'width': 10.0, 'depth': 16, 'lr': 0.1, 'cuda': False, 'epoch': 153, 'dataroot': '.', 'model': 'resnet', 'save': './logs/resnet_20180204'}\n",
            "None\n",
            "==> id: ./logs/resnet_20180204 (153/200), test_acc: \u001b[91m95.67\u001b[0m\n"
          ],
          "name": "stdout"
        },
        {
          "output_type": "stream",
          "text": [
            "100%|██████████| 391/391 [03:36<00:00,  1.80it/s]\n",
            "  0%|          | 0/391 [00:00<?, ?it/s]"
          ],
          "name": "stderr"
        },
        {
          "output_type": "stream",
          "text": [
            "{'n_parameters': 17116634, 'train_loss': 0.0027318701143269355, 'resume': '', 'dtype': 'float', 'gpu_id': '0', 'batch_size': 128, 'dataset': 'CIFAR10', 'epochs': 200, 'randomcrop_pad': 4, 'ngpu': 1, 'groups': 1, 'num_classes': 10, 'weight_decay': 0.0005, 'epoch_step': '[60,120,160]', 'test_acc': 95.65, 'test_loss': 0.14533073139152952, 'train_time': 216.9953968524933, 'train_acc': 100.0, 'nthread': 4, 'lr_decay_ratio': 0.2, 'test_time': 13.735729932785034, 'width': 10.0, 'depth': 16, 'lr': 0.1, 'cuda': False, 'epoch': 154, 'dataroot': '.', 'model': 'resnet', 'save': './logs/resnet_20180204'}\n",
            "None\n",
            "==> id: ./logs/resnet_20180204 (154/200), test_acc: \u001b[91m95.65\u001b[0m\n"
          ],
          "name": "stdout"
        },
        {
          "output_type": "stream",
          "text": [
            "100%|██████████| 391/391 [03:37<00:00,  1.80it/s]\n",
            "  0%|          | 0/391 [00:00<?, ?it/s]"
          ],
          "name": "stderr"
        },
        {
          "output_type": "stream",
          "text": [
            "{'n_parameters': 17116634, 'train_loss': 0.002839899935123636, 'resume': '', 'dtype': 'float', 'gpu_id': '0', 'batch_size': 128, 'dataset': 'CIFAR10', 'epochs': 200, 'randomcrop_pad': 4, 'ngpu': 1, 'groups': 1, 'num_classes': 10, 'weight_decay': 0.0005, 'epoch_step': '[60,120,160]', 'test_acc': 95.71, 'test_loss': 0.14419867277522633, 'train_time': 217.33937001228333, 'train_acc': 99.996, 'nthread': 4, 'lr_decay_ratio': 0.2, 'test_time': 13.682136058807373, 'width': 10.0, 'depth': 16, 'lr': 0.1, 'cuda': False, 'epoch': 155, 'dataroot': '.', 'model': 'resnet', 'save': './logs/resnet_20180204'}\n",
            "None\n",
            "==> id: ./logs/resnet_20180204 (155/200), test_acc: \u001b[91m95.71\u001b[0m\n"
          ],
          "name": "stdout"
        },
        {
          "output_type": "stream",
          "text": [
            "100%|██████████| 391/391 [03:37<00:00,  1.80it/s]\n",
            "  0%|          | 0/391 [00:00<?, ?it/s]"
          ],
          "name": "stderr"
        },
        {
          "output_type": "stream",
          "text": [
            "{'n_parameters': 17116634, 'train_loss': 0.0027738949450690407, 'resume': '', 'dtype': 'float', 'gpu_id': '0', 'batch_size': 128, 'dataset': 'CIFAR10', 'epochs': 200, 'randomcrop_pad': 4, 'ngpu': 1, 'groups': 1, 'num_classes': 10, 'weight_decay': 0.0005, 'epoch_step': '[60,120,160]', 'test_acc': 95.78, 'test_loss': 0.14445654052910933, 'train_time': 217.13047409057617, 'train_acc': 99.996, 'nthread': 4, 'lr_decay_ratio': 0.2, 'test_time': 13.72401213645935, 'width': 10.0, 'depth': 16, 'lr': 0.1, 'cuda': False, 'epoch': 156, 'dataroot': '.', 'model': 'resnet', 'save': './logs/resnet_20180204'}\n",
            "None\n",
            "==> id: ./logs/resnet_20180204 (156/200), test_acc: \u001b[91m95.78\u001b[0m\n"
          ],
          "name": "stdout"
        },
        {
          "output_type": "stream",
          "text": [
            "100%|██████████| 391/391 [03:37<00:00,  1.80it/s]\n",
            "  0%|          | 0/391 [00:00<?, ?it/s]"
          ],
          "name": "stderr"
        },
        {
          "output_type": "stream",
          "text": [
            "{'n_parameters': 17116634, 'train_loss': 0.0027474175443124903, 'resume': '', 'dtype': 'float', 'gpu_id': '0', 'batch_size': 128, 'dataset': 'CIFAR10', 'epochs': 200, 'randomcrop_pad': 4, 'ngpu': 1, 'groups': 1, 'num_classes': 10, 'weight_decay': 0.0005, 'epoch_step': '[60,120,160]', 'test_acc': 95.7, 'test_loss': 0.14472271186075633, 'train_time': 217.22925996780396, 'train_acc': 100.0, 'nthread': 4, 'lr_decay_ratio': 0.2, 'test_time': 13.762045860290527, 'width': 10.0, 'depth': 16, 'lr': 0.1, 'cuda': False, 'epoch': 157, 'dataroot': '.', 'model': 'resnet', 'save': './logs/resnet_20180204'}\n",
            "None\n",
            "==> id: ./logs/resnet_20180204 (157/200), test_acc: \u001b[91m95.70\u001b[0m\n"
          ],
          "name": "stdout"
        },
        {
          "output_type": "stream",
          "text": [
            "100%|██████████| 391/391 [03:37<00:00,  1.80it/s]\n",
            "  0%|          | 0/391 [00:00<?, ?it/s]"
          ],
          "name": "stderr"
        },
        {
          "output_type": "stream",
          "text": [
            "{'n_parameters': 17116634, 'train_loss': 0.0027559678656194375, 'resume': '', 'dtype': 'float', 'gpu_id': '0', 'batch_size': 128, 'dataset': 'CIFAR10', 'epochs': 200, 'randomcrop_pad': 4, 'ngpu': 1, 'groups': 1, 'num_classes': 10, 'weight_decay': 0.0005, 'epoch_step': '[60,120,160]', 'test_acc': 95.81, 'test_loss': 0.1442655250430108, 'train_time': 217.3614161014557, 'train_acc': 100.0, 'nthread': 4, 'lr_decay_ratio': 0.2, 'test_time': 13.715930938720703, 'width': 10.0, 'depth': 16, 'lr': 0.1, 'cuda': False, 'epoch': 158, 'dataroot': '.', 'model': 'resnet', 'save': './logs/resnet_20180204'}\n",
            "None\n",
            "==> id: ./logs/resnet_20180204 (158/200), test_acc: \u001b[91m95.81\u001b[0m\n"
          ],
          "name": "stdout"
        },
        {
          "output_type": "stream",
          "text": [
            "100%|██████████| 391/391 [03:37<00:00,  1.80it/s]\n",
            "  0%|          | 0/391 [00:00<?, ?it/s]"
          ],
          "name": "stderr"
        },
        {
          "output_type": "stream",
          "text": [
            "{'n_parameters': 17116634, 'train_loss': 0.002668540327526305, 'resume': '', 'dtype': 'float', 'gpu_id': '0', 'batch_size': 128, 'dataset': 'CIFAR10', 'epochs': 200, 'randomcrop_pad': 4, 'ngpu': 1, 'groups': 1, 'num_classes': 10, 'weight_decay': 0.0005, 'epoch_step': '[60,120,160]', 'test_acc': 95.84, 'test_loss': 0.14478829531352733, 'train_time': 217.42227411270142, 'train_acc': 100.0, 'nthread': 4, 'lr_decay_ratio': 0.2, 'test_time': 13.729633092880249, 'width': 10.0, 'depth': 16, 'lr': 0.1, 'cuda': False, 'epoch': 159, 'dataroot': '.', 'model': 'resnet', 'save': './logs/resnet_20180204'}\n",
            "None\n",
            "==> id: ./logs/resnet_20180204 (159/200), test_acc: \u001b[91m95.84\u001b[0m\n",
            "('creating optimizer with lr = ', 0.0008000000000000003)\n"
          ],
          "name": "stdout"
        },
        {
          "output_type": "stream",
          "text": [
            "100%|██████████| 391/391 [03:37<00:00,  1.80it/s]\n",
            "  0%|          | 0/391 [00:00<?, ?it/s]"
          ],
          "name": "stderr"
        },
        {
          "output_type": "stream",
          "text": [
            "{'n_parameters': 17116634, 'train_loss': 0.0026898597679136673, 'resume': '', 'dtype': 'float', 'gpu_id': '0', 'batch_size': 128, 'dataset': 'CIFAR10', 'epochs': 200, 'randomcrop_pad': 4, 'ngpu': 1, 'groups': 1, 'num_classes': 10, 'weight_decay': 0.0005, 'epoch_step': '[60,120,160]', 'test_acc': 95.84, 'test_loss': 0.14468196317364904, 'train_time': 217.14696502685547, 'train_acc': 100.0, 'nthread': 4, 'lr_decay_ratio': 0.2, 'test_time': 13.695616006851196, 'width': 10.0, 'depth': 16, 'lr': 0.1, 'cuda': False, 'epoch': 160, 'dataroot': '.', 'model': 'resnet', 'save': './logs/resnet_20180204'}\n",
            "None\n",
            "==> id: ./logs/resnet_20180204 (160/200), test_acc: \u001b[91m95.84\u001b[0m\n"
          ],
          "name": "stdout"
        },
        {
          "output_type": "stream",
          "text": [
            "100%|██████████| 391/391 [03:37<00:00,  1.80it/s]\n",
            "  0%|          | 0/391 [00:00<?, ?it/s]"
          ],
          "name": "stderr"
        },
        {
          "output_type": "stream",
          "text": [
            "{'n_parameters': 17116634, 'train_loss': 0.0026950364768066827, 'resume': '', 'dtype': 'float', 'gpu_id': '0', 'batch_size': 128, 'dataset': 'CIFAR10', 'epochs': 200, 'randomcrop_pad': 4, 'ngpu': 1, 'groups': 1, 'num_classes': 10, 'weight_decay': 0.0005, 'epoch_step': '[60,120,160]', 'test_acc': 95.73, 'test_loss': 0.14387522515239598, 'train_time': 217.19348096847534, 'train_acc': 100.0, 'nthread': 4, 'lr_decay_ratio': 0.2, 'test_time': 13.712153911590576, 'width': 10.0, 'depth': 16, 'lr': 0.1, 'cuda': False, 'epoch': 161, 'dataroot': '.', 'model': 'resnet', 'save': './logs/resnet_20180204'}\n",
            "None\n",
            "==> id: ./logs/resnet_20180204 (161/200), test_acc: \u001b[91m95.73\u001b[0m\n"
          ],
          "name": "stdout"
        },
        {
          "output_type": "stream",
          "text": [
            "100%|██████████| 391/391 [03:37<00:00,  1.80it/s]\n",
            "  0%|          | 0/391 [00:00<?, ?it/s]"
          ],
          "name": "stderr"
        },
        {
          "output_type": "stream",
          "text": [
            "{'n_parameters': 17116634, 'train_loss': 0.002611882811355051, 'resume': '', 'dtype': 'float', 'gpu_id': '0', 'batch_size': 128, 'dataset': 'CIFAR10', 'epochs': 200, 'randomcrop_pad': 4, 'ngpu': 1, 'groups': 1, 'num_classes': 10, 'weight_decay': 0.0005, 'epoch_step': '[60,120,160]', 'test_acc': 95.85000000000001, 'test_loss': 0.14199088070588778, 'train_time': 217.22783207893372, 'train_acc': 100.0, 'nthread': 4, 'lr_decay_ratio': 0.2, 'test_time': 13.692079067230225, 'width': 10.0, 'depth': 16, 'lr': 0.1, 'cuda': False, 'epoch': 162, 'dataroot': '.', 'model': 'resnet', 'save': './logs/resnet_20180204'}\n",
            "None\n",
            "==> id: ./logs/resnet_20180204 (162/200), test_acc: \u001b[91m95.85\u001b[0m\n"
          ],
          "name": "stdout"
        },
        {
          "output_type": "stream",
          "text": [
            "100%|██████████| 391/391 [03:36<00:00,  1.80it/s]\n",
            "  0%|          | 0/391 [00:00<?, ?it/s]"
          ],
          "name": "stderr"
        },
        {
          "output_type": "stream",
          "text": [
            "{'n_parameters': 17116634, 'train_loss': 0.0026215397439601704, 'resume': '', 'dtype': 'float', 'gpu_id': '0', 'batch_size': 128, 'dataset': 'CIFAR10', 'epochs': 200, 'randomcrop_pad': 4, 'ngpu': 1, 'groups': 1, 'num_classes': 10, 'weight_decay': 0.0005, 'epoch_step': '[60,120,160]', 'test_acc': 95.77, 'test_loss': 0.1453878016600126, 'train_time': 216.92190790176392, 'train_acc': 100.0, 'nthread': 4, 'lr_decay_ratio': 0.2, 'test_time': 13.707301139831543, 'width': 10.0, 'depth': 16, 'lr': 0.1, 'cuda': False, 'epoch': 163, 'dataroot': '.', 'model': 'resnet', 'save': './logs/resnet_20180204'}\n",
            "None\n",
            "==> id: ./logs/resnet_20180204 (163/200), test_acc: \u001b[91m95.77\u001b[0m\n"
          ],
          "name": "stdout"
        },
        {
          "output_type": "stream",
          "text": [
            "100%|██████████| 391/391 [03:37<00:00,  1.80it/s]\n",
            "  0%|          | 0/391 [00:00<?, ?it/s]"
          ],
          "name": "stderr"
        },
        {
          "output_type": "stream",
          "text": [
            "{'n_parameters': 17116634, 'train_loss': 0.002660043991963993, 'resume': '', 'dtype': 'float', 'gpu_id': '0', 'batch_size': 128, 'dataset': 'CIFAR10', 'epochs': 200, 'randomcrop_pad': 4, 'ngpu': 1, 'groups': 1, 'num_classes': 10, 'weight_decay': 0.0005, 'epoch_step': '[60,120,160]', 'test_acc': 95.78999999999999, 'test_loss': 0.1440209009319166, 'train_time': 217.27529001235962, 'train_acc': 99.998, 'nthread': 4, 'lr_decay_ratio': 0.2, 'test_time': 13.71044397354126, 'width': 10.0, 'depth': 16, 'lr': 0.1, 'cuda': False, 'epoch': 164, 'dataroot': '.', 'model': 'resnet', 'save': './logs/resnet_20180204'}\n",
            "None\n",
            "==> id: ./logs/resnet_20180204 (164/200), test_acc: \u001b[91m95.79\u001b[0m\n"
          ],
          "name": "stdout"
        },
        {
          "output_type": "stream",
          "text": [
            "100%|██████████| 391/391 [03:36<00:00,  1.80it/s]\n",
            "  0%|          | 0/391 [00:00<?, ?it/s]"
          ],
          "name": "stderr"
        },
        {
          "output_type": "stream",
          "text": [
            "{'n_parameters': 17116634, 'train_loss': 0.0025788128621342726, 'resume': '', 'dtype': 'float', 'gpu_id': '0', 'batch_size': 128, 'dataset': 'CIFAR10', 'epochs': 200, 'randomcrop_pad': 4, 'ngpu': 1, 'groups': 1, 'num_classes': 10, 'weight_decay': 0.0005, 'epoch_step': '[60,120,160]', 'test_acc': 95.86, 'test_loss': 0.1438544137474102, 'train_time': 216.8151650428772, 'train_acc': 100.0, 'nthread': 4, 'lr_decay_ratio': 0.2, 'test_time': 13.682139873504639, 'width': 10.0, 'depth': 16, 'lr': 0.1, 'cuda': False, 'epoch': 165, 'dataroot': '.', 'model': 'resnet', 'save': './logs/resnet_20180204'}\n",
            "None\n",
            "==> id: ./logs/resnet_20180204 (165/200), test_acc: \u001b[91m95.86\u001b[0m\n"
          ],
          "name": "stdout"
        },
        {
          "output_type": "stream",
          "text": [
            "100%|██████████| 391/391 [03:37<00:00,  1.80it/s]\n",
            "  0%|          | 0/391 [00:00<?, ?it/s]"
          ],
          "name": "stderr"
        },
        {
          "output_type": "stream",
          "text": [
            "{'n_parameters': 17116634, 'train_loss': 0.00255207406819019, 'resume': '', 'dtype': 'float', 'gpu_id': '0', 'batch_size': 128, 'dataset': 'CIFAR10', 'epochs': 200, 'randomcrop_pad': 4, 'ngpu': 1, 'groups': 1, 'num_classes': 10, 'weight_decay': 0.0005, 'epoch_step': '[60,120,160]', 'test_acc': 95.84, 'test_loss': 0.14408514761849303, 'train_time': 217.23626804351807, 'train_acc': 99.998, 'nthread': 4, 'lr_decay_ratio': 0.2, 'test_time': 13.730739116668701, 'width': 10.0, 'depth': 16, 'lr': 0.1, 'cuda': False, 'epoch': 166, 'dataroot': '.', 'model': 'resnet', 'save': './logs/resnet_20180204'}\n",
            "None\n",
            "==> id: ./logs/resnet_20180204 (166/200), test_acc: \u001b[91m95.84\u001b[0m\n"
          ],
          "name": "stdout"
        },
        {
          "output_type": "stream",
          "text": [
            "100%|██████████| 391/391 [03:36<00:00,  1.80it/s]\n",
            "  0%|          | 0/391 [00:00<?, ?it/s]"
          ],
          "name": "stderr"
        },
        {
          "output_type": "stream",
          "text": [
            "{'n_parameters': 17116634, 'train_loss': 0.002579886738992182, 'resume': '', 'dtype': 'float', 'gpu_id': '0', 'batch_size': 128, 'dataset': 'CIFAR10', 'epochs': 200, 'randomcrop_pad': 4, 'ngpu': 1, 'groups': 1, 'num_classes': 10, 'weight_decay': 0.0005, 'epoch_step': '[60,120,160]', 'test_acc': 95.83, 'test_loss': 0.1439727667389037, 'train_time': 216.88139700889587, 'train_acc': 99.998, 'nthread': 4, 'lr_decay_ratio': 0.2, 'test_time': 13.728984832763672, 'width': 10.0, 'depth': 16, 'lr': 0.1, 'cuda': False, 'epoch': 167, 'dataroot': '.', 'model': 'resnet', 'save': './logs/resnet_20180204'}\n",
            "None\n",
            "==> id: ./logs/resnet_20180204 (167/200), test_acc: \u001b[91m95.83\u001b[0m\n"
          ],
          "name": "stdout"
        },
        {
          "output_type": "stream",
          "text": [
            "100%|██████████| 391/391 [03:36<00:00,  1.80it/s]\n",
            "  0%|          | 0/391 [00:00<?, ?it/s]"
          ],
          "name": "stderr"
        },
        {
          "output_type": "stream",
          "text": [
            "{'n_parameters': 17116634, 'train_loss': 0.0026369088000672684, 'resume': '', 'dtype': 'float', 'gpu_id': '0', 'batch_size': 128, 'dataset': 'CIFAR10', 'epochs': 200, 'randomcrop_pad': 4, 'ngpu': 1, 'groups': 1, 'num_classes': 10, 'weight_decay': 0.0005, 'epoch_step': '[60,120,160]', 'test_acc': 95.8, 'test_loss': 0.1423243354958824, 'train_time': 216.86043500900269, 'train_acc': 100.0, 'nthread': 4, 'lr_decay_ratio': 0.2, 'test_time': 13.714923858642578, 'width': 10.0, 'depth': 16, 'lr': 0.1, 'cuda': False, 'epoch': 168, 'dataroot': '.', 'model': 'resnet', 'save': './logs/resnet_20180204'}\n",
            "None\n",
            "==> id: ./logs/resnet_20180204 (168/200), test_acc: \u001b[91m95.80\u001b[0m\n"
          ],
          "name": "stdout"
        },
        {
          "output_type": "stream",
          "text": [
            "100%|██████████| 391/391 [03:36<00:00,  1.80it/s]\n",
            "  0%|          | 0/391 [00:00<?, ?it/s]"
          ],
          "name": "stderr"
        },
        {
          "output_type": "stream",
          "text": [
            "{'n_parameters': 17116634, 'train_loss': 0.002682076281179553, 'resume': '', 'dtype': 'float', 'gpu_id': '0', 'batch_size': 128, 'dataset': 'CIFAR10', 'epochs': 200, 'randomcrop_pad': 4, 'ngpu': 1, 'groups': 1, 'num_classes': 10, 'weight_decay': 0.0005, 'epoch_step': '[60,120,160]', 'test_acc': 95.77, 'test_loss': 0.14322662994831423, 'train_time': 216.77239894866943, 'train_acc': 99.996, 'nthread': 4, 'lr_decay_ratio': 0.2, 'test_time': 13.6660897731781, 'width': 10.0, 'depth': 16, 'lr': 0.1, 'cuda': False, 'epoch': 169, 'dataroot': '.', 'model': 'resnet', 'save': './logs/resnet_20180204'}\n",
            "None\n",
            "==> id: ./logs/resnet_20180204 (169/200), test_acc: \u001b[91m95.77\u001b[0m\n"
          ],
          "name": "stdout"
        },
        {
          "output_type": "stream",
          "text": [
            " 78%|███████▊  | 306/391 [02:49<00:47,  1.80it/s]"
          ],
          "name": "stderr"
        }
      ]
    },
    {
      "metadata": {
        "id": "kgN6xzU6nXGC",
        "colab_type": "code",
        "colab": {
          "base_uri": "https://localhost:8080/",
          "height": 36
        },
        "outputId": "1cea2760-7e4b-4f88-a6bc-8afaf86ee4e3"
      },
      "cell_type": "code",
      "source": [
        "!ls"
      ],
      "execution_count": 1,
      "outputs": [
        {
          "output_type": "stream",
          "text": [
            "datalab\r\n"
          ],
          "name": "stdout"
        }
      ]
    },
    {
      "metadata": {
        "id": "MuJ0fGO1P35n",
        "colab_type": "code",
        "colab": {}
      },
      "cell_type": "code",
      "source": [
        "# Need prepare for execution of main: i.e. execute \"Install a Drive FUSE wrapper.top\" just before of main()\n",
        "#   => need top skip wget, unzip, move\n",
        "# After that, skil call of main() and go to following"
      ],
      "execution_count": 0,
      "outputs": []
    },
    {
      "metadata": {
        "id": "MulMy98oPxuE",
        "colab_type": "code",
        "colab": {
          "base_uri": "https://localhost:8080/",
          "height": 3422
        },
        "outputId": "0c9ce41b-44fa-424b-beac-45b6915b30ca"
      },
      "cell_type": "code",
      "source": [
        "# It will about 10 minutes to download cifar-10-python.tar.gz and start first epoch\n",
        "new_argv = \"main.py --save ./logs/resnet_20180204 --depth 16 --width 10 --ngpu 1 --gpu_id 0 --resume ./logs/resnet_20180204/model.pt7\".split(\" \")\n",
        "sys.argv = new_argv\n",
        "main()"
      ],
      "execution_count": 15,
      "outputs": [
        {
          "output_type": "stream",
          "text": [
            "('parsed options:', {'save': './logs/resnet_20180204', 'resume': './logs/resnet_20180204/model.pt7', 'dtype': 'float', 'lr_decay_ratio': 0.2, 'gpu_id': '0', 'nthread': 4, 'batch_size': 128, 'dataset': 'CIFAR10', 'epochs': 200, 'width': 10.0, 'depth': 16, 'randomcrop_pad': 4, 'lr': 0.1, 'cuda': False, 'groups': 1, 'dataroot': '.', 'ngpu': 1, 'model': 'resnet', 'weight_decay': 0.0005, 'epoch_step': '[60,120,160]'})\n",
            "Files already downloaded and verified\n",
            "Files already downloaded and verified\n",
            "('creating optimizer with lr = ', 0.1)\n"
          ],
          "name": "stdout"
        },
        {
          "output_type": "stream",
          "text": [
            "\r  0%|          | 0/391 [00:00<?, ?it/s]"
          ],
          "name": "stderr"
        },
        {
          "output_type": "stream",
          "text": [
            "\n",
            "Parameters:\n",
            "('0    ', 'bn.bias                    ', '(640L,)                ', 'torch.cuda.FloatTensor')\n",
            "('1    ', 'bn.weight                  ', '(640L,)                ', 'torch.cuda.FloatTensor')\n",
            "('2    ', 'fc.bias                    ', '(10L,)                 ', 'torch.cuda.FloatTensor')\n",
            "('3    ', 'fc.weight                  ', '(10L, 640L)            ', 'torch.cuda.FloatTensor')\n",
            "('4    ', 'conv0                      ', '(16L, 3L, 3L, 3L)      ', 'torch.cuda.FloatTensor')\n",
            "('5    ', 'group1.block1.conv0        ', '(320L, 320L, 3L, 3L)   ', 'torch.cuda.FloatTensor')\n",
            "('6    ', 'group1.block1.conv1        ', '(320L, 320L, 3L, 3L)   ', 'torch.cuda.FloatTensor')\n",
            "('7    ', 'group1.block1.bn0.bias     ', '(320L,)                ', 'torch.cuda.FloatTensor')\n",
            "('8    ', 'group1.block1.bn0.weight   ', '(320L,)                ', 'torch.cuda.FloatTensor')\n",
            "('9    ', 'group1.block1.bn1.bias     ', '(320L,)                ', 'torch.cuda.FloatTensor')\n",
            "('10   ', 'group1.block1.bn1.weight   ', '(320L,)                ', 'torch.cuda.FloatTensor')\n",
            "('11   ', 'group1.block0.conv0        ', '(320L, 160L, 3L, 3L)   ', 'torch.cuda.FloatTensor')\n",
            "('12   ', 'group1.block0.conv1        ', '(320L, 320L, 3L, 3L)   ', 'torch.cuda.FloatTensor')\n",
            "('13   ', 'group1.block0.bn0.bias     ', '(160L,)                ', 'torch.cuda.FloatTensor')\n",
            "('14   ', 'group1.block0.bn0.weight   ', '(160L,)                ', 'torch.cuda.FloatTensor')\n",
            "('15   ', 'group1.block0.bn1.bias     ', '(320L,)                ', 'torch.cuda.FloatTensor')\n",
            "('16   ', 'group1.block0.bn1.weight   ', '(320L,)                ', 'torch.cuda.FloatTensor')\n",
            "('17   ', 'group1.block0.convdim      ', '(320L, 160L, 1L, 1L)   ', 'torch.cuda.FloatTensor')\n",
            "('18   ', 'group0.block1.conv0        ', '(160L, 160L, 3L, 3L)   ', 'torch.cuda.FloatTensor')\n",
            "('19   ', 'group0.block1.conv1        ', '(160L, 160L, 3L, 3L)   ', 'torch.cuda.FloatTensor')\n",
            "('20   ', 'group0.block1.bn0.bias     ', '(160L,)                ', 'torch.cuda.FloatTensor')\n",
            "('21   ', 'group0.block1.bn0.weight   ', '(160L,)                ', 'torch.cuda.FloatTensor')\n",
            "('22   ', 'group0.block1.bn1.bias     ', '(160L,)                ', 'torch.cuda.FloatTensor')\n",
            "('23   ', 'group0.block1.bn1.weight   ', '(160L,)                ', 'torch.cuda.FloatTensor')\n",
            "('24   ', 'group0.block0.conv0        ', '(160L, 16L, 3L, 3L)    ', 'torch.cuda.FloatTensor')\n",
            "('25   ', 'group0.block0.conv1        ', '(160L, 160L, 3L, 3L)   ', 'torch.cuda.FloatTensor')\n",
            "('26   ', 'group0.block0.bn0.bias     ', '(16L,)                 ', 'torch.cuda.FloatTensor')\n",
            "('27   ', 'group0.block0.bn0.weight   ', '(16L,)                 ', 'torch.cuda.FloatTensor')\n",
            "('28   ', 'group0.block0.bn1.bias     ', '(160L,)                ', 'torch.cuda.FloatTensor')\n",
            "('29   ', 'group0.block0.bn1.weight   ', '(160L,)                ', 'torch.cuda.FloatTensor')\n",
            "('30   ', 'group0.block0.convdim      ', '(160L, 16L, 1L, 1L)    ', 'torch.cuda.FloatTensor')\n",
            "('31   ', 'group2.block1.conv0        ', '(640L, 640L, 3L, 3L)   ', 'torch.cuda.FloatTensor')\n",
            "('32   ', 'group2.block1.conv1        ', '(640L, 640L, 3L, 3L)   ', 'torch.cuda.FloatTensor')\n",
            "('33   ', 'group2.block1.bn0.bias     ', '(640L,)                ', 'torch.cuda.FloatTensor')\n",
            "('34   ', 'group2.block1.bn0.weight   ', '(640L,)                ', 'torch.cuda.FloatTensor')\n",
            "('35   ', 'group2.block1.bn1.bias     ', '(640L,)                ', 'torch.cuda.FloatTensor')\n",
            "('36   ', 'group2.block1.bn1.weight   ', '(640L,)                ', 'torch.cuda.FloatTensor')\n",
            "('37   ', 'group2.block0.conv0        ', '(640L, 320L, 3L, 3L)   ', 'torch.cuda.FloatTensor')\n",
            "('38   ', 'group2.block0.conv1        ', '(640L, 640L, 3L, 3L)   ', 'torch.cuda.FloatTensor')\n",
            "('39   ', 'group2.block0.bn0.bias     ', '(320L,)                ', 'torch.cuda.FloatTensor')\n",
            "('40   ', 'group2.block0.bn0.weight   ', '(320L,)                ', 'torch.cuda.FloatTensor')\n",
            "('41   ', 'group2.block0.bn1.bias     ', '(640L,)                ', 'torch.cuda.FloatTensor')\n",
            "('42   ', 'group2.block0.bn1.weight   ', '(640L,)                ', 'torch.cuda.FloatTensor')\n",
            "('43   ', 'group2.block0.convdim      ', '(640L, 320L, 1L, 1L)   ', 'torch.cuda.FloatTensor')\n",
            "\n",
            "Additional buffers:\n",
            "('0    ', 'bn.running_var                   ', '(640L,)                ', 'torch.cuda.FloatTensor')\n",
            "('1    ', 'bn.running_mean                  ', '(640L,)                ', 'torch.cuda.FloatTensor')\n",
            "('2    ', 'group1.block1.bn1.running_var    ', '(320L,)                ', 'torch.cuda.FloatTensor')\n",
            "('3    ', 'group1.block1.bn1.running_mean   ', '(320L,)                ', 'torch.cuda.FloatTensor')\n",
            "('4    ', 'group1.block1.bn0.running_var    ', '(320L,)                ', 'torch.cuda.FloatTensor')\n",
            "('5    ', 'group1.block1.bn0.running_mean   ', '(320L,)                ', 'torch.cuda.FloatTensor')\n",
            "('6    ', 'group1.block0.bn1.running_var    ', '(320L,)                ', 'torch.cuda.FloatTensor')\n",
            "('7    ', 'group1.block0.bn1.running_mean   ', '(320L,)                ', 'torch.cuda.FloatTensor')\n",
            "('8    ', 'group1.block0.bn0.running_var    ', '(160L,)                ', 'torch.cuda.FloatTensor')\n",
            "('9    ', 'group1.block0.bn0.running_mean   ', '(160L,)                ', 'torch.cuda.FloatTensor')\n",
            "('10   ', 'group0.block1.bn1.running_var    ', '(160L,)                ', 'torch.cuda.FloatTensor')\n",
            "('11   ', 'group0.block1.bn1.running_mean   ', '(160L,)                ', 'torch.cuda.FloatTensor')\n",
            "('12   ', 'group0.block1.bn0.running_var    ', '(160L,)                ', 'torch.cuda.FloatTensor')\n",
            "('13   ', 'group0.block1.bn0.running_mean   ', '(160L,)                ', 'torch.cuda.FloatTensor')\n",
            "('14   ', 'group0.block0.bn1.running_var    ', '(160L,)                ', 'torch.cuda.FloatTensor')\n",
            "('15   ', 'group0.block0.bn1.running_mean   ', '(160L,)                ', 'torch.cuda.FloatTensor')\n",
            "('16   ', 'group0.block0.bn0.running_var    ', '(16L,)                 ', 'torch.cuda.FloatTensor')\n",
            "('17   ', 'group0.block0.bn0.running_mean   ', '(16L,)                 ', 'torch.cuda.FloatTensor')\n",
            "('18   ', 'group2.block1.bn1.running_var    ', '(640L,)                ', 'torch.cuda.FloatTensor')\n",
            "('19   ', 'group2.block1.bn1.running_mean   ', '(640L,)                ', 'torch.cuda.FloatTensor')\n",
            "('20   ', 'group2.block1.bn0.running_var    ', '(640L,)                ', 'torch.cuda.FloatTensor')\n",
            "('21   ', 'group2.block1.bn0.running_mean   ', '(640L,)                ', 'torch.cuda.FloatTensor')\n",
            "('22   ', 'group2.block0.bn1.running_var    ', '(640L,)                ', 'torch.cuda.FloatTensor')\n",
            "('23   ', 'group2.block0.bn1.running_mean   ', '(640L,)                ', 'torch.cuda.FloatTensor')\n",
            "('24   ', 'group2.block0.bn0.running_var    ', '(320L,)                ', 'torch.cuda.FloatTensor')\n",
            "('25   ', 'group2.block0.bn0.running_mean   ', '(320L,)                ', 'torch.cuda.FloatTensor')\n",
            "('\\nTotal number of parameters:', 17116634)\n"
          ],
          "name": "stdout"
        },
        {
          "output_type": "stream",
          "text": [
            "100%|██████████| 391/391 [03:46<00:00,  1.73it/s]\n",
            "  0%|          | 0/391 [00:00<?, ?it/s]"
          ],
          "name": "stderr"
        },
        {
          "output_type": "stream",
          "text": [
            "{'n_parameters': 17116634, 'train_loss': 0.0025989614138879893, 'resume': './logs/resnet_20180204/model.pt7', 'dtype': 'float', 'gpu_id': '0', 'batch_size': 128, 'dataset': 'CIFAR10', 'epochs': 200, 'randomcrop_pad': 4, 'ngpu': 1, 'groups': 1, 'num_classes': 10, 'weight_decay': 0.0005, 'epoch_step': '[60,120,160]', 'test_acc': 95.78999999999999, 'test_loss': 0.14244796401714985, 'train_time': 226.3975179195404, 'train_acc': 100.0, 'nthread': 4, 'lr_decay_ratio': 0.2, 'test_time': 14.025753021240234, 'width': 10.0, 'depth': 16, 'lr': 0.1, 'cuda': False, 'epoch': 171, 'dataroot': '.', 'model': 'resnet', 'save': './logs/resnet_20180204'}\n",
            "None\n",
            "==> id: ./logs/resnet_20180204 (171/200), test_acc: \u001b[91m95.79\u001b[0m\n"
          ],
          "name": "stdout"
        },
        {
          "output_type": "stream",
          "text": [
            "100%|██████████| 391/391 [03:41<00:00,  1.77it/s]\n",
            "  0%|          | 0/391 [00:00<?, ?it/s]"
          ],
          "name": "stderr"
        },
        {
          "output_type": "stream",
          "text": [
            "{'n_parameters': 17116634, 'train_loss': 0.002650749225340915, 'resume': './logs/resnet_20180204/model.pt7', 'dtype': 'float', 'gpu_id': '0', 'batch_size': 128, 'dataset': 'CIFAR10', 'epochs': 200, 'randomcrop_pad': 4, 'ngpu': 1, 'groups': 1, 'num_classes': 10, 'weight_decay': 0.0005, 'epoch_step': '[60,120,160]', 'test_acc': 95.87, 'test_loss': 0.14344930827994895, 'train_time': 221.21531009674072, 'train_acc': 100.0, 'nthread': 4, 'lr_decay_ratio': 0.2, 'test_time': 13.902760028839111, 'width': 10.0, 'depth': 16, 'lr': 0.1, 'cuda': False, 'epoch': 172, 'dataroot': '.', 'model': 'resnet', 'save': './logs/resnet_20180204'}\n",
            "None\n",
            "==> id: ./logs/resnet_20180204 (172/200), test_acc: \u001b[91m95.87\u001b[0m\n"
          ],
          "name": "stdout"
        },
        {
          "output_type": "stream",
          "text": [
            "100%|██████████| 391/391 [03:40<00:00,  1.77it/s]\n",
            "  0%|          | 0/391 [00:00<?, ?it/s]"
          ],
          "name": "stderr"
        },
        {
          "output_type": "stream",
          "text": [
            "{'n_parameters': 17116634, 'train_loss': 0.002631165859851594, 'resume': './logs/resnet_20180204/model.pt7', 'dtype': 'float', 'gpu_id': '0', 'batch_size': 128, 'dataset': 'CIFAR10', 'epochs': 200, 'randomcrop_pad': 4, 'ngpu': 1, 'groups': 1, 'num_classes': 10, 'weight_decay': 0.0005, 'epoch_step': '[60,120,160]', 'test_acc': 95.86, 'test_loss': 0.14250395324411272, 'train_time': 220.69929003715515, 'train_acc': 100.0, 'nthread': 4, 'lr_decay_ratio': 0.2, 'test_time': 13.856959819793701, 'width': 10.0, 'depth': 16, 'lr': 0.1, 'cuda': False, 'epoch': 173, 'dataroot': '.', 'model': 'resnet', 'save': './logs/resnet_20180204'}\n",
            "None\n",
            "==> id: ./logs/resnet_20180204 (173/200), test_acc: \u001b[91m95.86\u001b[0m\n"
          ],
          "name": "stdout"
        },
        {
          "output_type": "stream",
          "text": [
            "100%|██████████| 391/391 [03:40<00:00,  1.77it/s]\n",
            "  0%|          | 0/391 [00:00<?, ?it/s]"
          ],
          "name": "stderr"
        },
        {
          "output_type": "stream",
          "text": [
            "{'n_parameters': 17116634, 'train_loss': 0.002564844360951421, 'resume': './logs/resnet_20180204/model.pt7', 'dtype': 'float', 'gpu_id': '0', 'batch_size': 128, 'dataset': 'CIFAR10', 'epochs': 200, 'randomcrop_pad': 4, 'ngpu': 1, 'groups': 1, 'num_classes': 10, 'weight_decay': 0.0005, 'epoch_step': '[60,120,160]', 'test_acc': 95.81, 'test_loss': 0.14149775115560878, 'train_time': 220.6540629863739, 'train_acc': 100.0, 'nthread': 4, 'lr_decay_ratio': 0.2, 'test_time': 13.858589887619019, 'width': 10.0, 'depth': 16, 'lr': 0.1, 'cuda': False, 'epoch': 174, 'dataroot': '.', 'model': 'resnet', 'save': './logs/resnet_20180204'}\n",
            "None\n",
            "==> id: ./logs/resnet_20180204 (174/200), test_acc: \u001b[91m95.81\u001b[0m\n"
          ],
          "name": "stdout"
        },
        {
          "output_type": "stream",
          "text": [
            "100%|██████████| 391/391 [03:40<00:00,  1.77it/s]\n",
            "  0%|          | 0/391 [00:00<?, ?it/s]"
          ],
          "name": "stderr"
        },
        {
          "output_type": "stream",
          "text": [
            "{'n_parameters': 17116634, 'train_loss': 0.002595190445909186, 'resume': './logs/resnet_20180204/model.pt7', 'dtype': 'float', 'gpu_id': '0', 'batch_size': 128, 'dataset': 'CIFAR10', 'epochs': 200, 'randomcrop_pad': 4, 'ngpu': 1, 'groups': 1, 'num_classes': 10, 'weight_decay': 0.0005, 'epoch_step': '[60,120,160]', 'test_acc': 95.81, 'test_loss': 0.14152306884149962, 'train_time': 220.62106490135193, 'train_acc': 100.0, 'nthread': 4, 'lr_decay_ratio': 0.2, 'test_time': 13.840261936187744, 'width': 10.0, 'depth': 16, 'lr': 0.1, 'cuda': False, 'epoch': 175, 'dataroot': '.', 'model': 'resnet', 'save': './logs/resnet_20180204'}\n",
            "None\n",
            "==> id: ./logs/resnet_20180204 (175/200), test_acc: \u001b[91m95.81\u001b[0m\n"
          ],
          "name": "stdout"
        },
        {
          "output_type": "stream",
          "text": [
            "100%|██████████| 391/391 [03:40<00:00,  1.77it/s]\n",
            "  0%|          | 0/391 [00:00<?, ?it/s]"
          ],
          "name": "stderr"
        },
        {
          "output_type": "stream",
          "text": [
            "{'n_parameters': 17116634, 'train_loss': 0.0026360875551762713, 'resume': './logs/resnet_20180204/model.pt7', 'dtype': 'float', 'gpu_id': '0', 'batch_size': 128, 'dataset': 'CIFAR10', 'epochs': 200, 'randomcrop_pad': 4, 'ngpu': 1, 'groups': 1, 'num_classes': 10, 'weight_decay': 0.0005, 'epoch_step': '[60,120,160]', 'test_acc': 95.83, 'test_loss': 0.1424062955134277, 'train_time': 220.60931015014648, 'train_acc': 99.998, 'nthread': 4, 'lr_decay_ratio': 0.2, 'test_time': 13.885246992111206, 'width': 10.0, 'depth': 16, 'lr': 0.1, 'cuda': False, 'epoch': 176, 'dataroot': '.', 'model': 'resnet', 'save': './logs/resnet_20180204'}\n",
            "None\n",
            "==> id: ./logs/resnet_20180204 (176/200), test_acc: \u001b[91m95.83\u001b[0m\n"
          ],
          "name": "stdout"
        },
        {
          "output_type": "stream",
          "text": [
            "100%|██████████| 391/391 [03:40<00:00,  1.77it/s]\n",
            "  0%|          | 0/391 [00:00<?, ?it/s]"
          ],
          "name": "stderr"
        },
        {
          "output_type": "stream",
          "text": [
            "{'n_parameters': 17116634, 'train_loss': 0.002496922940082485, 'resume': './logs/resnet_20180204/model.pt7', 'dtype': 'float', 'gpu_id': '0', 'batch_size': 128, 'dataset': 'CIFAR10', 'epochs': 200, 'randomcrop_pad': 4, 'ngpu': 1, 'groups': 1, 'num_classes': 10, 'weight_decay': 0.0005, 'epoch_step': '[60,120,160]', 'test_acc': 95.85000000000001, 'test_loss': 0.14159579150661633, 'train_time': 220.61417198181152, 'train_acc': 100.0, 'nthread': 4, 'lr_decay_ratio': 0.2, 'test_time': 13.830441951751709, 'width': 10.0, 'depth': 16, 'lr': 0.1, 'cuda': False, 'epoch': 177, 'dataroot': '.', 'model': 'resnet', 'save': './logs/resnet_20180204'}\n",
            "None\n",
            "==> id: ./logs/resnet_20180204 (177/200), test_acc: \u001b[91m95.85\u001b[0m\n"
          ],
          "name": "stdout"
        },
        {
          "output_type": "stream",
          "text": [
            "100%|██████████| 391/391 [03:40<00:00,  1.77it/s]\n",
            "  0%|          | 0/391 [00:00<?, ?it/s]"
          ],
          "name": "stderr"
        },
        {
          "output_type": "stream",
          "text": [
            "{'n_parameters': 17116634, 'train_loss': 0.002546121395500304, 'resume': './logs/resnet_20180204/model.pt7', 'dtype': 'float', 'gpu_id': '0', 'batch_size': 128, 'dataset': 'CIFAR10', 'epochs': 200, 'randomcrop_pad': 4, 'ngpu': 1, 'groups': 1, 'num_classes': 10, 'weight_decay': 0.0005, 'epoch_step': '[60,120,160]', 'test_acc': 95.87, 'test_loss': 0.14031525555102137, 'train_time': 220.5367488861084, 'train_acc': 100.0, 'nthread': 4, 'lr_decay_ratio': 0.2, 'test_time': 13.830179929733276, 'width': 10.0, 'depth': 16, 'lr': 0.1, 'cuda': False, 'epoch': 178, 'dataroot': '.', 'model': 'resnet', 'save': './logs/resnet_20180204'}\n",
            "None\n",
            "==> id: ./logs/resnet_20180204 (178/200), test_acc: \u001b[91m95.87\u001b[0m\n"
          ],
          "name": "stdout"
        },
        {
          "output_type": "stream",
          "text": [
            "100%|██████████| 391/391 [03:40<00:00,  1.77it/s]\n",
            "  0%|          | 0/391 [00:00<?, ?it/s]"
          ],
          "name": "stderr"
        },
        {
          "output_type": "stream",
          "text": [
            "{'n_parameters': 17116634, 'train_loss': 0.00264252865891856, 'resume': './logs/resnet_20180204/model.pt7', 'dtype': 'float', 'gpu_id': '0', 'batch_size': 128, 'dataset': 'CIFAR10', 'epochs': 200, 'randomcrop_pad': 4, 'ngpu': 1, 'groups': 1, 'num_classes': 10, 'weight_decay': 0.0005, 'epoch_step': '[60,120,160]', 'test_acc': 95.78, 'test_loss': 0.14321061237892022, 'train_time': 220.76088404655457, 'train_acc': 100.0, 'nthread': 4, 'lr_decay_ratio': 0.2, 'test_time': 13.81001901626587, 'width': 10.0, 'depth': 16, 'lr': 0.1, 'cuda': False, 'epoch': 179, 'dataroot': '.', 'model': 'resnet', 'save': './logs/resnet_20180204'}\n",
            "None\n",
            "==> id: ./logs/resnet_20180204 (179/200), test_acc: \u001b[91m95.78\u001b[0m\n"
          ],
          "name": "stdout"
        },
        {
          "output_type": "stream",
          "text": [
            "100%|██████████| 391/391 [03:40<00:00,  1.77it/s]\n",
            "  0%|          | 0/391 [00:00<?, ?it/s]"
          ],
          "name": "stderr"
        },
        {
          "output_type": "stream",
          "text": [
            "{'n_parameters': 17116634, 'train_loss': 0.002544640715274475, 'resume': './logs/resnet_20180204/model.pt7', 'dtype': 'float', 'gpu_id': '0', 'batch_size': 128, 'dataset': 'CIFAR10', 'epochs': 200, 'randomcrop_pad': 4, 'ngpu': 1, 'groups': 1, 'num_classes': 10, 'weight_decay': 0.0005, 'epoch_step': '[60,120,160]', 'test_acc': 95.83, 'test_loss': 0.14115025744407989, 'train_time': 220.58203291893005, 'train_acc': 100.0, 'nthread': 4, 'lr_decay_ratio': 0.2, 'test_time': 13.82159423828125, 'width': 10.0, 'depth': 16, 'lr': 0.1, 'cuda': False, 'epoch': 180, 'dataroot': '.', 'model': 'resnet', 'save': './logs/resnet_20180204'}\n",
            "None\n",
            "==> id: ./logs/resnet_20180204 (180/200), test_acc: \u001b[91m95.83\u001b[0m\n"
          ],
          "name": "stdout"
        },
        {
          "output_type": "stream",
          "text": [
            "100%|██████████| 391/391 [03:40<00:00,  1.77it/s]\n",
            "  0%|          | 0/391 [00:00<?, ?it/s]"
          ],
          "name": "stderr"
        },
        {
          "output_type": "stream",
          "text": [
            "{'n_parameters': 17116634, 'train_loss': 0.0025021451194306133, 'resume': './logs/resnet_20180204/model.pt7', 'dtype': 'float', 'gpu_id': '0', 'batch_size': 128, 'dataset': 'CIFAR10', 'epochs': 200, 'randomcrop_pad': 4, 'ngpu': 1, 'groups': 1, 'num_classes': 10, 'weight_decay': 0.0005, 'epoch_step': '[60,120,160]', 'test_acc': 95.81, 'test_loss': 0.14175416524463066, 'train_time': 220.66640400886536, 'train_acc': 100.0, 'nthread': 4, 'lr_decay_ratio': 0.2, 'test_time': 13.844098806381226, 'width': 10.0, 'depth': 16, 'lr': 0.1, 'cuda': False, 'epoch': 181, 'dataroot': '.', 'model': 'resnet', 'save': './logs/resnet_20180204'}\n",
            "None\n",
            "==> id: ./logs/resnet_20180204 (181/200), test_acc: \u001b[91m95.81\u001b[0m\n"
          ],
          "name": "stdout"
        },
        {
          "output_type": "stream",
          "text": [
            "100%|██████████| 391/391 [03:40<00:00,  1.77it/s]\n",
            "  0%|          | 0/391 [00:00<?, ?it/s]"
          ],
          "name": "stderr"
        },
        {
          "output_type": "stream",
          "text": [
            "{'n_parameters': 17116634, 'train_loss': 0.0026384622377850827, 'resume': './logs/resnet_20180204/model.pt7', 'dtype': 'float', 'gpu_id': '0', 'batch_size': 128, 'dataset': 'CIFAR10', 'epochs': 200, 'randomcrop_pad': 4, 'ngpu': 1, 'groups': 1, 'num_classes': 10, 'weight_decay': 0.0005, 'epoch_step': '[60,120,160]', 'test_acc': 95.8, 'test_loss': 0.14247113862369631, 'train_time': 220.5106348991394, 'train_acc': 99.998, 'nthread': 4, 'lr_decay_ratio': 0.2, 'test_time': 13.84560489654541, 'width': 10.0, 'depth': 16, 'lr': 0.1, 'cuda': False, 'epoch': 182, 'dataroot': '.', 'model': 'resnet', 'save': './logs/resnet_20180204'}\n",
            "None\n",
            "==> id: ./logs/resnet_20180204 (182/200), test_acc: \u001b[91m95.80\u001b[0m\n"
          ],
          "name": "stdout"
        },
        {
          "output_type": "stream",
          "text": [
            "100%|██████████| 391/391 [03:40<00:00,  1.77it/s]\n",
            "  0%|          | 0/391 [00:00<?, ?it/s]"
          ],
          "name": "stderr"
        },
        {
          "output_type": "stream",
          "text": [
            "{'n_parameters': 17116634, 'train_loss': 0.0025040653166230136, 'resume': './logs/resnet_20180204/model.pt7', 'dtype': 'float', 'gpu_id': '0', 'batch_size': 128, 'dataset': 'CIFAR10', 'epochs': 200, 'randomcrop_pad': 4, 'ngpu': 1, 'groups': 1, 'num_classes': 10, 'weight_decay': 0.0005, 'epoch_step': '[60,120,160]', 'test_acc': 95.77, 'test_loss': 0.1405895718290836, 'train_time': 220.65370512008667, 'train_acc': 100.0, 'nthread': 4, 'lr_decay_ratio': 0.2, 'test_time': 13.857712030410767, 'width': 10.0, 'depth': 16, 'lr': 0.1, 'cuda': False, 'epoch': 183, 'dataroot': '.', 'model': 'resnet', 'save': './logs/resnet_20180204'}\n",
            "None\n",
            "==> id: ./logs/resnet_20180204 (183/200), test_acc: \u001b[91m95.77\u001b[0m\n"
          ],
          "name": "stdout"
        },
        {
          "output_type": "stream",
          "text": [
            "100%|██████████| 391/391 [03:40<00:00,  1.77it/s]\n",
            "  0%|          | 0/391 [00:00<?, ?it/s]"
          ],
          "name": "stderr"
        },
        {
          "output_type": "stream",
          "text": [
            "{'n_parameters': 17116634, 'train_loss': 0.002574981997728044, 'resume': './logs/resnet_20180204/model.pt7', 'dtype': 'float', 'gpu_id': '0', 'batch_size': 128, 'dataset': 'CIFAR10', 'epochs': 200, 'randomcrop_pad': 4, 'ngpu': 1, 'groups': 1, 'num_classes': 10, 'weight_decay': 0.0005, 'epoch_step': '[60,120,160]', 'test_acc': 95.81, 'test_loss': 0.14203562837424155, 'train_time': 220.65278506278992, 'train_acc': 100.0, 'nthread': 4, 'lr_decay_ratio': 0.2, 'test_time': 13.831563949584961, 'width': 10.0, 'depth': 16, 'lr': 0.1, 'cuda': False, 'epoch': 184, 'dataroot': '.', 'model': 'resnet', 'save': './logs/resnet_20180204'}\n",
            "None\n",
            "==> id: ./logs/resnet_20180204 (184/200), test_acc: \u001b[91m95.81\u001b[0m\n"
          ],
          "name": "stdout"
        },
        {
          "output_type": "stream",
          "text": [
            "100%|██████████| 391/391 [03:40<00:00,  1.77it/s]\n",
            "  0%|          | 0/391 [00:00<?, ?it/s]"
          ],
          "name": "stderr"
        },
        {
          "output_type": "stream",
          "text": [
            "{'n_parameters': 17116634, 'train_loss': 0.0025832690051435254, 'resume': './logs/resnet_20180204/model.pt7', 'dtype': 'float', 'gpu_id': '0', 'batch_size': 128, 'dataset': 'CIFAR10', 'epochs': 200, 'randomcrop_pad': 4, 'ngpu': 1, 'groups': 1, 'num_classes': 10, 'weight_decay': 0.0005, 'epoch_step': '[60,120,160]', 'test_acc': 95.81, 'test_loss': 0.141227087548262, 'train_time': 220.63512086868286, 'train_acc': 100.0, 'nthread': 4, 'lr_decay_ratio': 0.2, 'test_time': 13.89494800567627, 'width': 10.0, 'depth': 16, 'lr': 0.1, 'cuda': False, 'epoch': 185, 'dataroot': '.', 'model': 'resnet', 'save': './logs/resnet_20180204'}\n",
            "None\n",
            "==> id: ./logs/resnet_20180204 (185/200), test_acc: \u001b[91m95.81\u001b[0m\n"
          ],
          "name": "stdout"
        },
        {
          "output_type": "stream",
          "text": [
            "100%|██████████| 391/391 [03:40<00:00,  1.77it/s]\n",
            "  0%|          | 0/391 [00:00<?, ?it/s]"
          ],
          "name": "stderr"
        },
        {
          "output_type": "stream",
          "text": [
            "{'n_parameters': 17116634, 'train_loss': 0.0025540652823017535, 'resume': './logs/resnet_20180204/model.pt7', 'dtype': 'float', 'gpu_id': '0', 'batch_size': 128, 'dataset': 'CIFAR10', 'epochs': 200, 'randomcrop_pad': 4, 'ngpu': 1, 'groups': 1, 'num_classes': 10, 'weight_decay': 0.0005, 'epoch_step': '[60,120,160]', 'test_acc': 95.84, 'test_loss': 0.14167229364378542, 'train_time': 220.80986094474792, 'train_acc': 100.0, 'nthread': 4, 'lr_decay_ratio': 0.2, 'test_time': 13.86499810218811, 'width': 10.0, 'depth': 16, 'lr': 0.1, 'cuda': False, 'epoch': 186, 'dataroot': '.', 'model': 'resnet', 'save': './logs/resnet_20180204'}\n",
            "None\n",
            "==> id: ./logs/resnet_20180204 (186/200), test_acc: \u001b[91m95.84\u001b[0m\n"
          ],
          "name": "stdout"
        },
        {
          "output_type": "stream",
          "text": [
            "100%|██████████| 391/391 [03:40<00:00,  1.77it/s]\n",
            "  0%|          | 0/391 [00:00<?, ?it/s]"
          ],
          "name": "stderr"
        },
        {
          "output_type": "stream",
          "text": [
            "{'n_parameters': 17116634, 'train_loss': 0.002610453546804656, 'resume': './logs/resnet_20180204/model.pt7', 'dtype': 'float', 'gpu_id': '0', 'batch_size': 128, 'dataset': 'CIFAR10', 'epochs': 200, 'randomcrop_pad': 4, 'ngpu': 1, 'groups': 1, 'num_classes': 10, 'weight_decay': 0.0005, 'epoch_step': '[60,120,160]', 'test_acc': 95.86, 'test_loss': 0.14099344248069995, 'train_time': 220.4610948562622, 'train_acc': 100.0, 'nthread': 4, 'lr_decay_ratio': 0.2, 'test_time': 13.878121137619019, 'width': 10.0, 'depth': 16, 'lr': 0.1, 'cuda': False, 'epoch': 187, 'dataroot': '.', 'model': 'resnet', 'save': './logs/resnet_20180204'}\n",
            "None\n",
            "==> id: ./logs/resnet_20180204 (187/200), test_acc: \u001b[91m95.86\u001b[0m\n"
          ],
          "name": "stdout"
        },
        {
          "output_type": "stream",
          "text": [
            "100%|██████████| 391/391 [03:40<00:00,  1.77it/s]\n",
            "  0%|          | 0/391 [00:00<?, ?it/s]"
          ],
          "name": "stderr"
        },
        {
          "output_type": "stream",
          "text": [
            "{'n_parameters': 17116634, 'train_loss': 0.0025641951671875342, 'resume': './logs/resnet_20180204/model.pt7', 'dtype': 'float', 'gpu_id': '0', 'batch_size': 128, 'dataset': 'CIFAR10', 'epochs': 200, 'randomcrop_pad': 4, 'ngpu': 1, 'groups': 1, 'num_classes': 10, 'weight_decay': 0.0005, 'epoch_step': '[60,120,160]', 'test_acc': 95.83, 'test_loss': 0.14178926563715644, 'train_time': 220.9092948436737, 'train_acc': 100.0, 'nthread': 4, 'lr_decay_ratio': 0.2, 'test_time': 13.817852020263672, 'width': 10.0, 'depth': 16, 'lr': 0.1, 'cuda': False, 'epoch': 188, 'dataroot': '.', 'model': 'resnet', 'save': './logs/resnet_20180204'}\n",
            "None\n",
            "==> id: ./logs/resnet_20180204 (188/200), test_acc: \u001b[91m95.83\u001b[0m\n"
          ],
          "name": "stdout"
        },
        {
          "output_type": "stream",
          "text": [
            "100%|██████████| 391/391 [03:40<00:00,  1.77it/s]\n",
            "  0%|          | 0/391 [00:00<?, ?it/s]"
          ],
          "name": "stderr"
        },
        {
          "output_type": "stream",
          "text": [
            "{'n_parameters': 17116634, 'train_loss': 0.0026746240880368894, 'resume': './logs/resnet_20180204/model.pt7', 'dtype': 'float', 'gpu_id': '0', 'batch_size': 128, 'dataset': 'CIFAR10', 'epochs': 200, 'randomcrop_pad': 4, 'ngpu': 1, 'groups': 1, 'num_classes': 10, 'weight_decay': 0.0005, 'epoch_step': '[60,120,160]', 'test_acc': 95.8, 'test_loss': 0.1423311573512192, 'train_time': 220.41338300704956, 'train_acc': 100.0, 'nthread': 4, 'lr_decay_ratio': 0.2, 'test_time': 13.830780982971191, 'width': 10.0, 'depth': 16, 'lr': 0.1, 'cuda': False, 'epoch': 189, 'dataroot': '.', 'model': 'resnet', 'save': './logs/resnet_20180204'}\n",
            "None\n",
            "==> id: ./logs/resnet_20180204 (189/200), test_acc: \u001b[91m95.80\u001b[0m\n"
          ],
          "name": "stdout"
        },
        {
          "output_type": "stream",
          "text": [
            "100%|██████████| 391/391 [03:40<00:00,  1.77it/s]\n",
            "  0%|          | 0/391 [00:00<?, ?it/s]"
          ],
          "name": "stderr"
        },
        {
          "output_type": "stream",
          "text": [
            "{'n_parameters': 17116634, 'train_loss': 0.0025453560907022117, 'resume': './logs/resnet_20180204/model.pt7', 'dtype': 'float', 'gpu_id': '0', 'batch_size': 128, 'dataset': 'CIFAR10', 'epochs': 200, 'randomcrop_pad': 4, 'ngpu': 1, 'groups': 1, 'num_classes': 10, 'weight_decay': 0.0005, 'epoch_step': '[60,120,160]', 'test_acc': 95.86, 'test_loss': 0.1421051121116439, 'train_time': 220.7087378501892, 'train_acc': 100.0, 'nthread': 4, 'lr_decay_ratio': 0.2, 'test_time': 13.81632399559021, 'width': 10.0, 'depth': 16, 'lr': 0.1, 'cuda': False, 'epoch': 190, 'dataroot': '.', 'model': 'resnet', 'save': './logs/resnet_20180204'}\n",
            "None\n",
            "==> id: ./logs/resnet_20180204 (190/200), test_acc: \u001b[91m95.86\u001b[0m\n"
          ],
          "name": "stdout"
        },
        {
          "output_type": "stream",
          "text": [
            "100%|██████████| 391/391 [03:40<00:00,  1.77it/s]\n",
            "  0%|          | 0/391 [00:00<?, ?it/s]"
          ],
          "name": "stderr"
        },
        {
          "output_type": "stream",
          "text": [
            "{'n_parameters': 17116634, 'train_loss': 0.0025826419299930506, 'resume': './logs/resnet_20180204/model.pt7', 'dtype': 'float', 'gpu_id': '0', 'batch_size': 128, 'dataset': 'CIFAR10', 'epochs': 200, 'randomcrop_pad': 4, 'ngpu': 1, 'groups': 1, 'num_classes': 10, 'weight_decay': 0.0005, 'epoch_step': '[60,120,160]', 'test_acc': 95.89999999999999, 'test_loss': 0.14090654518030865, 'train_time': 220.71370005607605, 'train_acc': 100.0, 'nthread': 4, 'lr_decay_ratio': 0.2, 'test_time': 13.819652080535889, 'width': 10.0, 'depth': 16, 'lr': 0.1, 'cuda': False, 'epoch': 191, 'dataroot': '.', 'model': 'resnet', 'save': './logs/resnet_20180204'}\n",
            "None\n",
            "==> id: ./logs/resnet_20180204 (191/200), test_acc: \u001b[91m95.90\u001b[0m\n"
          ],
          "name": "stdout"
        },
        {
          "output_type": "stream",
          "text": [
            "100%|██████████| 391/391 [03:40<00:00,  1.77it/s]\n",
            "  0%|          | 0/391 [00:00<?, ?it/s]"
          ],
          "name": "stderr"
        },
        {
          "output_type": "stream",
          "text": [
            "{'n_parameters': 17116634, 'train_loss': 0.002579051752627147, 'resume': './logs/resnet_20180204/model.pt7', 'dtype': 'float', 'gpu_id': '0', 'batch_size': 128, 'dataset': 'CIFAR10', 'epochs': 200, 'randomcrop_pad': 4, 'ngpu': 1, 'groups': 1, 'num_classes': 10, 'weight_decay': 0.0005, 'epoch_step': '[60,120,160]', 'test_acc': 95.86, 'test_loss': 0.14036529256573202, 'train_time': 220.5178349018097, 'train_acc': 100.0, 'nthread': 4, 'lr_decay_ratio': 0.2, 'test_time': 13.813482999801636, 'width': 10.0, 'depth': 16, 'lr': 0.1, 'cuda': False, 'epoch': 192, 'dataroot': '.', 'model': 'resnet', 'save': './logs/resnet_20180204'}\n",
            "None\n",
            "==> id: ./logs/resnet_20180204 (192/200), test_acc: \u001b[91m95.86\u001b[0m\n"
          ],
          "name": "stdout"
        },
        {
          "output_type": "stream",
          "text": [
            "100%|██████████| 391/391 [03:40<00:00,  1.77it/s]\n",
            "  0%|          | 0/391 [00:00<?, ?it/s]"
          ],
          "name": "stderr"
        },
        {
          "output_type": "stream",
          "text": [
            "{'n_parameters': 17116634, 'train_loss': 0.0026526111690208416, 'resume': './logs/resnet_20180204/model.pt7', 'dtype': 'float', 'gpu_id': '0', 'batch_size': 128, 'dataset': 'CIFAR10', 'epochs': 200, 'randomcrop_pad': 4, 'ngpu': 1, 'groups': 1, 'num_classes': 10, 'weight_decay': 0.0005, 'epoch_step': '[60,120,160]', 'test_acc': 95.81, 'test_loss': 0.1406380813333053, 'train_time': 220.7119688987732, 'train_acc': 100.0, 'nthread': 4, 'lr_decay_ratio': 0.2, 'test_time': 13.827490091323853, 'width': 10.0, 'depth': 16, 'lr': 0.1, 'cuda': False, 'epoch': 193, 'dataroot': '.', 'model': 'resnet', 'save': './logs/resnet_20180204'}\n",
            "None\n",
            "==> id: ./logs/resnet_20180204 (193/200), test_acc: \u001b[91m95.81\u001b[0m\n"
          ],
          "name": "stdout"
        },
        {
          "output_type": "stream",
          "text": [
            "100%|██████████| 391/391 [03:40<00:00,  1.77it/s]\n",
            "  0%|          | 0/391 [00:00<?, ?it/s]"
          ],
          "name": "stderr"
        },
        {
          "output_type": "stream",
          "text": [
            "{'n_parameters': 17116634, 'train_loss': 0.0025952121021364217, 'resume': './logs/resnet_20180204/model.pt7', 'dtype': 'float', 'gpu_id': '0', 'batch_size': 128, 'dataset': 'CIFAR10', 'epochs': 200, 'randomcrop_pad': 4, 'ngpu': 1, 'groups': 1, 'num_classes': 10, 'weight_decay': 0.0005, 'epoch_step': '[60,120,160]', 'test_acc': 95.89999999999999, 'test_loss': 0.14038072564179385, 'train_time': 220.60913491249084, 'train_acc': 100.0, 'nthread': 4, 'lr_decay_ratio': 0.2, 'test_time': 13.831974983215332, 'width': 10.0, 'depth': 16, 'lr': 0.1, 'cuda': False, 'epoch': 194, 'dataroot': '.', 'model': 'resnet', 'save': './logs/resnet_20180204'}\n",
            "None\n",
            "==> id: ./logs/resnet_20180204 (194/200), test_acc: \u001b[91m95.90\u001b[0m\n"
          ],
          "name": "stdout"
        },
        {
          "output_type": "stream",
          "text": [
            "100%|██████████| 391/391 [03:40<00:00,  1.77it/s]\n",
            "  0%|          | 0/391 [00:00<?, ?it/s]"
          ],
          "name": "stderr"
        },
        {
          "output_type": "stream",
          "text": [
            "{'n_parameters': 17116634, 'train_loss': 0.0025417507582051156, 'resume': './logs/resnet_20180204/model.pt7', 'dtype': 'float', 'gpu_id': '0', 'batch_size': 128, 'dataset': 'CIFAR10', 'epochs': 200, 'randomcrop_pad': 4, 'ngpu': 1, 'groups': 1, 'num_classes': 10, 'weight_decay': 0.0005, 'epoch_step': '[60,120,160]', 'test_acc': 95.8, 'test_loss': 0.14132607874425152, 'train_time': 220.59217500686646, 'train_acc': 100.0, 'nthread': 4, 'lr_decay_ratio': 0.2, 'test_time': 13.817340850830078, 'width': 10.0, 'depth': 16, 'lr': 0.1, 'cuda': False, 'epoch': 195, 'dataroot': '.', 'model': 'resnet', 'save': './logs/resnet_20180204'}\n",
            "None\n",
            "==> id: ./logs/resnet_20180204 (195/200), test_acc: \u001b[91m95.80\u001b[0m\n"
          ],
          "name": "stdout"
        },
        {
          "output_type": "stream",
          "text": [
            "100%|██████████| 391/391 [03:40<00:00,  1.77it/s]\n",
            "  0%|          | 0/391 [00:00<?, ?it/s]"
          ],
          "name": "stderr"
        },
        {
          "output_type": "stream",
          "text": [
            "{'n_parameters': 17116634, 'train_loss': 0.002603841203269656, 'resume': './logs/resnet_20180204/model.pt7', 'dtype': 'float', 'gpu_id': '0', 'batch_size': 128, 'dataset': 'CIFAR10', 'epochs': 200, 'randomcrop_pad': 4, 'ngpu': 1, 'groups': 1, 'num_classes': 10, 'weight_decay': 0.0005, 'epoch_step': '[60,120,160]', 'test_acc': 95.92, 'test_loss': 0.14012336914863763, 'train_time': 220.67656993865967, 'train_acc': 99.998, 'nthread': 4, 'lr_decay_ratio': 0.2, 'test_time': 13.841563940048218, 'width': 10.0, 'depth': 16, 'lr': 0.1, 'cuda': False, 'epoch': 196, 'dataroot': '.', 'model': 'resnet', 'save': './logs/resnet_20180204'}\n",
            "None\n",
            "==> id: ./logs/resnet_20180204 (196/200), test_acc: \u001b[91m95.92\u001b[0m\n"
          ],
          "name": "stdout"
        },
        {
          "output_type": "stream",
          "text": [
            "100%|██████████| 391/391 [03:40<00:00,  1.77it/s]\n",
            "  0%|          | 0/391 [00:00<?, ?it/s]"
          ],
          "name": "stderr"
        },
        {
          "output_type": "stream",
          "text": [
            "{'n_parameters': 17116634, 'train_loss': 0.0025356626828841843, 'resume': './logs/resnet_20180204/model.pt7', 'dtype': 'float', 'gpu_id': '0', 'batch_size': 128, 'dataset': 'CIFAR10', 'epochs': 200, 'randomcrop_pad': 4, 'ngpu': 1, 'groups': 1, 'num_classes': 10, 'weight_decay': 0.0005, 'epoch_step': '[60,120,160]', 'test_acc': 95.87, 'test_loss': 0.14092970502716076, 'train_time': 220.60122084617615, 'train_acc': 100.0, 'nthread': 4, 'lr_decay_ratio': 0.2, 'test_time': 13.804426908493042, 'width': 10.0, 'depth': 16, 'lr': 0.1, 'cuda': False, 'epoch': 197, 'dataroot': '.', 'model': 'resnet', 'save': './logs/resnet_20180204'}\n",
            "None\n",
            "==> id: ./logs/resnet_20180204 (197/200), test_acc: \u001b[91m95.87\u001b[0m\n"
          ],
          "name": "stdout"
        },
        {
          "output_type": "stream",
          "text": [
            "100%|██████████| 391/391 [03:40<00:00,  1.77it/s]\n",
            "  0%|          | 0/391 [00:00<?, ?it/s]"
          ],
          "name": "stderr"
        },
        {
          "output_type": "stream",
          "text": [
            "{'n_parameters': 17116634, 'train_loss': 0.0025668436636948214, 'resume': './logs/resnet_20180204/model.pt7', 'dtype': 'float', 'gpu_id': '0', 'batch_size': 128, 'dataset': 'CIFAR10', 'epochs': 200, 'randomcrop_pad': 4, 'ngpu': 1, 'groups': 1, 'num_classes': 10, 'weight_decay': 0.0005, 'epoch_step': '[60,120,160]', 'test_acc': 95.82000000000001, 'test_loss': 0.14256643357722068, 'train_time': 220.59459710121155, 'train_acc': 99.998, 'nthread': 4, 'lr_decay_ratio': 0.2, 'test_time': 13.858798027038574, 'width': 10.0, 'depth': 16, 'lr': 0.1, 'cuda': False, 'epoch': 198, 'dataroot': '.', 'model': 'resnet', 'save': './logs/resnet_20180204'}\n",
            "None\n",
            "==> id: ./logs/resnet_20180204 (198/200), test_acc: \u001b[91m95.82\u001b[0m\n"
          ],
          "name": "stdout"
        },
        {
          "output_type": "stream",
          "text": [
            "100%|██████████| 391/391 [03:40<00:00,  1.77it/s]\n",
            "  0%|          | 0/391 [00:00<?, ?it/s]"
          ],
          "name": "stderr"
        },
        {
          "output_type": "stream",
          "text": [
            "{'n_parameters': 17116634, 'train_loss': 0.002551954165767984, 'resume': './logs/resnet_20180204/model.pt7', 'dtype': 'float', 'gpu_id': '0', 'batch_size': 128, 'dataset': 'CIFAR10', 'epochs': 200, 'randomcrop_pad': 4, 'ngpu': 1, 'groups': 1, 'num_classes': 10, 'weight_decay': 0.0005, 'epoch_step': '[60,120,160]', 'test_acc': 95.93, 'test_loss': 0.1414062593462347, 'train_time': 220.5372290611267, 'train_acc': 100.0, 'nthread': 4, 'lr_decay_ratio': 0.2, 'test_time': 13.845187902450562, 'width': 10.0, 'depth': 16, 'lr': 0.1, 'cuda': False, 'epoch': 199, 'dataroot': '.', 'model': 'resnet', 'save': './logs/resnet_20180204'}\n",
            "None\n",
            "==> id: ./logs/resnet_20180204 (199/200), test_acc: \u001b[91m95.93\u001b[0m\n"
          ],
          "name": "stdout"
        },
        {
          "output_type": "stream",
          "text": [
            "100%|██████████| 391/391 [03:40<00:00,  1.77it/s]\n"
          ],
          "name": "stderr"
        },
        {
          "output_type": "stream",
          "text": [
            "{'n_parameters': 17116634, 'train_loss': 0.002537619560728292, 'resume': './logs/resnet_20180204/model.pt7', 'dtype': 'float', 'gpu_id': '0', 'batch_size': 128, 'dataset': 'CIFAR10', 'epochs': 200, 'randomcrop_pad': 4, 'ngpu': 1, 'groups': 1, 'num_classes': 10, 'weight_decay': 0.0005, 'epoch_step': '[60,120,160]', 'test_acc': 95.78999999999999, 'test_loss': 0.14056562288086624, 'train_time': 220.6360969543457, 'train_acc': 100.0, 'nthread': 4, 'lr_decay_ratio': 0.2, 'test_time': 13.885889053344727, 'width': 10.0, 'depth': 16, 'lr': 0.1, 'cuda': False, 'epoch': 200, 'dataroot': '.', 'model': 'resnet', 'save': './logs/resnet_20180204'}\n",
            "None\n",
            "==> id: ./logs/resnet_20180204 (200/200), test_acc: \u001b[91m95.79\u001b[0m\n"
          ],
          "name": "stdout"
        }
      ]
    }
  ]
}